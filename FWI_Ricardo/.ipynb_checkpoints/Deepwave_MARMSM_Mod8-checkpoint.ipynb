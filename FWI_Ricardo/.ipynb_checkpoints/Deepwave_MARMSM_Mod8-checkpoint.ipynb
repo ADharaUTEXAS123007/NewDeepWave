{
 "cells": [
  {
   "cell_type": "markdown",
   "metadata": {
    "colab_type": "text",
    "id": "GUNOgiEYK7VS"
   },
   "source": [
    "# Deepwave FWI  Test_Adam_Marm_151_401_shuffling_lr=4\n",
    "\n",
    "### Adapted by Ricardo de Bragança in Nov 06th, 2020\n",
    "from:\n",
    "Janaki Vamaraju LSRTM codes and \n",
    "Deepwave FWI Example by Alan Richardson (Ausar Geophysical)"
   ]
  },
  {
   "cell_type": "code",
   "execution_count": 1,
   "metadata": {},
   "outputs": [],
   "source": [
    "#Save the below parameters to output.txt file\n",
    "%logstart -o -r -t -q output.txt rotate"
   ]
  },
  {
   "cell_type": "code",
   "execution_count": 2,
   "metadata": {},
   "outputs": [],
   "source": [
    "# General info\n",
    "# using Adam Optimization\n",
    "# Shuffling sources every epoch\n",
    "# SCHUSTER's MARMOUSI MODEL\n",
    "\n",
    "# General parameters\n",
    "GPU=1      # which GPU to use\n",
    "plot=False # Plot Intermediate results\n",
    "sigma=30   # Initial model smoothness  \n",
    "\n",
    "# Inversion parameters\n",
    "num_batches = 32\n",
    "num_epochs = 5000\n",
    "\n",
    "#gamma = 300  # Does not apply, Adam uses lr (learning rate) instead of gamma\n",
    "# Adam learning rate\n",
    "lr = 4\n",
    "\n",
    "# Modeling parameters\n",
    "freq = 14\n",
    "dx = 10\n",
    "dt = 0.001\n",
    "nt = 4001\n",
    "num_shots = 32\n",
    "num_receivers_per_shot = 200\n",
    "\n",
    "# receiver_spacing = # computed below from ny,dx and num_receivers_per_shot\n",
    "\n",
    "# Close the ouput.txt file with saved parameters\n",
    "%logstop "
   ]
  },
  {
   "cell_type": "code",
   "execution_count": 4,
   "metadata": {
    "colab": {},
    "colab_type": "code",
    "id": "Rt4YffFf1zJl"
   },
   "outputs": [],
   "source": [
    "# Need to restart runtime before this step\n",
    "import time\n",
    "import torch\n",
    "import numpy as np\n",
    "import scipy.ndimage\n",
    "import scipy.io\n",
    "import matplotlib.pyplot as plt\n",
    "import deepwave\n",
    "import os\n",
    "import csv"
   ]
  },
  {
   "cell_type": "code",
   "execution_count": 5,
   "metadata": {},
   "outputs": [
    {
     "name": "stdout",
     "output_type": "stream",
     "text": [
      "vmin= 1500.0 vmax= 3550.000244140625 vmed= 2525.0001220703125 vwidth= 1025.0001220703125\n"
     ]
    }
   ],
   "source": [
    "#plot=True\n",
    "# Load the true model\n",
    "filename='Marm151_401.mat'\n",
    "mat=scipy.io.loadmat(filename)['vel']\n",
    "#mat = np.loadtxt('marmhard2.dat')\n",
    "#mat = np.pad(mat,((10,0),(0,0)),'edge') #RB add some water layer\n",
    "#RB Get model size\n",
    "ny = np.size(mat,1);\n",
    "nz = np.size(mat,0);\n",
    "#RB compute true model mean value and width for future model normalization\n",
    "max=np.max(mat)\n",
    "min=np.min(mat)\n",
    "med=(max+min)/2.\n",
    "wid=(max-min)/2.\n",
    "\n",
    "print('vmin=',min,'vmax=',max,'vmed=',med,'vwidth=',wid)\n"
   ]
  },
  {
   "cell_type": "code",
   "execution_count": 6,
   "metadata": {},
   "outputs": [],
   "source": [
    "if plot==True:\n",
    "    plt.figure(figsize=(12, 3))\n",
    "    plt.imshow(mat,vmin=min,vmax=max, aspect=1)\n",
    "    plt.title('True model')\n",
    "    plt.colorbar()"
   ]
  },
  {
   "cell_type": "code",
   "execution_count": 7,
   "metadata": {},
   "outputs": [],
   "source": [
    "#RB Open file to write results\n",
    "f = open('marmsm_Mod8_log.txt','a+')\n",
    "writer = csv.writer(f)\n",
    "\n",
    "#RB Write header\n",
    "fields=['Epoch','it','loss.item','epoch_loss','it_lap','epoch_lap']\n",
    "writer.writerow(fields)\n",
    "f.flush()\n",
    "os.fsync(f)"
   ]
  },
  {
   "cell_type": "code",
   "execution_count": 8,
   "metadata": {},
   "outputs": [
    {
     "name": "stderr",
     "output_type": "stream",
     "text": [
      "/home/student/adhara/miniconda3/envs/deepwave/lib/python3.7/site-packages/torch/cuda/__init__.py:106: UserWarning: \n",
      "NVIDIA RTX A5000 with CUDA capability sm_86 is not compatible with the current PyTorch installation.\n",
      "The current PyTorch install supports CUDA capabilities sm_37 sm_50 sm_60 sm_61 sm_70 sm_75 compute_37.\n",
      "If you want to use the NVIDIA RTX A5000 GPU with PyTorch, please check the instructions at https://pytorch.org/get-started/locally/\n",
      "\n",
      "  warnings.warn(incompatible_device_warn.format(device_name, capability, \" \".join(arch_list), device_name))\n"
     ]
    }
   ],
   "source": [
    "# Specify which GPU to use (in multi GPU machines)\n",
    "torch.cuda.set_device(GPU)  #RB Necessary if device <> 0\n",
    "GPU_string='cuda:'+str(GPU)\n",
    "device = torch.device(GPU_string)"
   ]
  },
  {
   "cell_type": "code",
   "execution_count": 8,
   "metadata": {
    "colab": {},
    "colab_type": "code",
    "id": "YMvR-Hqv11e9"
   },
   "outputs": [
    {
     "name": "stdout",
     "output_type": "stream",
     "text": [
      "ny= 401 nz= 151 nt= 4001 dx= 10 freq= 14\n",
      "shots= 32 recs/shot= 200 ds= 125.3125 dr= 20.05\n"
     ]
    }
   ],
   "source": [
    "# Set parameters\n",
    "##freq = 14\n",
    "##dx = 10\n",
    "##dt = 0.001\n",
    "\n",
    "#RB nt = int(2 / dt) # 2s\n",
    "#nt = int(0.9 * int(np.sqrt((nz*dx)**2 + (ny*dx)**2) / 2000 / dt))\n",
    "#nt =       3 * int(np.sqrt((nz*dx)**2 + (ny*dx)**2) / 2000 / dt)\n",
    "##nt = 4001\n",
    "\n",
    "num_dims = 2\n",
    "#num_shots = 32\n",
    "num_sources_per_shot = 1\n",
    "#num_receivers_per_shot = 200\n",
    "\n",
    "#RB source_spacing = 25.0\n",
    "#RB receiver_spacing = 10.0\n",
    "source_spacing = ny * dx / num_shots\n",
    "receiver_spacing = ny * dx / num_receivers_per_shot\n",
    "#receiver_spacing = 8.\n",
    "\n",
    "print('ny=',ny,'nz=',nz,'nt=',nt,'dx=',dx,'freq=',freq)\n",
    "print('shots=',num_shots,'recs/shot=',num_receivers_per_shot, \\\n",
    "      'ds=',source_spacing,'dr=',receiver_spacing)\n"
   ]
  },
  {
   "cell_type": "code",
   "execution_count": 9,
   "metadata": {
    "colab": {},
    "colab_type": "code",
    "id": "aE40Gcx413Sj"
   },
   "outputs": [],
   "source": [
    "# Create arrays containing the source and receiver locations\n",
    "# x_s: Source locations [num_shots, num_sources_per_shot, num_dimensions]\n",
    "# x_r: Receiver locations [num_shots, num_receivers_per_shot, num_dimensions]\n",
    "x_s = torch.zeros(num_shots, num_sources_per_shot, num_dims)\n",
    "x_s[:, 0, 1] = torch.arange(num_shots).float() * source_spacing\n",
    "#x_s[:, 0, 0] = 100. #RB Set source depth\n",
    "\n",
    "x_r = torch.zeros(num_shots, num_receivers_per_shot, num_dims)\n",
    "x_r[0, :, 1] = torch.arange(num_receivers_per_shot).float() * receiver_spacing\n",
    "x_r[:, :, 1] = x_r[0, :, 1].repeat(num_shots, 1)\n",
    "\n",
    "#RB Shuffle shot coordinates\n",
    "###idx = torch.randperm(num_shots)\n",
    "###x_s = x_s.view(-1,2)[idx].view(x_s.size())\n",
    "\n",
    "#RB Set Receiver depth\n",
    "#x_r[0, :, 0] = 100.\n",
    "#x_r[:, :, 0] = x_r[0, :, 0].repeat(num_shots, 1)\n",
    "\n",
    "# Create true source amplitudes [nt, num_shots, num_sources_per_shot]\n",
    "# I use Deepwave's Ricker wavelet function. The result is a normal Tensor - you\n",
    "# can use whatever Tensor you want as the source amplitude.\n",
    "source_amplitudes_true = (deepwave.wavelets.ricker(freq, nt, dt, 1/freq)\n",
    "                          .reshape(-1, 1, 1)\n",
    "                          .repeat(1, num_shots, num_sources_per_shot))"
   ]
  },
  {
   "cell_type": "code",
   "execution_count": 10,
   "metadata": {},
   "outputs": [
    {
     "data": {
      "text/plain": [
       "[<matplotlib.lines.Line2D at 0x7f52f0278ac8>]"
      ]
     },
     "execution_count": 10,
     "metadata": {},
     "output_type": "execute_result"
    },
    {
     "data": {
      "image/png": "[encoded data removed]",
      "text/plain": [
       "<Figure size 432x288 with 1 Axes>"
      ]
     },
     "metadata": {
      "needs_background": "light"
     },
     "output_type": "display_data"
    }
   ],
   "source": [
    "plt.plot(source_amplitudes_true[:180,0,0])"
   ]
  },
  {
   "cell_type": "code",
   "execution_count": 11,
   "metadata": {
    "colab": {},
    "colab_type": "code",
    "id": "N2dbGVKx16J2"
   },
   "outputs": [],
   "source": [
    "#RB Generate a cte velocy model (with water velocity)\n",
    "mat2 = np.ones((nz,ny),np.float32)*1500.\n",
    "mat2[nz-1,int(ny/2)]=max  # put a pixel with true upper velocity to fix a propagator problem\n"
   ]
  },
  {
   "cell_type": "code",
   "execution_count": 12,
   "metadata": {},
   "outputs": [],
   "source": [
    "if plot==True:\n",
    "    plt.figure(figsize=(12, 3))\n",
    "    plt.imshow(mat2,vmin=min,vmax=max, aspect=1)\n",
    "    plt.title('Uniform')\n",
    "    plt.colorbar()"
   ]
  },
  {
   "cell_type": "code",
   "execution_count": 13,
   "metadata": {},
   "outputs": [],
   "source": [
    "#RB Convert models to PyTorch Tensors\n",
    "model_true = torch.Tensor(mat) # Convert to a PyTorch Tensor\n",
    "model_cte = torch.Tensor(mat2) # Convert to a PyTorch Tensor"
   ]
  },
  {
   "cell_type": "code",
   "execution_count": 14,
   "metadata": {
    "colab": {},
    "colab_type": "code",
    "id": "zfjDVs6Q17k2"
   },
   "outputs": [],
   "source": [
    "###### Create 'true' data \n",
    "prop = deepwave.scalar.Propagator({'vp': model_true.to(device)}, dx)\n",
    "receiver_amplitudes_all = prop(source_amplitudes_true.to(device),\n",
    "                                x_s.to(device),\n",
    "                                x_r.to(device), dt).cpu()"
   ]
  },
  {
   "cell_type": "code",
   "execution_count": 15,
   "metadata": {},
   "outputs": [],
   "source": [
    "if plot==True:\n",
    "    plt.figure(figsize=(12, 3))\n",
    "    plt.imshow(receiver_amplitudes_all[:,2].cpu().detach().numpy(),vmin=-.05,vmax=.05, aspect='auto')\n",
    "    plt.title('Model seismogram')"
   ]
  },
  {
   "cell_type": "code",
   "execution_count": 16,
   "metadata": {},
   "outputs": [],
   "source": [
    "# Create direct arrivals data\n",
    "prop2 = deepwave.scalar.Propagator({'vp': model_cte.to(device)}, dx)\n",
    "receiver_amplitudes_cte = prop2(source_amplitudes_true.to(device),\n",
    "                                x_s.to(device),\n",
    "                                x_r.to(device), dt).cpu()"
   ]
  },
  {
   "cell_type": "code",
   "execution_count": 17,
   "metadata": {},
   "outputs": [],
   "source": [
    "if plot==True:\n",
    "    plt.figure(figsize=(12, 3))\n",
    "    plt.imshow(receiver_amplitudes_cte[:,2].cpu().detach().numpy(),vmin=-.05,vmax=.05, aspect='auto')\n",
    "    plt.title('Direct wave seismogram')"
   ]
  },
  {
   "cell_type": "code",
   "execution_count": 18,
   "metadata": {},
   "outputs": [],
   "source": [
    "# Exclude direct waves from true data (they don't bring info from subsurface)\n",
    "receiver_amplitudes_true = receiver_amplitudes_all - receiver_amplitudes_cte"
   ]
  },
  {
   "cell_type": "code",
   "execution_count": 19,
   "metadata": {},
   "outputs": [],
   "source": [
    "if plot==True:\n",
    "    plt.figure(figsize=(12, 3))\n",
    "    plt.imshow(receiver_amplitudes_true[:,2].cpu().detach().numpy(),vmin=-.05,vmax=.05, aspect='auto')\n",
    "    plt.title('Model seismogram w direct waves removed')"
   ]
  },
  {
   "cell_type": "code",
   "execution_count": 20,
   "metadata": {
    "colab": {
     "base_uri": "https://localhost:8080/",
     "height": 34
    },
    "colab_type": "code",
    "id": "WriJROlj2fUb",
    "outputId": "558d572d-d34f-4635-d606-2fd2a1476a8b"
   },
   "outputs": [
    {
     "data": {
      "text/plain": [
       "torch.Size([4001, 32, 200])"
      ]
     },
     "execution_count": 20,
     "metadata": {},
     "output_type": "execute_result"
    }
   ],
   "source": [
    "# Verify that the returned receiver amplitudes have shape\n",
    "# [nt, num_shots, num_receivers_per_shot]\n",
    "receiver_amplitudes_true.shape"
   ]
  },
  {
   "cell_type": "code",
   "execution_count": 21,
   "metadata": {},
   "outputs": [],
   "source": [
    "#RB Create a smoothed model\n",
    "\n",
    "#RB start with true model\n",
    "mat3 = np.copy(mat)\n",
    "#RB Filter image heavly\n",
    "mat3 = scipy.ndimage.gaussian_filter(mat3,sigma=sigma) #10,50  #5%,10%\n",
    "if plot==True:\n",
    "    plt.figure(figsize=(12, 3))\n",
    "    plt.imshow(mat3,vmin=min,vmax=max)\n",
    "    plt.title('mat3 smoothed from true model')\n",
    "    plt.colorbar()\n",
    "    \n",
    "#RB Force water table to be 1500 m/s (avoid imperfect direct wav removal)    \n",
    "mat3[0:26,:]=1500.\n",
    "\n",
    "#RB Plot model\n",
    "if plot==True:\n",
    "    plt.figure(figsize=(12, 3))\n",
    "    plt.imshow(mat3,vmin=min,vmax=max)\n",
    "    plt.title('mat3 fixed water table')\n",
    "    plt.colorbar()\n",
    "\n",
    "#RB We may want to smooth the water table transition\n",
    "#RB but I think it's a bad idea (not tested)\n",
    "# mat3 = scipy.ndimage.gaussian_filter(mat3,sigma=4)\n",
    "\n",
    "#RB Optionally we may import a initial model from file\n",
    "#filename='Marm151_401_smooth.mat'\n",
    "#mat3=scipy.io.loadmat(filename)['vel0']\n",
    "\n",
    "#RB Ensure that the initial model has the same range of the true model by\n",
    "#RB forcing one of its slowest pixel to have the true's model lower velocity and\n",
    "#RB forcing one of its fastest pixel to have the true's model upper velocity\n",
    "#RB find max & min values of mat3\n",
    "smin=np.min(mat3)\n",
    "smax=np.max(mat3)\n",
    "indmin = np.where(mat3==smin)\n",
    "indmax = np.where(mat3==smax)\n",
    "# Take first pixel with minimum velocity and force it to true's model minimum velocity\n",
    "mat3[indmin[0][0],indmin[1][0]]=min\n",
    "# Take first pixel with maximum velocity and force it to true's model maximum velocity\n",
    "mat3[indmax[0][0],indmax[1][0]]=max"
   ]
  },
  {
   "cell_type": "code",
   "execution_count": 22,
   "metadata": {},
   "outputs": [],
   "source": [
    "#RB Plot the initial model\n",
    "if plot==True:\n",
    "    plt.figure(figsize=(12, 3))\n",
    "    plt.imshow(mat3,vmin=min,vmax=max)\n",
    "    plt.title('mat3 after 2nd filter (if applied)')\n",
    "    plt.colorbar()"
   ]
  },
  {
   "cell_type": "code",
   "execution_count": 23,
   "metadata": {},
   "outputs": [
    {
     "name": "stdout",
     "output_type": "stream",
     "text": [
      "3550.000244140625 1500.0\n",
      "should be:\n",
      "3550.000244140625 1500.0\n"
     ]
    }
   ],
   "source": [
    "#RB Check if it have the same max and min velocities of true model\n",
    "smin=np.min(mat3)\n",
    "smax=np.max(mat3)\n",
    "print(smax,smin)\n",
    "print('should be:')\n",
    "print(max,min)"
   ]
  },
  {
   "cell_type": "code",
   "execution_count": 24,
   "metadata": {},
   "outputs": [],
   "source": [
    "#RB Save true and initial model to file\n",
    "filename='Marm_Mod8_models.mat'\n",
    "scipy.io.savemat(filename, mdict={'True':mat, 'Init':mat3}) "
   ]
  },
  {
   "cell_type": "code",
   "execution_count": 25,
   "metadata": {},
   "outputs": [],
   "source": [
    "#RB Normalize initial model to (-1,1) range\n",
    "#model_init = (mat3-med)/wid\n",
    "#RB_No_normalization\n",
    "model_init = mat3"
   ]
  },
  {
   "cell_type": "code",
   "execution_count": 26,
   "metadata": {},
   "outputs": [],
   "source": [
    "#if plot==True:\n",
    "    #plt.figure(figsize=(12, 3))\n",
    "    #plt.imshow(model_init,vmin=-1,vmax=1)\n",
    "    #plt.title('model_init in (-1,+1) range for inversion')\n",
    "    #plt.colorbar()"
   ]
  },
  {
   "cell_type": "code",
   "execution_count": 27,
   "metadata": {},
   "outputs": [],
   "source": [
    "# Convert to Pytorch tensor\n",
    "#model_init = torch.from_numpy(np.float32(model_init))\n",
    "model_init = torch.Tensor(model_init)\n",
    "\n",
    "# Make a copy so at the end we can see how far we came from the initial model\n",
    "model = model_init.clone()\n",
    "model = model.to(device)\n",
    "model.requires_grad = True"
   ]
  },
  {
   "cell_type": "code",
   "execution_count": 28,
   "metadata": {
    "colab": {},
    "colab_type": "code",
    "id": "ShSHUhuw5Ns2"
   },
   "outputs": [],
   "source": [
    "#RB AS I am not inverting for source, I could just do\n",
    "#RB source_amplitudes = source_amplitudes_true.clone().to(device)\n",
    "#RB instead of all code below\n",
    "\n",
    "# Create initial guess source amplitude for inversion\n",
    "# I will assume that the true source amplitude is the same for every shot\n",
    "# so I will just create one source amplitude, and PyTorch will backpropagate\n",
    "# updates to it from every shot\n",
    "source_amplitudes_init = (deepwave.wavelets.ricker(freq, nt, dt, 1/freq)\n",
    "                          .reshape(-1, 1, 1))\n",
    "source_amplitudes = source_amplitudes_init.clone()\n",
    "source_amplitudes = source_amplitudes.to(device)\n",
    "#source_amplitudes.requires_grad_(); # Alternative way of requiring gradient"
   ]
  },
  {
   "cell_type": "code",
   "execution_count": 29,
   "metadata": {
    "colab": {},
    "colab_type": "code",
    "id": "yhmKrFU28ZPw"
   },
   "outputs": [],
   "source": [
    "# To demonstrate chaining operations, during the inversion I will normalise the\n",
    "# predicted receiver amplitudes so that each trace has a maximum value of 1.\n",
    "# This will be compared (in the cost function) with the true data that has been\n",
    "# similarly scaled. I apply that scaling to the true data now.\n",
    "# This sort of scaling might be useful for real data where the absolute\n",
    "# amplitudes are often not meaningful.\n",
    "rcv_amps_true_max, _ = receiver_amplitudes_true.max(dim=0, keepdim=True)\n",
    "rcv_amps_true_norm = receiver_amplitudes_true / rcv_amps_true_max"
   ]
  },
  {
   "cell_type": "code",
   "execution_count": 30,
   "metadata": {
    "colab": {},
    "colab_type": "code",
    "id": "0M_yOGfd1_cm"
   },
   "outputs": [],
   "source": [
    "# Set-up inversion\n",
    "#gamma = 300\n",
    "criterion = torch.nn.MSELoss()\n",
    "#RB optimizer = torch.optim.SGD([{'params': model }],lr = 100000., momentum=0)\n",
    "optimizer = torch.optim.Adam([{'params': [model], 'lr': lr}])"
   ]
  },
  {
   "cell_type": "code",
   "execution_count": null,
   "metadata": {
    "colab": {
     "base_uri": "https://localhost:8080/",
     "height": 1300
    },
    "colab_type": "code",
    "id": "vAvmIk082BJ8",
    "outputId": "6aaae4ff-1d6d-45a5-9dcd-d4295a26eb66"
   },
   "outputs": [],
   "source": [
    "%%capture cap --no-stderr \n",
    "# The line above captures the output of this cell to the variable cap\n",
    "\n",
    "# Iterative inversion loop\n",
    "t_start = time.time()\n",
    "\n",
    "##num_batches = 32 # split data into batches for speed and reduced memory use\n",
    "num_shots_per_batch = int(num_shots / num_batches)\n",
    "##num_epochs = 1000 # Pass through the entire dataset 30 times\n",
    "\n",
    "#vmin, vmax = np.percentile(model_true.numpy(), [2,98]) # For plotting\n",
    "vmin = min\n",
    "vmax = max\n",
    "#vmin=-1\n",
    "#vmax= 1\n",
    "# Temperature coefficient\n",
    "##Tk =50\n",
    "\n",
    "\n",
    "\n",
    "for epoch in range(num_epochs):\n",
    "    ep_start=time.time()\n",
    "    print('Processing Epoch:',epoch)\n",
    "    epoch_loss = 0.0\n",
    "    \n",
    "    #RB Shuffle shot coordinates\n",
    "    idx = torch.randperm(num_shots)\n",
    "    x_s = x_s.view(-1,2)[idx].view(x_s.size())\n",
    "    #RB Shuffle true's seismograms sources with same random values\n",
    "    rcv_amps_true_norm = rcv_amps_true_norm[:,idx,:]\n",
    "    #RB Shuffle direct wave seismograms sources with the same random values\n",
    "    receiver_amplitudes_cte = receiver_amplitudes_cte[:,idx,:]\n",
    "    \n",
    "    for it in range(num_batches):\n",
    "        it_start = time.time()\n",
    "        ###print('    Processing Batch:',it,' of', num_batches)\n",
    "        \n",
    "        optimizer.zero_grad()\n",
    "        #if model.grad is not None:\n",
    "        #    model.grad.data.zero_()\n",
    "        #    print('Preexinting Model Grad zeroed')\n",
    "            \n",
    "        #RB Denormalize model to perform forward propagation\n",
    "        #model2=model*wid+med\n",
    "        #RB or no denormalization if using Adam\n",
    "        model2=model.clone()\n",
    "        #RB Clamp the model within acceptable range\n",
    "        model2=torch.clamp(model,min=min,max=max)        \n",
    "        \n",
    "        #RB Make sure the model have same range of velocities of true's model (fix propag issue)\n",
    "        #RB forcing one of its slowest pixel to have the true's model lower velocity and\n",
    "        #RB forcing one of its fastest pixel to have the true's model upper velocity       \n",
    "        #RB find max & min values of model2\n",
    "        smin=torch.min(model2)\n",
    "        smax=torch.max(model2)\n",
    "        indmin = torch.where(model2==smin)\n",
    "        indmax = torch.where(model2==smax)\n",
    "        # Take first pixel with minimum velocity and force it to true's model minimum velocity\n",
    "        model2[indmin[0][0],indmin[1][0]]=min\n",
    "        # Take first pixel with maximum velocity and force it to true's model maximum velocity\n",
    "        model2[indmax[0][0],indmax[1][0]]=max\n",
    "        \n",
    "        prop3 = deepwave.scalar.Propagator({'vp': model2}, dx)\n",
    "        batch_src_amps = source_amplitudes.repeat(1, num_shots_per_batch, 1)\n",
    "        batch_rcv_amps_true = rcv_amps_true_norm[:,it::num_batches].to(device)\n",
    "        \n",
    "        #RB Alternative normalization (normalizing to dTrue amplitude range)\n",
    "        #batch_rcv_amps_true_max, _ = batch_rcv_amps_true.max(dim=0, keepdim=True)\n",
    "        \n",
    "        #RB get the seismogram of the direct wave for current batch\n",
    "        batch_rcv_amps_cte = receiver_amplitudes_cte[:,it::num_batches].to(device)\n",
    "        \n",
    "        #RB get the current batch source & receiver coordinates\n",
    "        batch_x_s = x_s[it::num_batches].to(device)\n",
    "        batch_x_r = x_r[it::num_batches].to(device)\n",
    "\n",
    "        #print('FWD Propag')\n",
    "        #timer_a = time.time()\n",
    "        \n",
    "        batch_rcv_amps_pred = prop3(batch_src_amps, batch_x_s, batch_x_r, dt)\n",
    "        \n",
    "        #RB Subtract direct wave on all seismograms of current batch\n",
    "        batch_rcv_amps_pred = batch_rcv_amps_pred - batch_rcv_amps_cte\n",
    "        \n",
    "        #RB Normalize\n",
    "        batch_rcv_amps_pred_max, _ = batch_rcv_amps_pred.max(dim=0, keepdim=True)\n",
    "        batch_rcv_amps_pred_norm = batch_rcv_amps_pred / batch_rcv_amps_pred_max\n",
    "        #RB Alternative normalization\n",
    "        #batch_rcv_amps_pred_norm = batch_rcv_amps_pred / batch_rcv_amps_true_max\n",
    "        \n",
    "        #RB ATTENTION: this line will be executed BEFORE GPU finish FWD computation\n",
    "        #RB Measured lab will be much shorter that real\n",
    "        #timer_b = time.time()\n",
    "        #print('Lap=',timer_b-timer_a)\n",
    "        \n",
    "        #print('Loss evaluation')\n",
    "        \n",
    "        #RB Prints for DEBUG purpose\n",
    "        #plt.imshow(batch_rcv_amps_true[:,0,:].cpu().detach().numpy(),vmin=-.05,vmax=.05, aspect='auto')\n",
    "        #plt.colorbar()\n",
    "        #plt.show()\n",
    "        #plt.imshow(batch_rcv_amps_cte[:,0,:].cpu().detach().numpy(),vmin=-.05,vmax=.05, aspect='auto')\n",
    "        #plt.colorbar()\n",
    "        #plt.show()\n",
    "        #plt.imshow(batch_rcv_amps_pred_norm[:,0,:].cpu().detach().numpy(),vmin=-.05,vmax=.05, aspect='auto')\n",
    "        #plt.colorbar()\n",
    "        #plt.show()\n",
    "\n",
    "        #plt.imshow(batch_rcv_amps_true[:,0,:].cpu().detach().numpy(), aspect='auto')\n",
    "        #plt.colorbar()\n",
    "        #plt.show()\n",
    "        #plt.imshow(batch_rcv_amps_cte[:,0,:].cpu().detach().numpy(), aspect='auto')\n",
    "        #plt.colorbar()\n",
    "        #plt.show()\n",
    "        #plt.imshow(batch_rcv_amps_pred_norm[:,0,:].cpu().detach().numpy(), aspect='auto')\n",
    "        #plt.colorbar()\n",
    "        #plt.show()        \n",
    "        \n",
    "        loss = criterion(batch_rcv_amps_pred_norm, batch_rcv_amps_true)            \n",
    "        epoch_loss += loss.item()\n",
    "        \n",
    "        #timer_a = time.time()\n",
    "        #print('Lap=',timer_a-timer_b)\n",
    "        \n",
    "        \n",
    "        #print('Backpropagation')\n",
    "    \n",
    "        loss.backward()\n",
    "        model.grad[0:26,:]=0.\n",
    "        \n",
    "        \n",
    "        #timer_b = time.time()\n",
    "        #print('Lap=',timer_b-timer_a)\n",
    "        \n",
    "        #RB Hill climbing factor computation\n",
    "        #low = 1-2*np.exp(-epoch/Tk)\n",
    "        #alpha = np.random.uniform(low=low,high=1)\n",
    "        #alpha = 1.\n",
    "        \n",
    "        #print('Model update')\n",
    "        #with torch.no_grad():                \n",
    "            #RB update model\n",
    "        #    model =  model - torch.tanh(alpha*gamma*model.grad)                \n",
    "        #model.requires_grad = True        \n",
    "        optimizer.step()\n",
    "        \n",
    "        \n",
    "        # Clamp model to acceptable range\n",
    "        #with torch.no_grad():\n",
    "        #    model=torch.clamp(model,min=min,max=max)\n",
    "        #model.requires_grad = True\n",
    "        \n",
    "        it_end = time.time()\n",
    "        #print('Lap=',it_end-timer_b)\n",
    "        \n",
    "        \n",
    "    #RB Write variables to file at each epoch\n",
    "    fields=[epoch,it,loss.item(),epoch_loss, it_end - it_start,it_end - ep_start]\n",
    "    writer.writerow(fields)\n",
    "    f.flush()\n",
    "    os.fsync(f)\n",
    "    \n",
    "    print('Epoch:', epoch, 'Loss: ', epoch_loss)\n",
    "    img = np.array(model.cpu().detach().numpy())\n",
    "\n",
    "    filename='Marmsm_Mod8_epoch_'+str(epoch)+'.mat'\n",
    "    scipy.io.savemat(filename, mdict={'Model': img})\n",
    "       \n",
    "    if epoch % 1 == 0:\n",
    "        \n",
    "        if plot==True:\n",
    "            plt.figure(figsize=(8, 4))\n",
    "            plt.imshow(model.cpu().detach().numpy(), vmin=vmin, vmax=vmax,cmap='viridis')\n",
    "            plt.show() \n",
    "    \n",
    "    epoch+=1\n",
    "\n",
    "t_end = time.time()\n",
    "print('Runtime:', t_end - t_start)"
   ]
  },
  {
   "cell_type": "code",
   "execution_count": null,
   "metadata": {
    "colab": {
     "base_uri": "https://localhost:8080/",
     "height": 1133
    },
    "colab_type": "code",
    "id": "lnhtTvyxnBSL",
    "outputId": "ff5a08cb-e8f6-4ea6-a97d-35a1015915aa"
   },
   "outputs": [],
   "source": [
    "# Plot initial, inverted, and true models\n",
    "if plot==True:\n",
    "    figsize = (12, 6)\n",
    "    plt.figure(figsize=figsize)\n",
    "    plt.imshow(model_init.numpy(), vmin=vmin, vmax=vmax, cmap='viridis')\n",
    "    plt.title('Initial');\n",
    "    plt.figure(figsize=figsize)\n",
    "    plt.imshow(model.cpu().detach().numpy(), vmin=vmin, vmax=vmax, cmap='viridis')\n",
    "    plt.title('Inverted');\n",
    "    plt.figure(figsize=figsize)\n",
    "    plt.imshow(model_true.numpy(), vmin=min, vmax=max, cmap='viridis')\n",
    "    plt.title('True');"
   ]
  },
  {
   "cell_type": "code",
   "execution_count": null,
   "metadata": {},
   "outputs": [],
   "source": [
    "%%capture cap2 --no-stderr\n",
    "# The line above captures the output of this cell to the variable cap2\n",
    "\n",
    "%whos"
   ]
  },
  {
   "cell_type": "code",
   "execution_count": null,
   "metadata": {},
   "outputs": [],
   "source": [
    "# Append cell's captured outputs to file output.txt\n",
    "with open('output.txt', 'a') as f:\n",
    "    f.write(cap.stdout)\n",
    "    f.write(cap2.stdout)"
   ]
  }
 ],
 "metadata": {
  "accelerator": "GPU",
  "colab": {
   "name": "Deepwave_SEAM_example1.ipynb",
   "provenance": []
  },
  "kernelspec": {
   "display_name": "Python 3 (ipykernel)",
   "language": "python",
   "name": "python3"
  },
  "language_info": {
   "codemirror_mode": {
    "name": "ipython",
    "version": 3
   },
   "file_extension": ".py",
   "mimetype": "text/x-python",
   "name": "python",
   "nbconvert_exporter": "python",
   "pygments_lexer": "ipython3",
   "version": "3.7.10"
  }
 },
 "nbformat": 4,
 "nbformat_minor": 1
}
