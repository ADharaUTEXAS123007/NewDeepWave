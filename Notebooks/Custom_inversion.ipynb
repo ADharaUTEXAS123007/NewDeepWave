{
 "cells": [
  {
   "cell_type": "code",
   "execution_count": 1,
   "id": "ab3aeb55",
   "metadata": {},
   "outputs": [],
   "source": [
    "import os\n",
    "from os.path import join as pjoin\n",
    "import collections\n",
    "import json\n",
    "import torch\n",
    "import numpy as np\n",
    "import matplotlib.pyplot as plt\n",
    "\n",
    "from torch.utils import data\n",
    "from PIL import Image\n",
    "from networkNew import AutoEncoder\n",
    "import torch.nn as nn\n",
    "import torch.nn.functional as F\n",
    "import torch.optim as optim\n",
    "import utils\n",
    "import csv"
   ]
  },
  {
   "cell_type": "code",
   "execution_count": 2,
   "id": "faaa105a",
   "metadata": {},
   "outputs": [
    {
     "data": {
      "text/plain": [
       "0"
      ]
     },
     "execution_count": 2,
     "metadata": {},
     "output_type": "execute_result"
    }
   ],
   "source": [
    "os.system('rm -rf loss_values.txt')"
   ]
  },
  {
   "cell_type": "code",
   "execution_count": 3,
   "id": "5d7017ef",
   "metadata": {},
   "outputs": [],
   "source": [
    "#RB Open file to write results\n",
    "f = open('loss_values.txt','a+')\n",
    "writer = csv.writer(f)\n",
    "\n",
    "#RB Write header\n",
    "fields=['Epoch','loss']\n",
    "writer.writerow(fields)\n",
    "f.flush()\n",
    "os.fsync(f)"
   ]
  },
  {
   "cell_type": "code",
   "execution_count": 4,
   "id": "ababd3fd",
   "metadata": {},
   "outputs": [],
   "source": [
    "device = 'cuda:0'"
   ]
  },
  {
   "cell_type": "code",
   "execution_count": 5,
   "id": "aa9f73f4",
   "metadata": {},
   "outputs": [],
   "source": [
    "def make_dataset(dir, max_dataset_size=float(\"inf\")):\n",
    "    images = []\n",
    "    assert os.path.isdir(dir), '%s is not a valid directory' % dir\n",
    "\n",
    "    for root, _, fnames in sorted(os.walk(dir)):\n",
    "        for fname in fnames:\n",
    "            path = os.path.join(root, fname)\n",
    "            images.append(path)\n",
    "    return images[:min(max_dataset_size, len(images))]"
   ]
  },
  {
   "cell_type": "code",
   "execution_count": 6,
   "id": "e2edf2e4",
   "metadata": {},
   "outputs": [],
   "source": [
    "class CustomDataLoader(data.Dataset):\n",
    "    \"\"\" A dataset loader class\"\"\"\n",
    "    def __init__(self):\n",
    "        \"\"\" initialize this class \"\"\"\n",
    "        dataroot = '/glb/data/eptr_am_2/Arnab/seismogram/'\n",
    "        phase = 'train'\n",
    "        self.dir_A = os.path.join(dataroot,phase+'vel')\n",
    "        self.A_paths = sorted(make_dataset(self.dir_A))\n",
    "        \n",
    "        self.dir_B = os.path.join(dataroot,phase+'seis')\n",
    "        self.B_paths = sorted(make_dataset(self.dir_B))\n",
    "        \n",
    "        self.A_size = len(self.A_paths)\n",
    "        self.B_size = len(self.B_paths)\n",
    "        \n",
    "        #print(self.A_size)\n",
    "        #print(self.B_size)\n",
    "        \n",
    "    def __getitem__(self,index):\n",
    "        \"\"\" Return a data point and its information\"\"\"\n",
    "        A_path = self.A_paths[index]\n",
    "        B_path = self.B_paths[index]\n",
    "        A = np.load(A_path)\n",
    "        B = np.load(B_path)\n",
    "        A = np.nan_to_num(A)\n",
    "        A = (A-2000)/(4500-2000)\n",
    "        B = np.nan_to_num(B)\n",
    "        B = B.swapaxes(0,1)\n",
    "        B = np.clip(B,-0.05,0.05)\n",
    "        B = 2.*(B - np.min(B))/np.ptp(B)-1\n",
    "        A = np.expand_dims(A,0)\n",
    "        A = torch.from_numpy(A)\n",
    "        A = A.float()\n",
    "        B = torch.from_numpy(B)\n",
    "        B = B.float()\n",
    "        #print(\"A :\"+np.shape(A))\n",
    "        #print(\"B :\"+np.shape(B))\n",
    "        #B = np.expand_dims(B,0)\n",
    "        #print(np.min(A))\n",
    "        \n",
    "        return A,B\n",
    "    \n",
    "    def __len__(self):\n",
    "        \"\"\" Return total number of images in the dataset\"\"\"\n",
    "        return len(self.A_paths)\n",
    "   "
   ]
  },
  {
   "cell_type": "code",
   "execution_count": 7,
   "id": "f421b3e4",
   "metadata": {},
   "outputs": [],
   "source": [
    "train_set = CustomDataLoader()\n",
    "trainloader = data.DataLoader(train_set,batch_size=72,shuffle=True)"
   ]
  },
  {
   "cell_type": "code",
   "execution_count": 8,
   "id": "21e6773a",
   "metadata": {},
   "outputs": [
    {
     "data": {
      "text/plain": [
       "torch.utils.data.dataloader.DataLoader"
      ]
     },
     "execution_count": 8,
     "metadata": {},
     "output_type": "execute_result"
    }
   ],
   "source": [
    "type(trainloader)"
   ]
  },
  {
   "cell_type": "code",
   "execution_count": 9,
   "id": "17b3cf35",
   "metadata": {},
   "outputs": [],
   "source": [
    "#for i, (vel, seis) in enumerate(trainloader):\n",
    "#    print(\"min..max\")\n",
    "#    print(torch.min(vel))\n",
    "#    print(torch.max(vel))\n",
    "\n",
    "     #print(np.min(vel))\n",
    "    #print(np.max(vel))\n",
    "#    print(np.shape(seis))\n",
    "#    print(np.shape(vel))\n",
    "    #print(np.shape(seis))\n",
    "#    fig = plt.figure(figsize=(12, 3))\n",
    "   \n",
    "#    im1 = plt.imshow(np.squeeze(seis[0,1,:,:]).cpu().detach().numpy(),vmin=-.05,vmax=.05, aspect='auto')"
   ]
  },
  {
   "cell_type": "code",
   "execution_count": 10,
   "id": "3b35bf89",
   "metadata": {},
   "outputs": [],
   "source": [
    "#global plotter\n",
    "#plotter = utils.VisdomLinePlotter(env_name='Tutorial Plots')\n"
   ]
  },
  {
   "cell_type": "code",
   "execution_count": 11,
   "id": "74ea450d",
   "metadata": {},
   "outputs": [
    {
     "name": "stdout",
     "output_type": "stream",
     "text": [
      "torch.Size([1, 29, 800, 300])\n",
      "torch.Size([1, 1, 200, 300])\n"
     ]
    }
   ],
   "source": [
    "vel = np.load('/glb/data/eptr_am_2/Arnab/seismogram/trainvel/1.npy')\n",
    "seis = np.load('/glb/data/eptr_am_2/Arnab/seismogram/trainseis/1.npy')\n",
    "vel = np.nan_to_num(vel)\n",
    "seis = np.nan_to_num(seis)\n",
    "seis = seis.swapaxes(0,1)\n",
    "vel = np.expand_dims(vel,0)\n",
    "seis = np.expand_dims(seis,0)\n",
    "vel = np.expand_dims(vel,0)\n",
    "seis = torch.from_numpy(seis)\n",
    "seis = seis.float()\n",
    "vel = torch.from_numpy(vel)\n",
    "vel = vel.float()\n",
    "print(np.shape(seis))\n",
    "print(np.shape(vel))"
   ]
  },
  {
   "cell_type": "code",
   "execution_count": 12,
   "id": "a579f65d",
   "metadata": {},
   "outputs": [
    {
     "name": "stdout",
     "output_type": "stream",
     "text": [
      "DataParallel(\n",
      "  (module): AutoEncoder(\n",
      "    (encoder): Sequential(\n",
      "      (0): Conv2d(29, 16, kernel_size=(1, 1), stride=(1, 1))\n",
      "      (1): Conv2d(16, 32, kernel_size=(3, 3), stride=(1, 1), padding=(1, 1))\n",
      "      (2): BatchNorm2d(32, eps=1e-05, momentum=0.1, affine=True, track_running_stats=False)\n",
      "      (3): LeakyReLU(negative_slope=0.1, inplace=True)\n",
      "      (4): Dropout(p=0.8, inplace=False)\n",
      "      (5): Conv2d(32, 32, kernel_size=(3, 3), stride=(1, 1), padding=(1, 1))\n",
      "      (6): BatchNorm2d(32, eps=1e-05, momentum=0.1, affine=True, track_running_stats=False)\n",
      "      (7): LeakyReLU(negative_slope=0.1, inplace=True)\n",
      "      (8): Dropout(p=0.8, inplace=False)\n",
      "      (9): MaxPool2d(kernel_size=(4, 2), stride=(4, 2), padding=(2, 0), dilation=1, ceil_mode=False)\n",
      "      (10): Conv2d(32, 64, kernel_size=(3, 3), stride=(1, 1), padding=(1, 1))\n",
      "      (11): BatchNorm2d(64, eps=1e-05, momentum=0.1, affine=True, track_running_stats=False)\n",
      "      (12): LeakyReLU(negative_slope=0.1, inplace=True)\n",
      "      (13): Dropout(p=0.8, inplace=False)\n",
      "      (14): Conv2d(64, 64, kernel_size=(3, 3), stride=(1, 1), padding=(1, 1))\n",
      "      (15): BatchNorm2d(64, eps=1e-05, momentum=0.1, affine=True, track_running_stats=False)\n",
      "      (16): LeakyReLU(negative_slope=0.1, inplace=True)\n",
      "      (17): Dropout(p=0.8, inplace=False)\n",
      "      (18): MaxPool2d(kernel_size=(3, 2), stride=(2, 2), padding=(1, 0), dilation=1, ceil_mode=False)\n",
      "      (19): Conv2d(64, 128, kernel_size=(3, 3), stride=(1, 1), padding=(1, 1))\n",
      "      (20): BatchNorm2d(128, eps=1e-05, momentum=0.1, affine=True, track_running_stats=False)\n",
      "      (21): LeakyReLU(negative_slope=0.1, inplace=True)\n",
      "      (22): Dropout(p=0.8, inplace=False)\n",
      "      (23): Conv2d(128, 128, kernel_size=(3, 3), stride=(1, 1), padding=(1, 1))\n",
      "      (24): BatchNorm2d(128, eps=1e-05, momentum=0.1, affine=True, track_running_stats=False)\n",
      "      (25): LeakyReLU(negative_slope=0.1, inplace=True)\n",
      "      (26): Dropout(p=0.8, inplace=False)\n",
      "      (27): MaxPool2d(kernel_size=(4, 2), stride=(4, 2), padding=(0, 0), dilation=1, ceil_mode=False)\n",
      "      (28): Conv2d(128, 256, kernel_size=(3, 3), stride=(1, 1), padding=(1, 1))\n",
      "      (29): BatchNorm2d(256, eps=1e-05, momentum=0.1, affine=True, track_running_stats=False)\n",
      "      (30): LeakyReLU(negative_slope=0.1, inplace=True)\n",
      "      (31): Dropout(p=0.8, inplace=False)\n",
      "      (32): Conv2d(256, 256, kernel_size=(3, 3), stride=(1, 1), padding=(1, 1))\n",
      "      (33): BatchNorm2d(256, eps=1e-05, momentum=0.1, affine=True, track_running_stats=False)\n",
      "      (34): LeakyReLU(negative_slope=0.1, inplace=True)\n",
      "      (35): Dropout(p=0.8, inplace=False)\n",
      "      (36): MaxPool2d(kernel_size=(2, 2), stride=(2, 2), padding=(0, 0), dilation=1, ceil_mode=False)\n",
      "      (37): Conv2d(256, 512, kernel_size=(3, 3), stride=(1, 1), padding=(1, 1))\n",
      "      (38): BatchNorm2d(512, eps=1e-05, momentum=0.1, affine=True, track_running_stats=False)\n",
      "      (39): LeakyReLU(negative_slope=0.1, inplace=True)\n",
      "      (40): Dropout(p=0.8, inplace=False)\n",
      "      (41): Conv2d(512, 512, kernel_size=(3, 3), stride=(1, 1), padding=(1, 1))\n",
      "      (42): BatchNorm2d(512, eps=1e-05, momentum=0.1, affine=True, track_running_stats=False)\n",
      "      (43): LeakyReLU(negative_slope=0.1, inplace=True)\n",
      "      (44): Dropout(p=0.8, inplace=False)\n",
      "    )\n",
      "    (decoder): Sequential(\n",
      "      (0): ConvTranspose2d(512, 512, kernel_size=(2, 2), stride=(2, 2))\n",
      "      (1): Conv2d(512, 256, kernel_size=(3, 3), stride=(1, 1), padding=(1, 1))\n",
      "      (2): BatchNorm2d(256, eps=1e-05, momentum=0.1, affine=True, track_running_stats=False)\n",
      "      (3): LeakyReLU(negative_slope=0.1, inplace=True)\n",
      "      (4): Dropout(p=0.8, inplace=False)\n",
      "      (5): Conv2d(256, 256, kernel_size=(3, 3), stride=(1, 1), padding=(1, 1))\n",
      "      (6): BatchNorm2d(256, eps=1e-05, momentum=0.1, affine=True, track_running_stats=False)\n",
      "      (7): LeakyReLU(negative_slope=0.1, inplace=True)\n",
      "      (8): Dropout(p=0.8, inplace=False)\n",
      "      (9): ConvTranspose2d(256, 256, kernel_size=(2, 2), stride=(2, 2))\n",
      "      (10): Conv2d(256, 128, kernel_size=(3, 3), stride=(1, 1), padding=(1, 1))\n",
      "      (11): BatchNorm2d(128, eps=1e-05, momentum=0.1, affine=True, track_running_stats=False)\n",
      "      (12): LeakyReLU(negative_slope=0.1, inplace=True)\n",
      "      (13): Dropout(p=0.8, inplace=False)\n",
      "      (14): Conv2d(128, 128, kernel_size=(3, 3), stride=(1, 1), padding=(1, 1))\n",
      "      (15): BatchNorm2d(128, eps=1e-05, momentum=0.1, affine=True, track_running_stats=False)\n",
      "      (16): LeakyReLU(negative_slope=0.1, inplace=True)\n",
      "      (17): Dropout(p=0.8, inplace=False)\n",
      "      (18): ConvTranspose2d(128, 128, kernel_size=(2, 2), stride=(2, 2))\n",
      "      (19): Conv2d(128, 64, kernel_size=(3, 3), stride=(1, 1), padding=(1, 1))\n",
      "      (20): BatchNorm2d(64, eps=1e-05, momentum=0.1, affine=True, track_running_stats=False)\n",
      "      (21): LeakyReLU(negative_slope=0.1, inplace=True)\n",
      "      (22): Dropout(p=0.8, inplace=False)\n",
      "      (23): Conv2d(64, 64, kernel_size=(3, 3), stride=(1, 1), padding=(1, 1))\n",
      "      (24): BatchNorm2d(64, eps=1e-05, momentum=0.1, affine=True, track_running_stats=False)\n",
      "      (25): LeakyReLU(negative_slope=0.1, inplace=True)\n",
      "      (26): Dropout(p=0.8, inplace=False)\n",
      "      (27): ConvTranspose2d(64, 64, kernel_size=(2, 2), stride=(2, 2))\n",
      "      (28): Conv2d(64, 32, kernel_size=(3, 3), stride=(1, 1), padding=(5, 7))\n",
      "      (29): BatchNorm2d(32, eps=1e-05, momentum=0.1, affine=True, track_running_stats=False)\n",
      "      (30): LeakyReLU(negative_slope=0.1, inplace=True)\n",
      "      (31): Dropout(p=0.8, inplace=False)\n",
      "      (32): Conv2d(32, 32, kernel_size=(3, 3), stride=(1, 1), padding=(1, 1))\n",
      "      (33): BatchNorm2d(32, eps=1e-05, momentum=0.1, affine=True, track_running_stats=False)\n",
      "      (34): LeakyReLU(negative_slope=0.1, inplace=True)\n",
      "      (35): Dropout(p=0.8, inplace=False)\n",
      "      (36): Conv2d(32, 1, kernel_size=(1, 1), stride=(1, 1))\n",
      "      (37): ReLU(inplace=True)\n",
      "    )\n",
      "  )\n",
      ")\n"
     ]
    }
   ],
   "source": [
    "model = AutoEncoder()\n",
    "model = nn.DataParallel(model)\n",
    "model.to(device)\n",
    "print(model)"
   ]
  },
  {
   "cell_type": "code",
   "execution_count": 13,
   "id": "71fdea0b",
   "metadata": {},
   "outputs": [],
   "source": [
    "seis = seis.to(device)\n",
    "vel = vel.to(device)\n",
    "\n",
    "\n",
    "t1,t2 = model(seis)"
   ]
  },
  {
   "cell_type": "code",
   "execution_count": 14,
   "id": "b74a53fc",
   "metadata": {},
   "outputs": [
    {
     "name": "stdout",
     "output_type": "stream",
     "text": [
      "torch.Size([1, 512, 12, 18])\n",
      "torch.Size([1, 1, 200, 300])\n"
     ]
    }
   ],
   "source": [
    "print(np.shape(t1))\n",
    "print(np.shape(t2))"
   ]
  },
  {
   "cell_type": "code",
   "execution_count": 15,
   "id": "649ff713",
   "metadata": {},
   "outputs": [],
   "source": [
    "criterion = nn.MSELoss()\n",
    "optimizer = optim.Adam(model.parameters(),lr=0.01)\n",
    "                        \n",
    "scheduler = optim.lr_scheduler.ReduceLROnPlateau(optimizer, factor=1/3, patience=3, verbose=True)"
   ]
  },
  {
   "cell_type": "code",
   "execution_count": null,
   "id": "0fb22ca9",
   "metadata": {},
   "outputs": [],
   "source": [
    "num_epochs = 2\n",
    "Loss1 = []\n",
    "for epoch in range(num_epochs):\n",
    "    #val1 = open('value1.txt',\"a\")\n",
    "    train_loss = 0\n",
    "    ###################\n",
    "    # train the model #\n",
    "    ###################\n",
    "    ####loop = tqdm(train_loader, total=len(train_loader))\n",
    "    for i, (vel, seis) in enumerate(trainloader):\n",
    "        optimizer.zero_grad()\n",
    "        seis = seis.to(device)\n",
    "        vel = vel.to(device)\n",
    "        _, outputs = model(seis)\n",
    "        #min1 = torch.min(vel)\n",
    "        #max1 = torch.max(vel)\n",
    "        #vel = (vel-min1)/(max1-min1)\n",
    "        maxv = torch.max(vel)\n",
    "        loss = criterion(outputs, vel)/(maxv+1e-10)\n",
    "        loss.backward()\n",
    "        optimizer.step()\n",
    "        print('Epoch:{}, Iteration:{}, Loss:{:.4f}'.format(epoch+1, i, float(loss)))\n",
    "        Loss1 = np.append(Loss1,float(loss))\n",
    "        \n",
    "        if (epoch% 10 == 0):\n",
    "            save_filename = '%s_net_%s.pth' %(epoch,i) \n",
    "            save_path = os.path.join('./SavedModels/',save_filename)\n",
    "            torch.save(model,save_path)\n",
    "            \n",
    "        if (epoch%20 == 0 and i% 15 == 0):\n",
    "            file = open('/glb/data/eptr_am_2/Arnab/seismogram/inversion/%s_net_%s.npy' %(epoch,i),'wb')\n",
    "            fcube = np.squeeze(outputs[4,:,:,:].cpu().detach().numpy())\n",
    "            #fcube = np.squeeze(vel.cpu().detach().numpy())\n",
    "            np.save(file,fcube)\n",
    "            file.close()\n",
    "               \n",
    "            \n",
    "        #RB Write variables to file at each epoch\n",
    "        fields=[epoch,loss.data.cpu().numpy()]\n",
    "        writer.writerow(fields)\n",
    "        f.flush()\n",
    "        os.fsync(f)\n",
    "            \n",
    "    #plotter.plot('MSE loss', 'train', 'MSE loss', epoch, loss.data.cpu().numpy())\n"
   ]
  },
  {
   "cell_type": "code",
   "execution_count": null,
   "id": "b06f20f4",
   "metadata": {},
   "outputs": [],
   "source": [
    "np.shape(outputs)"
   ]
  },
  {
   "cell_type": "code",
   "execution_count": null,
   "id": "e1b15013",
   "metadata": {},
   "outputs": [],
   "source": [
    "plt.imshow(np.squeeze(outputs[4,:,:,:].cpu().detach().numpy()))\n",
    "plt.colorbar()"
   ]
  },
  {
   "cell_type": "code",
   "execution_count": 37,
   "id": "13d8f6a9",
   "metadata": {},
   "outputs": [
    {
     "name": "stdout",
     "output_type": "stream",
     "text": [
      "(800, 29, 300)\n",
      "(29, 800, 300)\n",
      "torch.Size([1, 29, 800, 300])\n",
      "torch.Size([1, 1, 200, 300])\n"
     ]
    }
   ],
   "source": [
    "\n",
    "model1 = torch.load('./SavedModels/40_net_30.pth')\n",
    "model1.eval()\n",
    "dataroot = '/glb/data/eptr_am_2/Arnab/seismogram/'\n",
    "phase = 'train'\n",
    "sample=15\n",
    "vel = np.load('/glb/data/eptr_am_2/Arnab/seismogram/trainvel/'+str(sample)+'.npy')\n",
    "seis = np.load('/glb/data/eptr_am_2/Arnab/seismogram/trainseis/'+str(sample)+'.npy')\n",
    "vel = np.nan_to_num(vel)\n",
    "seis = np.nan_to_num(seis)\n",
    "print(np.shape(seis))\n",
    "seis = seis.swapaxes(0,1)\n",
    "print(np.shape(seis))\n",
    "vel = np.expand_dims(vel,0)\n",
    "vel = torch.from_numpy(vel)\n",
    "vel = vel.float()\n",
    "seis = np.expand_dims(seis,0)\n",
    "seis = torch.from_numpy(seis)\n",
    "print(np.shape(seis))\n",
    "seis = seis.float()\n",
    "seis = seis.to(device)\n",
    "with torch.no_grad():\n",
    "    _,eval1= model1(seis)\n",
    "print(np.shape(eval1))"
   ]
  },
  {
   "cell_type": "code",
   "execution_count": null,
   "id": "15a9a7f1",
   "metadata": {},
   "outputs": [],
   "source": [
    "print(np.shape(vel))\n",
    "plt.imshow(np.squeeze(vel))"
   ]
  },
  {
   "cell_type": "code",
   "execution_count": null,
   "id": "b34347b6",
   "metadata": {},
   "outputs": [],
   "source": [
    "output1 = np.squeeze(eval1[0,0,:,:].cpu().detach().numpy())\n",
    "finalO = (output1)*(4500-2000)+2000\n",
    "plt.imshow(finalO)\n",
    "plt.colorbar()\n"
   ]
  },
  {
   "cell_type": "code",
   "execution_count": null,
   "id": "3d0aa28a",
   "metadata": {},
   "outputs": [],
   "source": [
    "plt.imshow(np.squeeze(vel))"
   ]
  },
  {
   "cell_type": "code",
   "execution_count": null,
   "id": "70e68f10",
   "metadata": {},
   "outputs": [],
   "source": [
    "plt.imshow(np.squeeze(vel))\n",
    "plt.colorbar()"
   ]
  },
  {
   "cell_type": "code",
   "execution_count": null,
   "id": "862a2f3b",
   "metadata": {},
   "outputs": [],
   "source": [
    "model1"
   ]
  },
  {
   "cell_type": "code",
   "execution_count": null,
   "id": "8df90b17",
   "metadata": {},
   "outputs": [],
   "source": [
    "plt.imshow(vel)"
   ]
  },
  {
   "cell_type": "code",
   "execution_count": null,
   "id": "749c9099",
   "metadata": {},
   "outputs": [],
   "source": []
  }
 ],
 "metadata": {
  "kernelspec": {
   "display_name": "Python 3 (ipykernel)",
   "language": "python",
   "name": "python3"
  },
  "language_info": {
   "codemirror_mode": {
    "name": "ipython",
    "version": 3
   },
   "file_extension": ".py",
   "mimetype": "text/x-python",
   "name": "python",
   "nbconvert_exporter": "python",
   "pygments_lexer": "ipython3",
   "version": "3.7.9"
  }
 },
 "nbformat": 4,
 "nbformat_minor": 5
}
