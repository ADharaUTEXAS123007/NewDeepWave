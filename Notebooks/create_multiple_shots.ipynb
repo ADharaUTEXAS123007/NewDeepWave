{
 "cells": [
  {
   "cell_type": "code",
   "execution_count": 1,
   "id": "e4228763",
   "metadata": {},
   "outputs": [],
   "source": [
    "#Save the below parameters to output.txt file\n",
    "%logstart -o -r -t -q output.txt rotate"
   ]
  },
  {
   "cell_type": "code",
   "execution_count": 2,
   "id": "e5295d7d",
   "metadata": {},
   "outputs": [],
   "source": [
    "# General info\n",
    "# using Adam Optimization\n",
    "# Shuffling sources every epoch\n",
    "# SCHUSTER's MARMOUSI MODEL\n",
    "\n",
    "# General parameters\n",
    "GPU=0      # which GPU to use\n",
    "plot=True # Plot Intermediate results\n",
    "sigma=10   # Initial model smoothness \n",
    "gpu_ids=[0,1]\n",
    "\n",
    "# Inversion parameters\n",
    "num_batches = 29\n",
    "num_epochs = 5000\n",
    "\n",
    "#gamma = 300  # Does not apply, Adam uses lr (learning rate) instead of gamma\n",
    "# Adam learning rate\n",
    "lr = 4\n",
    "\n",
    "# Modeling parameters\n",
    "freq = 25\n",
    "dx = 10\n",
    "nt = 400\n",
    "dt = 2/nt\n",
    "num_shots = 29\n",
    "num_receivers_per_shot = 300\n",
    "\n",
    "# receiver_spacing = # computed below from ny,dx and num_receivers_per_shot\n",
    "\n",
    "# Close the ouput.txt file with saved parameters\n",
    "%logstop "
   ]
  },
  {
   "cell_type": "code",
   "execution_count": 3,
   "id": "06eb6e70",
   "metadata": {},
   "outputs": [],
   "source": [
    "# Need to restart runtime before this step\n",
    "import time\n",
    "import torch\n",
    "import numpy as np\n",
    "import scipy.ndimage\n",
    "import scipy.io\n",
    "import matplotlib.pyplot as plt\n",
    "import deepwave\n",
    "import os\n",
    "import csv\n",
    "import torch.nn as nn"
   ]
  },
  {
   "cell_type": "code",
   "execution_count": 4,
   "id": "13755f6c",
   "metadata": {},
   "outputs": [
    {
     "data": {
      "text/plain": [
       "0"
      ]
     },
     "execution_count": 4,
     "metadata": {},
     "output_type": "execute_result"
    }
   ],
   "source": [
    "os.system('nvidia-smi')"
   ]
  },
  {
   "cell_type": "code",
   "execution_count": 5,
   "id": "da34387d",
   "metadata": {},
   "outputs": [],
   "source": [
    "#plot=True\n",
    "# Load the true model\n",
    "min1 = []\n",
    "max1 = []\n",
    "allM = np.ones([200,300,20])\n",
    "for kk in range(1,20):\n",
    "    #kk=2\n",
    "    filename='/glb/data/eptr_am_2/Arnab/FCNVMB_Deepwave/data/train_data/SimulateData/vmodel_train/vmodel'+str(kk)+'.mat'\n",
    "    mat=scipy.io.loadmat(filename)['vmodel']\n",
    "    mat=mat[:-1,:-1]\n",
    "    allM[:,:,kk-1]=mat"
   ]
  },
  {
   "cell_type": "code",
   "execution_count": 6,
   "id": "7c368373",
   "metadata": {},
   "outputs": [
    {
     "data": {
      "text/plain": [
       "1.0"
      ]
     },
     "execution_count": 6,
     "metadata": {},
     "output_type": "execute_result"
    }
   ],
   "source": [
    "np.amin(allM[:,:,:])"
   ]
  },
  {
   "cell_type": "code",
   "execution_count": 7,
   "id": "36300e85",
   "metadata": {},
   "outputs": [
    {
     "data": {
      "text/plain": [
       "(200, 300)"
      ]
     },
     "execution_count": 7,
     "metadata": {},
     "output_type": "execute_result"
    }
   ],
   "source": [
    "np.shape(mat)"
   ]
  },
  {
   "cell_type": "code",
   "execution_count": 8,
   "id": "94654527",
   "metadata": {},
   "outputs": [
    {
     "data": {
      "text/plain": [
       "(200, 300, 20)"
      ]
     },
     "execution_count": 8,
     "metadata": {},
     "output_type": "execute_result"
    }
   ],
   "source": [
    "np.shape(allM)"
   ]
  },
  {
   "cell_type": "code",
   "execution_count": 9,
   "id": "507e635e",
   "metadata": {},
   "outputs": [
    {
     "data": {
      "text/plain": [
       "0"
      ]
     },
     "execution_count": 9,
     "metadata": {},
     "output_type": "execute_result"
    }
   ],
   "source": [
    "os.system('rm -rf /glb/data/eptr_am_2/Arnab/seismogram/trainA/')\n",
    "os.system('rm -rf /glb/data/eptr_am_2/Arnab/seismogram/trainB/ ')\n",
    "os.system('mkdir /glb/data/eptr_am_2/Arnab/seismogram/trainA/')\n",
    "os.system('mkdir /glb/data/eptr_am_2/Arnab/seismogram/trainB/')"
   ]
  },
  {
   "cell_type": "code",
   "execution_count": 10,
   "id": "6240424a",
   "metadata": {},
   "outputs": [
    {
     "name": "stdout",
     "output_type": "stream",
     "text": [
      "vmin= 2829.376424134314 vmax= 4500.0 vmed= 3664.688212067157 vwidth= 835.3117879328429\n",
      "ny= 300 nz= 200 nt= 400 dx= 10 freq= 25\n",
      "shots= 29 recs/shot= 300 ds= 103.44827586206897 dr= 10.0\n",
      "vmin= 2144.5940488240713 vmax= 4500.0 vmed= 3322.2970244120356 vwidth= 1177.7029755879644\n",
      "ny= 300 nz= 200 nt= 400 dx= 10 freq= 25\n",
      "shots= 29 recs/shot= 300 ds= 103.44827586206897 dr= 10.0\n",
      "vmin= 2275.1414180448496 vmax= 4500.0 vmed= 3387.570709022425 vwidth= 1112.4292909775752\n",
      "ny= 300 nz= 200 nt= 400 dx= 10 freq= 25\n",
      "shots= 29 recs/shot= 300 ds= 103.44827586206897 dr= 10.0\n",
      "vmin= 2331.962051981793 vmax= 4500.0 vmed= 3415.9810259908963 vwidth= 1084.0189740091034\n",
      "ny= 300 nz= 200 nt= 400 dx= 10 freq= 25\n",
      "shots= 29 recs/shot= 300 ds= 103.44827586206897 dr= 10.0\n",
      "vmin= 2350.152468857977 vmax= 4500.0 vmed= 3425.0762344289888 vwidth= 1074.9237655710115\n",
      "ny= 300 nz= 200 nt= 400 dx= 10 freq= 25\n",
      "shots= 29 recs/shot= 300 ds= 103.44827586206897 dr= 10.0\n",
      "vmin= 2552.5633790789398 vmax= 4500.0 vmed= 3526.28168953947 vwidth= 973.7183104605301\n",
      "ny= 300 nz= 200 nt= 400 dx= 10 freq= 25\n",
      "shots= 29 recs/shot= 300 ds= 103.44827586206897 dr= 10.0\n",
      "vmin= 2235.4573893560446 vmax= 4500.0 vmed= 3367.7286946780223 vwidth= 1132.2713053219777\n",
      "ny= 300 nz= 200 nt= 400 dx= 10 freq= 25\n",
      "shots= 29 recs/shot= 300 ds= 103.44827586206897 dr= 10.0\n",
      "vmin= 2450.705602149451 vmax= 4500.0 vmed= 3475.3528010747254 vwidth= 1024.6471989252746\n",
      "ny= 300 nz= 200 nt= 400 dx= 10 freq= 25\n",
      "shots= 29 recs/shot= 300 ds= 103.44827586206897 dr= 10.0\n",
      "vmin= 2066.6603143963534 vmax= 4500.0 vmed= 3283.3301571981765 vwidth= 1216.6698428018233\n",
      "ny= 300 nz= 200 nt= 400 dx= 10 freq= 25\n",
      "shots= 29 recs/shot= 300 ds= 103.44827586206897 dr= 10.0\n",
      "vmin= 2509.0782361998304 vmax= 4500.0 vmed= 3504.539118099915 vwidth= 995.4608819000848\n",
      "ny= 300 nz= 200 nt= 400 dx= 10 freq= 25\n",
      "shots= 29 recs/shot= 300 ds= 103.44827586206897 dr= 10.0\n",
      "vmin= 2518.3607895491723 vmax= 4500.0 vmed= 3509.180394774586 vwidth= 990.8196052254139\n",
      "ny= 300 nz= 200 nt= 400 dx= 10 freq= 25\n",
      "shots= 29 recs/shot= 300 ds= 103.44827586206897 dr= 10.0\n",
      "vmin= 2019.7229291806543 vmax= 4500.0 vmed= 3259.861464590327 vwidth= 1240.1385354096728\n",
      "ny= 300 nz= 200 nt= 400 dx= 10 freq= 25\n",
      "shots= 29 recs/shot= 300 ds= 103.44827586206897 dr= 10.0\n",
      "vmin= 2787.834186813169 vmax= 4500.0 vmed= 3643.917093406584 vwidth= 856.0829065934156\n",
      "ny= 300 nz= 200 nt= 400 dx= 10 freq= 25\n",
      "shots= 29 recs/shot= 300 ds= 103.44827586206897 dr= 10.0\n",
      "vmin= 2371.3039322815816 vmax= 4500.0 vmed= 3435.651966140791 vwidth= 1064.3480338592092\n",
      "ny= 300 nz= 200 nt= 400 dx= 10 freq= 25\n",
      "shots= 29 recs/shot= 300 ds= 103.44827586206897 dr= 10.0\n",
      "vmin= 2326.1699011106143 vmax= 4500.0 vmed= 3413.084950555307 vwidth= 1086.9150494446928\n",
      "ny= 300 nz= 200 nt= 400 dx= 10 freq= 25\n",
      "shots= 29 recs/shot= 300 ds= 103.44827586206897 dr= 10.0\n",
      "vmin= 2088.0250410210665 vmax= 4500.0 vmed= 3294.0125205105332 vwidth= 1205.9874794894668\n",
      "ny= 300 nz= 200 nt= 400 dx= 10 freq= 25\n",
      "shots= 29 recs/shot= 300 ds= 103.44827586206897 dr= 10.0\n",
      "vmin= 2135.749680214464 vmax= 4500.0 vmed= 3317.874840107232 vwidth= 1182.125159892768\n",
      "ny= 300 nz= 200 nt= 400 dx= 10 freq= 25\n",
      "shots= 29 recs/shot= 300 ds= 103.44827586206897 dr= 10.0\n",
      "vmin= 2255.0953163716285 vmax= 4500.0 vmed= 3377.5476581858143 vwidth= 1122.4523418141857\n",
      "ny= 300 nz= 200 nt= 400 dx= 10 freq= 25\n",
      "shots= 29 recs/shot= 300 ds= 103.44827586206897 dr= 10.0\n",
      "vmin= 2281.6656227014855 vmax= 4500.0 vmed= 3390.8328113507428 vwidth= 1109.1671886492572\n",
      "ny= 300 nz= 200 nt= 400 dx= 10 freq= 25\n",
      "shots= 29 recs/shot= 300 ds= 103.44827586206897 dr= 10.0\n"
     ]
    }
   ],
   "source": [
    "#plot=True\n",
    "# Load the true model\n",
    "min1 = []\n",
    "max1 = []\n",
    "for kk in range(1,20):\n",
    "    #kk=2\n",
    "    filename='/glb/data/eptr_am_2/Arnab/FCNVMB_Deepwave/data/train_data/SimulateData/vmodel_train/vmodel'+str(kk)+'.mat'\n",
    "    mat=scipy.io.loadmat(filename)['vmodel']\n",
    "    mat=mat[:-1,:-1]\n",
    "    #mat = np.loadtxt('marmhard2.dat')\n",
    "    #mat = np.pad(mat,((10,0),(0,0)),'edge') #RB add some water layer\n",
    "    #RB Get model size\n",
    "    ny = np.size(mat,1);\n",
    "    nz = np.size(mat,0);\n",
    "    #RB compute true model mean value and width for future model normalization\n",
    "    max=np.max(mat)\n",
    "    min=np.min(mat)\n",
    "    med=(max+min)/2.\n",
    "    wid=(max-min)/2.\n",
    "\n",
    "    print('vmin=',min,'vmax=',max,'vmed=',med,'vwidth=',wid)\n",
    "    torch.cuda.set_device(GPU)  #RB Necessary if device <> 0\n",
    "    GPU_string='cuda:'+str(GPU)\n",
    "    device = torch.device(GPU_string)\n",
    "    num_dims = 2\n",
    "    #num_shots = 32\n",
    "    num_sources_per_shot = 1\n",
    "    #num_receivers_per_shot = 200\n",
    "\n",
    "    #RB source_spacing = 25.0\n",
    "    #RB receiver_spacing = 10.0\n",
    "    source_spacing = ny * dx / num_shots\n",
    "    receiver_spacing = ny * dx / num_receivers_per_shot\n",
    "    print('ny=',ny,'nz=',nz,'nt=',nt,'dx=',dx,'freq=',freq)\n",
    "    print('shots=',num_shots,'recs/shot=',num_receivers_per_shot, \\\n",
    "          'ds=',source_spacing,'dr=',receiver_spacing)\n",
    "    \n",
    "    # Create arrays containing the source and receiver locations\n",
    "    # x_s: Source locations [num_shots, num_sources_per_shot, num_dimensions]\n",
    "    # x_r: Receiver locations [num_shots, num_receivers_per_shot, num_dimensions]\n",
    "    x_s = torch.zeros(num_shots, num_sources_per_shot, num_dims)\n",
    "    x_s[:, 0, 1] = torch.arange(num_shots).float() * source_spacing\n",
    "    #x_s[:, 0, 0] = 100. #RB Set source depth\n",
    "\n",
    "    x_r = torch.zeros(num_shots, num_receivers_per_shot, num_dims)\n",
    "    x_r[0, :, 1] = torch.arange(num_receivers_per_shot).float() * receiver_spacing\n",
    "    x_r[:, :, 1] = x_r[0, :, 1].repeat(num_shots, 1)\n",
    "\n",
    "    #RB Shuffle shot coordinates\n",
    "    ###idx = torch.randperm(num_shots)\n",
    "    ###x_s = x_s.view(-1,2)[idx].view(x_s.size())\n",
    "\n",
    "    #RB Set Receiver depth\n",
    "    #x_r[0, :, 0] = 100.\n",
    "    #x_r[:, :, 0] = x_r[0, :, 0].repeat(num_shots, 1)\n",
    "\n",
    "    # Create true source amplitudes [nt, num_shots, num_sources_per_shot]\n",
    "    # I use Deepwave's Ricker wavelet function. The result is a normal Tensor - you\n",
    "    # can use whatever Tensor you want as the source amplitude.\n",
    "    source_amplitudes_true = (deepwave.wavelets.ricker(freq, nt, dt, 1/freq)\n",
    "                              .reshape(-1, 1, 1)\n",
    "                              .repeat(1, num_shots, num_sources_per_shot))\n",
    "    \n",
    "    model_true = torch.Tensor(mat) # Convert to a PyTorch Tensor\n",
    "    prop = deepwave.scalar.Propagator({'vp': model_true.to(device)}, dx)\n",
    "    receiver_amplitudes_all = prop(source_amplitudes_true.to(device),\n",
    "                                    x_s.to(device),\n",
    "                                    x_r.to(device), dt).cpu()\n",
    "    \n",
    "    vel=np.squeeze(mat)\n",
    "    seis=np.squeeze(receiver_amplitudes_all.cpu().detach().numpy())\n",
    "    file1 = open('/glb/data/eptr_am_2/Arnab/seismogram/trainB/'+str(kk)+'.npy','wb')\n",
    "    np.save(file1,vel)\n",
    "    file1.close()\n",
    "    file1 = open('/glb/data/eptr_am_2/Arnab/seismogram/trainA/'+str(kk)+'.npy','wb')\n",
    "    np.save(file1,seis)\n",
    "    file1.close()\n",
    "    \n",
    "    min1 = np.append(min1,np.min(vel))\n",
    "    max1 = np.append(max1,np.max(vel))"
   ]
  },
  {
   "cell_type": "code",
   "execution_count": 11,
   "id": "65f68665",
   "metadata": {},
   "outputs": [
    {
     "name": "stdout",
     "output_type": "stream",
     "text": [
      "2019.7229291806543\n"
     ]
    }
   ],
   "source": [
    "print(np.min(min1))"
   ]
  },
  {
   "cell_type": "code",
   "execution_count": 12,
   "id": "fc70fe27",
   "metadata": {},
   "outputs": [
    {
     "name": "stdout",
     "output_type": "stream",
     "text": [
      "4500.0\n"
     ]
    }
   ],
   "source": [
    "print(np.max(max1))"
   ]
  },
  {
   "cell_type": "code",
   "execution_count": 13,
   "id": "e062997a",
   "metadata": {},
   "outputs": [
    {
     "ename": "NameError",
     "evalue": "name 'VelK' is not defined",
     "output_type": "error",
     "traceback": [
      "\u001b[0;31m---------------------------------------------------------------------------\u001b[0m",
      "\u001b[0;31mNameError\u001b[0m                                 Traceback (most recent call last)",
      "\u001b[0;32m<ipython-input-13-adf4deaf909a>\u001b[0m in \u001b[0;36m<module>\u001b[0;34m\u001b[0m\n\u001b[0;32m----> 1\u001b[0;31m \u001b[0mnp\u001b[0m\u001b[0;34m.\u001b[0m\u001b[0mmax\u001b[0m\u001b[0;34m(\u001b[0m\u001b[0mVelK\u001b[0m\u001b[0;34m)\u001b[0m\u001b[0;34m\u001b[0m\u001b[0;34m\u001b[0m\u001b[0m\n\u001b[0m",
      "\u001b[0;31mNameError\u001b[0m: name 'VelK' is not defined"
     ]
    }
   ],
   "source": [
    "np.max(VelK)"
   ]
  },
  {
   "cell_type": "code",
   "execution_count": 14,
   "id": "d6fc50d3",
   "metadata": {},
   "outputs": [
    {
     "data": {
      "text/plain": [
       "(400, 29, 300)"
      ]
     },
     "execution_count": 14,
     "metadata": {},
     "output_type": "execute_result"
    }
   ],
   "source": [
    "f1 = np.load('/glb/data/eptr_am_2/Arnab/seismogram/trainB/'+str(1)+'.npy')\n",
    "f1 = np.load('/glb/data/eptr_am_2/Arnab/seismogram/trainB/'+str(1)+'.npy')\n",
    "np.shape(f1)"
   ]
  },
  {
   "cell_type": "code",
   "execution_count": 15,
   "id": "cfbf2c54",
   "metadata": {},
   "outputs": [
    {
     "data": {
      "image/png": "[encoded data removed]",
      "text/plain": [
       "<Figure size 864x216 with 2 Axes>"
      ]
     },
     "metadata": {
      "needs_background": "light"
     },
     "output_type": "display_data"
    }
   ],
   "source": [
    "if plot==True:\n",
    "    plt.figure(figsize=(12, 3))\n",
    "    plt.imshow(mat,vmin=min,vmax=max, aspect=1)\n",
    "    plt.title('True model')\n",
    "    plt.colorbar()"
   ]
  },
  {
   "cell_type": "code",
   "execution_count": 16,
   "id": "8e1e913f",
   "metadata": {},
   "outputs": [],
   "source": [
    "# Specify which GPU to use (in multi GPU machines)\n",
    "torch.cuda.set_device(GPU)  #RB Necessary if device <> 0\n",
    "GPU_string='cuda:'+str(GPU)\n",
    "device = torch.device(GPU_string)"
   ]
  },
  {
   "cell_type": "code",
   "execution_count": null,
   "id": "a476408b",
   "metadata": {},
   "outputs": [],
   "source": [
    "# Set parameters\n",
    "##freq = 14\n",
    "##dx = 10\n",
    "##dt = 0.001\n",
    "\n",
    "#RB nt = int(2 / dt) # 2s\n",
    "#nt = int(0.9 * int(np.sqrt((nz*dx)**2 + (ny*dx)**2) / 2000 / dt))\n",
    "#nt =       3 * int(np.sqrt((nz*dx)**2 + (ny*dx)**2) / 2000 / dt)\n",
    "##nt = 4001\n",
    "\n",
    "num_dims = 2\n",
    "#num_shots = 32\n",
    "num_sources_per_shot = 1\n",
    "#num_receivers_per_shot = 200\n",
    "\n",
    "#RB source_spacing = 25.0\n",
    "#RB receiver_spacing = 10.0\n",
    "source_spacing = ny * dx / num_shots\n",
    "receiver_spacing = ny * dx / num_receivers_per_shot\n",
    "#receiver_spacing = 8.\n",
    "\n",
    "print('ny=',ny,'nz=',nz,'nt=',nt,'dx=',dx,'freq=',freq)\n",
    "print('shots=',num_shots,'recs/shot=',num_receivers_per_shot, \\\n",
    "      'ds=',source_spacing,'dr=',receiver_spacing)\n"
   ]
  },
  {
   "cell_type": "code",
   "execution_count": null,
   "id": "78d8c511",
   "metadata": {},
   "outputs": [],
   "source": [
    "# Create arrays containing the source and receiver locations\n",
    "# x_s: Source locations [num_shots, num_sources_per_shot, num_dimensions]\n",
    "# x_r: Receiver locations [num_shots, num_receivers_per_shot, num_dimensions]\n",
    "x_s = torch.zeros(num_shots, num_sources_per_shot, num_dims)\n",
    "x_s[:, 0, 1] = torch.arange(num_shots).float() * source_spacing\n",
    "#x_s[:, 0, 0] = 100. #RB Set source depth\n",
    "\n",
    "x_r = torch.zeros(num_shots, num_receivers_per_shot, num_dims)\n",
    "x_r[0, :, 1] = torch.arange(num_receivers_per_shot).float() * receiver_spacing\n",
    "x_r[:, :, 1] = x_r[0, :, 1].repeat(num_shots, 1)\n",
    "\n",
    "#RB Shuffle shot coordinates\n",
    "###idx = torch.randperm(num_shots)\n",
    "###x_s = x_s.view(-1,2)[idx].view(x_s.size())\n",
    "\n",
    "#RB Set Receiver depth\n",
    "#x_r[0, :, 0] = 100.\n",
    "#x_r[:, :, 0] = x_r[0, :, 0].repeat(num_shots, 1)\n",
    "\n",
    "# Create true source amplitudes [nt, num_shots, num_sources_per_shot]\n",
    "# I use Deepwave's Ricker wavelet function. The result is a normal Tensor - you\n",
    "# can use whatever Tensor you want as the source amplitude.\n",
    "source_amplitudes_true = (deepwave.wavelets.ricker(freq, nt, dt, 1/freq)\n",
    "                          .reshape(-1, 1, 1)\n",
    "                          .repeat(1, num_shots, num_sources_per_shot))"
   ]
  },
  {
   "cell_type": "code",
   "execution_count": null,
   "id": "3c09c284",
   "metadata": {},
   "outputs": [],
   "source": [
    "model_true = torch.Tensor(mat) # Convert to a PyTorch Tensor\n",
    "prop = deepwave.scalar.Propagator({'vp': model_true.to(device)}, dx)\n",
    "receiver_amplitudes_all = prop(source_amplitudes_true.to(device),\n",
    "                                x_s.to(device),\n",
    "                                x_r.to(device), dt).cpu()"
   ]
  },
  {
   "cell_type": "code",
   "execution_count": null,
   "id": "72fca5dc",
   "metadata": {},
   "outputs": [],
   "source": [
    "receiver_amplitudes_all.shape"
   ]
  },
  {
   "cell_type": "code",
   "execution_count": null,
   "id": "947c4c8e",
   "metadata": {},
   "outputs": [],
   "source": [
    "if plot==True:\n",
    "    plt.figure(figsize=(12, 3))\n",
    "    plt.imshow(receiver_amplitudes_all[:,2].cpu().detach().numpy(),vmin=-.05,vmax=.05, aspect='auto')\n",
    "    plt.title('Model seismogram')"
   ]
  },
  {
   "cell_type": "code",
   "execution_count": null,
   "id": "d8491ffc",
   "metadata": {},
   "outputs": [],
   "source": [
    "vel=mat\n",
    "seis=receiver_amplitudes_all.cpu().detach().numpy()\n",
    "file1 = open('/glb/data/eptr_am_2/Arnab/seismogram/trainvel/'+str(kk)+'.npy','wb')\n",
    "np.save(file1,vel)\n",
    "file1.close()\n",
    "file1 = open('/glb/data/eptr_am_2/Arnab/seismogram/trainseis/'+str(kk)+'.npy','wb')\n",
    "np.save(file1,seis)\n",
    "file1.close()"
   ]
  },
  {
   "cell_type": "code",
   "execution_count": null,
   "id": "8901e347",
   "metadata": {},
   "outputs": [],
   "source": [
    "np.shape(seis)"
   ]
  },
  {
   "cell_type": "code",
   "execution_count": null,
   "id": "35167216",
   "metadata": {},
   "outputs": [],
   "source": [
    "np.shape(vel)"
   ]
  },
  {
   "cell_type": "code",
   "execution_count": null,
   "id": "46defc59",
   "metadata": {},
   "outputs": [],
   "source": []
  }
 ],
 "metadata": {
  "kernelspec": {
   "display_name": "Python 3",
   "language": "python",
   "name": "python3"
  },
  "language_info": {
   "codemirror_mode": {
    "name": "ipython",
    "version": 3
   },
   "file_extension": ".py",
   "mimetype": "text/x-python",
   "name": "python",
   "nbconvert_exporter": "python",
   "pygments_lexer": "ipython3",
   "version": "3.7.10"
  }
 },
 "nbformat": 4,
 "nbformat_minor": 5
}
