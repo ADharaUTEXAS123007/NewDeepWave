{
 "cells": [
  {
   "cell_type": "code",
   "execution_count": 60,
   "id": "b3419cde",
   "metadata": {},
   "outputs": [],
   "source": [
    "import numpy as np\n",
    "from skimage.measure import block_reduce\n",
    "import skimage\n",
    "import scipy.io\n",
    "import os\n",
    "from IPython.core.debugger import set_trace\n",
    "from skimage.transform import resize\n",
    "import matplotlib.pyplot as plt"
   ]
  },
  {
   "cell_type": "code",
   "execution_count": 61,
   "id": "441fbf3c",
   "metadata": {},
   "outputs": [
    {
     "data": {
      "text/plain": [
       "0"
      ]
     },
     "execution_count": 61,
     "metadata": {},
     "output_type": "execute_result"
    }
   ],
   "source": [
    "os.system('rm -rf /disk/student/adhara/Fall2021/FCNVMB-Deep-learning-based-seismic-velocity-model-building/data/train_data/SimulateData/trainA/')\n",
    "os.system('rm -rf /disk/student/adhara/Fall2021/FCNVMB-Deep-learning-based-seismic-velocity-model-building/data/train_data/SimulateData/trainB/')\n",
    "\n",
    "os.system('mkdir /disk/student/adhara/Fall2021/FCNVMB-Deep-learning-based-seismic-velocity-model-building/data/train_data/SimulateData/trainA/')\n",
    "os.system('mkdir /disk/student/adhara/Fall2021/FCNVMB-Deep-learning-based-seismic-velocity-model-building/data/train_data/SimulateData/trainB/')"
   ]
  },
  {
   "cell_type": "code",
   "execution_count": 62,
   "id": "340aadc7",
   "metadata": {},
   "outputs": [],
   "source": [
    "for kk in range(1,750):\n",
    "    #kk=2\n",
    "    filename='/disk/student/adhara/Fall2021/FCNVMB-Deep-learning-based-seismic-velocity-model-building/data/train_data/SimulateData/vmodel_train/vmodel'+str(kk)+'.mat'\n",
    "    A = scipy.io.loadmat(filename)['vmodel']\n",
    "    A = A.astype(float)\n",
    "    B = scipy.ndimage.gaussian_filter(mat,5)\n",
    "    B = B.astype(float)\n",
    "    file = open('/disk/student/adhara/Fall2021/FCNVMB-Deep-learning-based-seismic-velocity-model-building/data/train_data/SimulateData/trainA/'+str(kk)+'.npy','wb')\n",
    "    np.save(file,A)\n",
    "    file.close()\n",
    "    file = open('/disk/student/adhara/Fall2021/FCNVMB-Deep-learning-based-seismic-velocity-model-building/data/train_data/SimulateData/trainB/'+str(kk)+'.npy','wb')\n",
    "    np.save(file,B)\n",
    "    file.close()"
   ]
  },
  {
   "cell_type": "code",
   "execution_count": 63,
   "id": "0d2fe79c",
   "metadata": {},
   "outputs": [
    {
     "data": {
      "text/plain": [
       "0"
      ]
     },
     "execution_count": 63,
     "metadata": {},
     "output_type": "execute_result"
    }
   ],
   "source": [
    "os.system('rm -rf /disk/student/adhara/Fall2021/FCNVMB-Deep-learning-based-seismic-velocity-model-building/data/train_data/SimulateData/testA/')\n",
    "os.system('rm -rf /disk/student/adhara/Fall2021/FCNVMB-Deep-learning-based-seismic-velocity-model-building/data/train_data/SimulateData/testB/')\n",
    "\n",
    "os.system('mkdir /disk/student/adhara/Fall2021/FCNVMB-Deep-learning-based-seismic-velocity-model-building/data/train_data/SimulateData/testA/')\n",
    "os.system('mkdir /disk/student/adhara/Fall2021/FCNVMB-Deep-learning-based-seismic-velocity-model-building/data/train_data/SimulateData/testB/')"
   ]
  },
  {
   "cell_type": "code",
   "execution_count": 64,
   "id": "1f27aba0",
   "metadata": {},
   "outputs": [],
   "source": [
    "kk1 = 1\n",
    "for kk in range(750,800):\n",
    "    #kk=2\n",
    "    filename='/disk/student/adhara/Fall2021/FCNVMB-Deep-learning-based-seismic-velocity-model-building/data/train_data/SimulateData/vmodel_train/vmodel'+str(kk)+'.mat'\n",
    "    A = scipy.io.loadmat(filename)['vmodel']\n",
    "    A = A.astype(float)\n",
    "    B = scipy.ndimage.gaussian_filter(mat,5)\n",
    "    B = B.astype(float)\n",
    "    file = open('/disk/student/adhara/Fall2021/FCNVMB-Deep-learning-based-seismic-velocity-model-building/data/train_data/SimulateData/testA/'+str(kk1)+'.npy','wb')\n",
    "    np.save(file,A)\n",
    "    file.close()\n",
    "    file = open('/disk/student/adhara/Fall2021/FCNVMB-Deep-learning-based-seismic-velocity-model-building/data/train_data/SimulateData/testB/'+str(kk1)+'.npy','wb')\n",
    "    np.save(file,B)\n",
    "    file.close()\n",
    "    kk1 = kk1+1"
   ]
  },
  {
   "cell_type": "code",
   "execution_count": 50,
   "id": "d346c949",
   "metadata": {},
   "outputs": [
    {
     "data": {
      "text/plain": [
       "(201, 301)"
      ]
     },
     "execution_count": 50,
     "metadata": {},
     "output_type": "execute_result"
    }
   ],
   "source": [
    "np.shape(A)"
   ]
  },
  {
   "cell_type": "code",
   "execution_count": 51,
   "id": "fa92170c",
   "metadata": {},
   "outputs": [
    {
     "data": {
      "text/plain": [
       "array([[1602., 1602., 1602., ..., 1521., 1521., 1521.],\n",
       "       [1607., 1607., 1607., ..., 1525., 1524., 1524.],\n",
       "       [1617., 1617., 1617., ..., 1531., 1531., 1530.],\n",
       "       ...,\n",
       "       [2477., 2477., 2477., ..., 2477., 2477., 2477.],\n",
       "       [2477., 2477., 2477., ..., 2477., 2477., 2477.],\n",
       "       [2477., 2477., 2477., ..., 2477., 2477., 2477.]])"
      ]
     },
     "execution_count": 51,
     "metadata": {},
     "output_type": "execute_result"
    }
   ],
   "source": [
    "B"
   ]
  },
  {
   "cell_type": "code",
   "execution_count": null,
   "id": "c5fd60c8",
   "metadata": {},
   "outputs": [],
   "source": []
  }
 ],
 "metadata": {
  "kernelspec": {
   "display_name": "Python 3 (ipykernel)",
   "language": "python",
   "name": "python3"
  },
  "language_info": {
   "codemirror_mode": {
    "name": "ipython",
    "version": 3
   },
   "file_extension": ".py",
   "mimetype": "text/x-python",
   "name": "python",
   "nbconvert_exporter": "python",
   "pygments_lexer": "ipython3",
   "version": "3.7.3"
  }
 },
 "nbformat": 4,
 "nbformat_minor": 5
}
