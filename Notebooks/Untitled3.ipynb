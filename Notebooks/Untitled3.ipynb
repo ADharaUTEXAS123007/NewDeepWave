{
 "cells": [
  {
   "cell_type": "code",
   "execution_count": null,
   "id": "6b47c8c1",
   "metadata": {},
   "outputs": [],
   "source": [
    "import  numpy as np"
   ]
  },
  {
   "cell_type": "code",
   "execution_count": null,
   "id": "43d836c2",
   "metadata": {},
   "outputs": [],
   "source": []
  }
 ],
 "metadata": {
  "kernelspec": {
   "display_name": "Python 3 (ipykernel)",
   "language": "python",
   "name": "python3"
  }
 },
 "nbformat": 4,
 "nbformat_minor": 5
}
