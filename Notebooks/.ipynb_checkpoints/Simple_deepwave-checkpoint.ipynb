{
 "cells": [
  {
   "cell_type": "code",
   "execution_count": 74,
   "id": "babeff96",
   "metadata": {},
   "outputs": [],
   "source": [
    "# Need to restart runtime before this step\n",
    "import time\n",
    "import torch\n",
    "import torch.nn as nn\n",
    "import numpy as np\n",
    "import scipy.ndimage\n",
    "import matplotlib.pyplot as plt\n",
    "import deepwave\n",
    "import scipy.io"
   ]
  },
  {
   "cell_type": "code",
   "execution_count": 75,
   "id": "a226fb03",
   "metadata": {},
   "outputs": [
    {
     "name": "stdout",
     "output_type": "stream",
     "text": [
      "vmin= 2425.0139518029655 vmax= 4500.0 vmed= 3462.5069759014827 vwidth= 1037.4930240985173\n"
     ]
    }
   ],
   "source": [
    "#plot=True\n",
    "# Load the true model\n",
    "filename = '/disk/student/adhara/Fall2021/seismic-simulation-complex-media/generate_data/velocity/fault/velocity_750.npy'\n",
    "mat = np.load(filename)\n",
    "\n",
    "ny = np.size(mat,1);\n",
    "nz = np.size(mat,0);\n",
    "#RB compute true model mean value and width for future model normalization\n",
    "max=np.max(mat)\n",
    "min=np.min(mat)\n",
    "med=(max+min)/2.\n",
    "wid=(max-min)/2.\n",
    "\n",
    "print('vmin=',min,'vmax=',max,'vmed=',med,'vwidth=',wid)"
   ]
  },
  {
   "cell_type": "code",
   "execution_count": 76,
   "id": "a0bca5bf",
   "metadata": {},
   "outputs": [
    {
     "data": {
      "text/plain": [
       "201"
      ]
     },
     "execution_count": 76,
     "metadata": {},
     "output_type": "execute_result"
    }
   ],
   "source": [
    "nz"
   ]
  },
  {
   "cell_type": "code",
   "execution_count": 77,
   "id": "40384ca1",
   "metadata": {},
   "outputs": [],
   "source": [
    "# Set parameters\n",
    "freq = 25\n",
    "dx = 10.0\n",
    "dt = 0.001 # 4ms\n",
    "nt = 2000\n",
    "num_dims = 2\n",
    "num_shots = 30\n",
    "num_sources_per_shot = 1\n",
    "num_receivers_per_shot = 301\n",
    "source_spacing = ny * dx / num_shots\n",
    "receiver_spacing = ny * dx / num_receivers_per_shot\n",
    "device = torch.device('cuda:0')"
   ]
  },
  {
   "cell_type": "code",
   "execution_count": 78,
   "id": "291e143b",
   "metadata": {},
   "outputs": [],
   "source": [
    "# Create arrays containing the source and receiver locations\n",
    "# x_s: Source locations [num_shots, num_sources_per_shot, num_dimensions]\n",
    "# x_r: Receiver locations [num_shots, num_receivers_per_shot, num_dimensions]\n",
    "x_s = torch.zeros(num_shots, num_sources_per_shot, num_dims)\n",
    "x_s[:, 0, 1] = torch.arange(num_shots).float() * source_spacing\n",
    "x_r = torch.zeros(num_shots, num_receivers_per_shot, num_dims)\n",
    "x_r[0, :, 1] = torch.arange(num_receivers_per_shot).float() * receiver_spacing\n",
    "x_r[:, :, 1] = x_r[0, :, 1].repeat(num_shots, 1)\n",
    "\n",
    "# Create true source amplitudes [nt, num_shots, num_sources_per_shot]\n",
    "# I use Deepwave's Ricker wavelet function. The result is a normal Tensor - you\n",
    "# can use whatever Tensor you want as the source amplitude.\n",
    "source_amplitudes_true = (deepwave.wavelets.ricker(freq, nt, dt, 1/freq)\n",
    "                          .reshape(-1, 1, 1)\n",
    "                          .repeat(1, num_shots, num_sources_per_shot))"
   ]
  },
  {
   "cell_type": "code",
   "execution_count": 79,
   "id": "75b2fbcf",
   "metadata": {},
   "outputs": [
    {
     "name": "stdout",
     "output_type": "stream",
     "text": [
      "torch.Size([30, 301, 2])\n"
     ]
    }
   ],
   "source": [
    "print(np.shape(x_r))"
   ]
  },
  {
   "cell_type": "code",
   "execution_count": 81,
   "id": "d6de1aba",
   "metadata": {},
   "outputs": [
    {
     "name": "stdout",
     "output_type": "stream",
     "text": [
      "run forward propagator\n",
      "forward method\n"
     ]
    }
   ],
   "source": [
    "# Create 'true' data\n",
    "model_true = torch.Tensor(mat) # Convert to a PyTorch Tensor\n",
    "#model_true.requires_grad_()\n",
    "fr = nn.ReLU()\n",
    "model_true = fr(model_true)\n",
    "prop = deepwave.scalar.Propagator({'vp': model_true.to(device)}, dx)\n",
    "receiver_amplitudes_true = prop(source_amplitudes_true.to(device),\n",
    "                                x_s.to(device),\n",
    "                                x_r.to(device), dt)"
   ]
  },
  {
   "cell_type": "code",
   "execution_count": 82,
   "id": "1cca560e",
   "metadata": {},
   "outputs": [
    {
     "ename": "AttributeError",
     "evalue": "'NoneType' object has no attribute 'next_functions'",
     "output_type": "error",
     "traceback": [
      "\u001b[0;31m---------------------------------------------------------------------------\u001b[0m",
      "\u001b[0;31mAttributeError\u001b[0m                            Traceback (most recent call last)",
      "\u001b[0;32m<ipython-input-82-674315a5d4f1>\u001b[0m in \u001b[0;36m<module>\u001b[0;34m\u001b[0m\n\u001b[0;32m----> 1\u001b[0;31m \u001b[0mprint\u001b[0m\u001b[0;34m(\u001b[0m\u001b[0mmodel_true\u001b[0m\u001b[0;34m.\u001b[0m\u001b[0mgrad_fn\u001b[0m\u001b[0;34m.\u001b[0m\u001b[0mnext_functions\u001b[0m\u001b[0;34m[\u001b[0m\u001b[0;36m0\u001b[0m\u001b[0;34m]\u001b[0m\u001b[0;34m[\u001b[0m\u001b[0;36m0\u001b[0m\u001b[0;34m]\u001b[0m\u001b[0;34m)\u001b[0m\u001b[0;34m\u001b[0m\u001b[0;34m\u001b[0m\u001b[0m\n\u001b[0m",
      "\u001b[0;31mAttributeError\u001b[0m: 'NoneType' object has no attribute 'next_functions'"
     ]
    }
   ],
   "source": [
    "print(model_true.grad_fn.next_functions[0][0])"
   ]
  },
  {
   "cell_type": "code",
   "execution_count": 83,
   "id": "ec8a2008",
   "metadata": {},
   "outputs": [
    {
     "data": {
      "text/plain": [
       "torch.Size([2000, 30, 301])"
      ]
     },
     "execution_count": 83,
     "metadata": {},
     "output_type": "execute_result"
    }
   ],
   "source": [
    "# Verify that the returned receiver amplitudes have shape\n",
    "# [nt, num_shots, num_receivers_per_shot]\n",
    "receiver_amplitudes_true.shape"
   ]
  },
  {
   "cell_type": "code",
   "execution_count": 84,
   "id": "cf7a37a6",
   "metadata": {},
   "outputs": [
    {
     "data": {
      "text/plain": [
       "<matplotlib.image.AxesImage at 0x2b8d8979c910>"
      ]
     },
     "execution_count": 84,
     "metadata": {},
     "output_type": "execute_result"
    },
    {
     "data": {
      "image/png": "[encoded data removed]",
      "text/plain": [
       "<Figure size 432x288 with 1 Axes>"
      ]
     },
     "metadata": {
      "needs_background": "light"
     },
     "output_type": "display_data"
    }
   ],
   "source": [
    "# Plot one shot gather\n",
    "vmin, vmax = np.percentile(receiver_amplitudes_true[:,1].cpu().numpy(), [2,98])\n",
    "plt.imshow(receiver_amplitudes_true[:,1].cpu().numpy(), aspect='auto',\n",
    "           vmin=vmin, vmax=vmax)"
   ]
  },
  {
   "cell_type": "code",
   "execution_count": 85,
   "id": "bb6c2054",
   "metadata": {},
   "outputs": [],
   "source": [
    "# Create initial guess model for inversion by smoothing the true model\n",
    "model_init = scipy.ndimage.gaussian_filter(model_true.cpu().detach().numpy(),\n",
    "                                           sigma=15)\n",
    "model_init = torch.tensor(model_init)\n",
    "# Make a copy so at the end we can see how far we came from the initial model\n",
    "model = model_init.clone()\n",
    "model = model.to(device)\n",
    "model.requires_grad = True"
   ]
  },
  {
   "cell_type": "code",
   "execution_count": 99,
   "id": "0aaf1eab",
   "metadata": {},
   "outputs": [
    {
     "name": "stdout",
     "output_type": "stream",
     "text": [
      "torch.Size([201, 301])\n"
     ]
    }
   ],
   "source": [
    "print(np.shape(model))"
   ]
  },
  {
   "cell_type": "code",
   "execution_count": 86,
   "id": "3f31e9e2",
   "metadata": {},
   "outputs": [],
   "source": [
    "# Create initial guess source amplitude for inversion\n",
    "# I will assume that the true source amplitude is the same for every shot\n",
    "# so I will just create one source amplitude, and PyTorch will backpropagate\n",
    "# updates to it from every shot\n",
    "# This initial guess is shifted in frequency from the true one\n",
    "source_amplitudes_init = (deepwave.wavelets.ricker(freq+3, nt, dt, 1/freq)\n",
    "                          .reshape(-1, 1, 1))\n",
    "source_amplitudes = source_amplitudes_init.clone()\n",
    "source_amplitudes = source_amplitudes.to(device)\n",
    "source_amplitudes.requires_grad_(); # Alternative way of requiring gradient"
   ]
  },
  {
   "cell_type": "code",
   "execution_count": 87,
   "id": "edcf6935",
   "metadata": {},
   "outputs": [],
   "source": [
    "# To demonstrate chaining operations, during the inversion I will normalise the\n",
    "# predicted receiver amplitudes so that each trace has a maximum value of 1.\n",
    "# This will be compared (in the cost function) with the true data that has been\n",
    "# similarly scaled. I apply that scaling to the true data now.\n",
    "# This sort of scaling might be useful for real data where the absolute\n",
    "# amplitudes are often not meaningful.\n",
    "# I take the absolute value of the maximum and add a small positive value\n",
    "# (1e-10) to ensure that the denominator is never zero\n",
    "rcv_amps_true_max, _ = receiver_amplitudes_true.max(dim=0, keepdim=True)\n",
    "rcv_amps_true_norm = receiver_amplitudes_true / (rcv_amps_true_max.abs() + 1e-10)"
   ]
  },
  {
   "cell_type": "code",
   "execution_count": 103,
   "id": "c48b1e93",
   "metadata": {},
   "outputs": [
    {
     "name": "stdout",
     "output_type": "stream",
     "text": [
      "torch.Size([2000, 30, 301])\n"
     ]
    }
   ],
   "source": [
    "print(np.shape(rcv_amps_true_norm))"
   ]
  },
  {
   "cell_type": "code",
   "execution_count": 88,
   "id": "03b51d48",
   "metadata": {},
   "outputs": [],
   "source": [
    "# Set-up inversion\n",
    "# I use different learning rates for the model and source amplitude inversions\n",
    "# as they have very different scales. An alternative would be to rescale the\n",
    "# model.\n",
    "criterion = torch.nn.MSELoss()\n",
    "optimizer = torch.optim.Adam([{'params': [model], 'lr': 10}, \n",
    "                              {'params': [source_amplitudes], 'lr': 0.001}])"
   ]
  },
  {
   "cell_type": "code",
   "execution_count": 90,
   "id": "0b562efa",
   "metadata": {},
   "outputs": [
    {
     "name": "stdout",
     "output_type": "stream",
     "text": [
      "run forward propagator\n",
      "forward method\n",
      "run forward propagator\n",
      "forward method\n",
      "run forward propagator\n",
      "forward method\n",
      "run forward propagator\n",
      "forward method\n",
      "run forward propagator\n",
      "forward method\n",
      "run forward propagator\n",
      "forward method\n",
      "run forward propagator\n",
      "forward method\n",
      "run forward propagator\n",
      "forward method\n",
      "run forward propagator\n",
      "forward method\n",
      "run forward propagator\n",
      "forward method\n",
      "Epoch: 0 Loss:  0.031246579019352794\n"
     ]
    },
    {
     "data": {
      "image/png": "[encoded data removed]",
      "text/plain": [
       "<Figure size 576x288 with 1 Axes>"
      ]
     },
     "metadata": {
      "needs_background": "light"
     },
     "output_type": "display_data"
    },
    {
     "name": "stdout",
     "output_type": "stream",
     "text": [
      "Runtime: 0.7635021209716797\n"
     ]
    }
   ],
   "source": [
    "# Iterative inversion loop\n",
    "t_start = time.time()\n",
    "num_batches = 10 # split data into 10 batches for speed and reduced memory use\n",
    "num_shots_per_batch = int(num_shots / num_batches)\n",
    "num_epochs = 30 # Pass through the entire dataset 30 times\n",
    "vmin, vmax = np.percentile(model_true.numpy(), [2,98]) # For plotting\n",
    "for epoch in range(1):\n",
    "  epoch_loss = 0.0\n",
    "  for it in range(num_batches):\n",
    "    optimizer.zero_grad()\n",
    "    prop = deepwave.scalar.Propagator({'vp': model}, dx)\n",
    "    batch_src_amps = source_amplitudes.repeat(1, num_shots_per_batch, 1)\n",
    "    #print(\"shape of batch src amps\")\n",
    "    #print(np.shape(batch_src_amps))\n",
    "    batch_rcv_amps_true = rcv_amps_true_norm[:,it::num_batches].to(device)\n",
    "    batch_x_s = x_s[it::num_batches].to(device)\n",
    "    #print(\"shape of batch src amps\")\n",
    "    #print(np.shape(batch_x_s))\n",
    "    batch_x_r = x_r[it::num_batches].to(device)\n",
    "    #print(\"shape of batch receiver amps\")\n",
    "    #print(np.shape(batch_x_r))\n",
    "    batch_rcv_amps_pred = prop(batch_src_amps, batch_x_s, batch_x_r, dt)\n",
    "    batch_rcv_amps_pred_max, _ = batch_rcv_amps_pred.max(dim=0, keepdim=True)\n",
    "    # Normalize amplitudes by dividing by the maximum amplitude of each receiver\n",
    "    batch_rcv_amps_pred_norm = batch_rcv_amps_pred / (batch_rcv_amps_pred_max.abs() + 1e-10)\n",
    "    loss = criterion(batch_rcv_amps_pred_norm, batch_rcv_amps_true)\n",
    "    epoch_loss += loss.item()\n",
    "    loss.backward()\n",
    "    optimizer.step()\n",
    "  print('Epoch:', epoch, 'Loss: ', epoch_loss)\n",
    "  if epoch % 10 == 0:\n",
    "    plt.figure(figsize=(8, 4))\n",
    "    plt.imshow(model.cpu().detach().numpy(), vmin=vmin, vmax=vmax,\n",
    "               cmap='viridis')\n",
    "    plt.show()\n",
    "t_end = time.time()\n",
    "print('Runtime:', t_end - t_start)"
   ]
  },
  {
   "cell_type": "code",
   "execution_count": 91,
   "id": "1eae0da4",
   "metadata": {},
   "outputs": [
    {
     "data": {
      "text/plain": [
       "tensor([[[   0.0000,    0.0000]],\n",
       "\n",
       "        [[   0.0000,  100.3333]],\n",
       "\n",
       "        [[   0.0000,  200.6667]],\n",
       "\n",
       "        [[   0.0000,  301.0000]],\n",
       "\n",
       "        [[   0.0000,  401.3333]],\n",
       "\n",
       "        [[   0.0000,  501.6667]],\n",
       "\n",
       "        [[   0.0000,  602.0000]],\n",
       "\n",
       "        [[   0.0000,  702.3334]],\n",
       "\n",
       "        [[   0.0000,  802.6667]],\n",
       "\n",
       "        [[   0.0000,  903.0000]],\n",
       "\n",
       "        [[   0.0000, 1003.3334]],\n",
       "\n",
       "        [[   0.0000, 1103.6667]],\n",
       "\n",
       "        [[   0.0000, 1204.0000]],\n",
       "\n",
       "        [[   0.0000, 1304.3334]],\n",
       "\n",
       "        [[   0.0000, 1404.6667]],\n",
       "\n",
       "        [[   0.0000, 1505.0000]],\n",
       "\n",
       "        [[   0.0000, 1605.3334]],\n",
       "\n",
       "        [[   0.0000, 1705.6667]],\n",
       "\n",
       "        [[   0.0000, 1806.0000]],\n",
       "\n",
       "        [[   0.0000, 1906.3334]],\n",
       "\n",
       "        [[   0.0000, 2006.6667]],\n",
       "\n",
       "        [[   0.0000, 2107.0000]],\n",
       "\n",
       "        [[   0.0000, 2207.3335]],\n",
       "\n",
       "        [[   0.0000, 2307.6667]],\n",
       "\n",
       "        [[   0.0000, 2408.0000]],\n",
       "\n",
       "        [[   0.0000, 2508.3335]],\n",
       "\n",
       "        [[   0.0000, 2608.6667]],\n",
       "\n",
       "        [[   0.0000, 2709.0000]],\n",
       "\n",
       "        [[   0.0000, 2809.3335]],\n",
       "\n",
       "        [[   0.0000, 2909.6667]]])"
      ]
     },
     "execution_count": 91,
     "metadata": {},
     "output_type": "execute_result"
    }
   ],
   "source": [
    "x_s"
   ]
  },
  {
   "cell_type": "code",
   "execution_count": 93,
   "id": "8b5db390",
   "metadata": {},
   "outputs": [
    {
     "data": {
      "text/plain": [
       "tensor([25, 23,  6, 20, 11, 16,  0,  8,  2, 28,  4, 22,  3,  1, 26,  9,  5, 10,\n",
       "         7, 29, 14, 15, 19, 27, 21, 24, 12, 13, 18, 17])"
      ]
     },
     "execution_count": 93,
     "metadata": {},
     "output_type": "execute_result"
    }
   ],
   "source": [
    "idx = torch.randperm(num_shots)\n",
    "idx"
   ]
  },
  {
   "cell_type": "code",
   "execution_count": 94,
   "id": "b0b02d5f",
   "metadata": {},
   "outputs": [
    {
     "data": {
      "text/plain": [
       "torch.Size([30, 1, 2])"
      ]
     },
     "execution_count": 94,
     "metadata": {},
     "output_type": "execute_result"
    }
   ],
   "source": [
    "np.shape(x_s)"
   ]
  },
  {
   "cell_type": "code",
   "execution_count": 97,
   "id": "f2472f09",
   "metadata": {},
   "outputs": [
    {
     "data": {
      "text/plain": [
       "tensor([[   0.0000,    0.0000],\n",
       "        [   0.0000,  100.3333],\n",
       "        [   0.0000,  200.6667],\n",
       "        [   0.0000,  301.0000],\n",
       "        [   0.0000,  401.3333],\n",
       "        [   0.0000,  501.6667],\n",
       "        [   0.0000,  602.0000],\n",
       "        [   0.0000,  702.3334],\n",
       "        [   0.0000,  802.6667],\n",
       "        [   0.0000,  903.0000],\n",
       "        [   0.0000, 1003.3334],\n",
       "        [   0.0000, 1103.6667],\n",
       "        [   0.0000, 1204.0000],\n",
       "        [   0.0000, 1304.3334],\n",
       "        [   0.0000, 1404.6667],\n",
       "        [   0.0000, 1505.0000],\n",
       "        [   0.0000, 1605.3334],\n",
       "        [   0.0000, 1705.6667],\n",
       "        [   0.0000, 1806.0000],\n",
       "        [   0.0000, 1906.3334],\n",
       "        [   0.0000, 2006.6667],\n",
       "        [   0.0000, 2107.0000],\n",
       "        [   0.0000, 2207.3335],\n",
       "        [   0.0000, 2307.6667],\n",
       "        [   0.0000, 2408.0000],\n",
       "        [   0.0000, 2508.3335],\n",
       "        [   0.0000, 2608.6667],\n",
       "        [   0.0000, 2709.0000],\n",
       "        [   0.0000, 2809.3335],\n",
       "        [   0.0000, 2909.6667]])"
      ]
     },
     "execution_count": 97,
     "metadata": {},
     "output_type": "execute_result"
    }
   ],
   "source": [
    "x_s = x_s.view(-1,2)\n",
    "x_s"
   ]
  },
  {
   "cell_type": "code",
   "execution_count": 98,
   "id": "0980626e",
   "metadata": {},
   "outputs": [
    {
     "data": {
      "text/plain": [
       "tensor([[   0.0000, 2508.3335],\n",
       "        [   0.0000, 2307.6667],\n",
       "        [   0.0000,  602.0000],\n",
       "        [   0.0000, 2006.6667],\n",
       "        [   0.0000, 1103.6667],\n",
       "        [   0.0000, 1605.3334],\n",
       "        [   0.0000,    0.0000],\n",
       "        [   0.0000,  802.6667],\n",
       "        [   0.0000,  200.6667],\n",
       "        [   0.0000, 2809.3335],\n",
       "        [   0.0000,  401.3333],\n",
       "        [   0.0000, 2207.3335],\n",
       "        [   0.0000,  301.0000],\n",
       "        [   0.0000,  100.3333],\n",
       "        [   0.0000, 2608.6667],\n",
       "        [   0.0000,  903.0000],\n",
       "        [   0.0000,  501.6667],\n",
       "        [   0.0000, 1003.3334],\n",
       "        [   0.0000,  702.3334],\n",
       "        [   0.0000, 2909.6667],\n",
       "        [   0.0000, 1404.6667],\n",
       "        [   0.0000, 1505.0000],\n",
       "        [   0.0000, 1906.3334],\n",
       "        [   0.0000, 2709.0000],\n",
       "        [   0.0000, 2107.0000],\n",
       "        [   0.0000, 2408.0000],\n",
       "        [   0.0000, 1204.0000],\n",
       "        [   0.0000, 1304.3334],\n",
       "        [   0.0000, 1806.0000],\n",
       "        [   0.0000, 1705.6667]])"
      ]
     },
     "execution_count": 98,
     "metadata": {},
     "output_type": "execute_result"
    }
   ],
   "source": [
    "x_s = x_s[idx]\n",
    "x_s"
   ]
  },
  {
   "cell_type": "code",
   "execution_count": 96,
   "id": "70c1ba00",
   "metadata": {},
   "outputs": [
    {
     "data": {
      "text/plain": [
       "torch.Size([30, 2])"
      ]
     },
     "execution_count": 96,
     "metadata": {},
     "output_type": "execute_result"
    }
   ],
   "source": [
    "np.shape(x_s)"
   ]
  },
  {
   "cell_type": "code",
   "execution_count": null,
   "id": "675fe786",
   "metadata": {},
   "outputs": [],
   "source": [
    "print(receiver_amplitudes_true.grad_fn)"
   ]
  },
  {
   "cell_type": "code",
   "execution_count": 45,
   "id": "433cd5cf",
   "metadata": {},
   "outputs": [],
   "source": [
    "a = torch.tensor([2., 3.], requires_grad=True)\n",
    "b = torch.tensor([6., 4.], requires_grad=True)\n",
    "Q = 3*a**3 - b**2\n",
    "external_grad = torch.tensor([1., 1.])\n",
    "Q.backward(gradient=external_grad)"
   ]
  },
  {
   "cell_type": "code",
   "execution_count": 46,
   "id": "18e07416",
   "metadata": {},
   "outputs": [
    {
     "data": {
      "text/plain": [
       "tensor([36., 81.])"
      ]
     },
     "execution_count": 46,
     "metadata": {},
     "output_type": "execute_result"
    }
   ],
   "source": [
    "a.grad"
   ]
  },
  {
   "cell_type": "code",
   "execution_count": 47,
   "id": "bdf53a6f",
   "metadata": {},
   "outputs": [
    {
     "data": {
      "text/plain": [
       "tensor([-12.,  -8.])"
      ]
     },
     "execution_count": 47,
     "metadata": {},
     "output_type": "execute_result"
    }
   ],
   "source": [
    "b.grad"
   ]
  },
  {
   "cell_type": "code",
   "execution_count": 53,
   "id": "54e5e6f7",
   "metadata": {},
   "outputs": [],
   "source": [
    "import math\n",
    "class MyLinearLayer(nn.Module):\n",
    "    \"\"\" Custom Linear layer but mimics a standard linear layer \"\"\"\n",
    "    def __init__(self, size_in, size_out):\n",
    "        super().__init__()\n",
    "        self.size_in, self.size_out = size_in, size_out\n",
    "        weights = torch.Tensor(size_out, size_in)\n",
    "        self.weights = nn.Parameter(weights)  # nn.Parameter is a Tensor that's a module parameter.\n",
    "        bias = torch.Tensor(size_out)\n",
    "        self.bias = nn.Parameter(bias)\n",
    "\n",
    "        # initialize weights and biases\n",
    "        nn.init.kaiming_uniform_(self.weights, a=math.sqrt(5)) # weight init\n",
    "        fan_in, _ = nn.init._calculate_fan_in_and_fan_out(self.weights)\n",
    "        bound = 1 / math.sqrt(fan_in)\n",
    "        nn.init.uniform_(self.bias, -bound, bound)  # bias init\n",
    "\n",
    "    def forward(self, x):\n",
    "        w_times_x= torch.mm(x, self.weights.t())\n",
    "        return torch.add(w_times_x, self.bias)  # w times x + b"
   ]
  },
  {
   "cell_type": "code",
   "execution_count": 54,
   "id": "0d541f85",
   "metadata": {},
   "outputs": [],
   "source": [
    "class BasicModel(nn.Module):\n",
    "    def __init__(self):\n",
    "        super().__init__()\n",
    "        self.conv = nn.Conv2d(1, 128, 3)\n",
    "        # self.linear = nn.Linear(256, 2)\n",
    "        self.linear = MyLinearLayer(256, 2)\n",
    "\n",
    "    def forward(self, x):\n",
    "        x = self. conv(x)\n",
    "        x = x.view(-1, 256)\n",
    "        return self.linear(x)"
   ]
  },
  {
   "cell_type": "code",
   "execution_count": 58,
   "id": "6616a095",
   "metadata": {},
   "outputs": [
    {
     "name": "stdout",
     "output_type": "stream",
     "text": [
      "Forward computation thru model: tensor([[ 1.2722, -0.6224]], grad_fn=<AddBackward0>)\n"
     ]
    }
   ],
   "source": [
    "torch.manual_seed(0)  #  for repeatable results\n",
    "basic_model = BasicModel()\n",
    "inp = np.array([[[[1,2,3,4],  # batch(=1) x channels(=1) x height x width\n",
    "                  [1,2,3,4],\n",
    "                  [1,2,3,4]]]])\n",
    "x = torch.tensor(inp, dtype=torch.float)\n",
    "y = basic_model(x)\n",
    "print('Forward computation thru model:', y)"
   ]
  },
  {
   "cell_type": "code",
   "execution_count": 66,
   "id": "fc1893f8",
   "metadata": {},
   "outputs": [],
   "source": [
    "y.grad_fn.next_functions[0][0].next_functions[0][0].next_functions[0][0].next_functions[0][0]"
   ]
  },
  {
   "cell_type": "code",
   "execution_count": 67,
   "id": "b1a6060b",
   "metadata": {},
   "outputs": [
    {
     "data": {
      "text/plain": [
       "tensor([[ 1.2722, -0.6224]], grad_fn=<AddBackward0>)"
      ]
     },
     "execution_count": 67,
     "metadata": {},
     "output_type": "execute_result"
    }
   ],
   "source": [
    "y"
   ]
  },
  {
   "cell_type": "code",
   "execution_count": 69,
   "id": "013ab196",
   "metadata": {},
   "outputs": [],
   "source": [
    "po = np.array([[3.4, 9.0]])\n",
    "po = torch.tensor(po, dtype= torch.float)"
   ]
  },
  {
   "cell_type": "code",
   "execution_count": 72,
   "id": "81de04c4",
   "metadata": {},
   "outputs": [
    {
     "data": {
      "text/plain": [
       "<function Tensor.values>"
      ]
     },
     "execution_count": 72,
     "metadata": {},
     "output_type": "execute_result"
    }
   ],
   "source": [
    "y."
   ]
  },
  {
   "cell_type": "code",
   "execution_count": null,
   "id": "ce25de69",
   "metadata": {},
   "outputs": [],
   "source": []
  }
 ],
 "metadata": {
  "kernelspec": {
   "display_name": "Python 3 (ipykernel)",
   "language": "python",
   "name": "python3"
  },
  "language_info": {
   "codemirror_mode": {
    "name": "ipython",
    "version": 3
   },
   "file_extension": ".py",
   "mimetype": "text/x-python",
   "name": "python",
   "nbconvert_exporter": "python",
   "pygments_lexer": "ipython3",
   "version": "3.7.3"
  }
 },
 "nbformat": 4,
 "nbformat_minor": 5
}
