{
 "cells": [
  {
   "cell_type": "code",
   "execution_count": 1,
   "id": "01a0d383",
   "metadata": {},
   "outputs": [],
   "source": [
    "# Need to restart runtime before this step\n",
    "import time\n",
    "import torch\n",
    "import numpy as np\n",
    "import scipy.ndimage\n",
    "import scipy.io\n",
    "import matplotlib.pyplot as plt\n",
    "import deepwave\n",
    "import os\n",
    "import csv\n",
    "from sklearn.feature_extraction import image\n",
    "from skimage.transform import resize\n",
    "from mpl_toolkits.axes_grid1 import make_axes_locatable"
   ]
  },
  {
   "cell_type": "code",
   "execution_count": 3,
   "id": "e0cdcc8e",
   "metadata": {},
   "outputs": [
    {
     "name": "stdout",
     "output_type": "stream",
     "text": [
      "Logging hadn't been started.\n"
     ]
    }
   ],
   "source": [
    "# General info\n",
    "# using Adam Optimization\n",
    "# Shuffling sources every epoch\n",
    "# SCHUSTER's MARMOUSI MODEL\n",
    "\n",
    "# General parameters\n",
    "GPU=2     # which GPU to use\n",
    "plot=False # Plot Intermediate results\n",
    "sigma=5.0   # Initial model smoothness  \n",
    "\n",
    "# Inversion parameters\n",
    "num_batches = 2\n",
    "num_epochs = 5000\n",
    "\n",
    "#gamma = 300  # Does not apply, Adam uses lr (learning rate) instead of gamma\n",
    "# Adam learning rate\n",
    "lr = 4\n",
    "\n",
    "# Modeling parameters\n",
    "freq = 8\n",
    "dx = 10\n",
    "dt = 0.001\n",
    "nt = 4001\n",
    "num_shots = 18\n",
    "num_receivers_per_shot = 200\n",
    "\n",
    "# receiver_spacing = # computed below from ny,dx and num_receivers_per_shot\n",
    "\n",
    "# Close the ouput.txt file with saved parameters\n",
    "%logstop "
   ]
  },
  {
   "cell_type": "code",
   "execution_count": 4,
   "id": "160c27a0",
   "metadata": {},
   "outputs": [
    {
     "name": "stdout",
     "output_type": "stream",
     "text": [
      "vmin= 1500.0 vmax= 3550.000244140625 vmed= 2525.0001220703125 vwidth= 1025.0001220703125\n"
     ]
    }
   ],
   "source": [
    "plot=True\n",
    "# Load the true model\n",
    "filename='../FWI_Ricardo/Marm151_401.mat'\n",
    "mat=scipy.io.loadmat(filename)['vel']\n",
    "mat = resize(mat,(151,200))\n",
    "#mat = np.loadtxt('marmhard2.dat')\n",
    "#mat = np.pad(mat,((10,0),(0,0)),'edge') #RB add some water layer\n",
    "#RB Get model size\n",
    "ny = np.size(mat,1);\n",
    "nz = np.size(mat,0);\n",
    "#RB compute true model mean value and width for future model normalization\n",
    "max1=np.max(mat)\n",
    "min1=np.min(mat)\n",
    "med=(max1+min1)/2.\n",
    "wid=(max1-min1)/2.\n",
    "\n",
    "print('vmin=',min1,'vmax=',max1,'vmed=',med,'vwidth=',wid)\n"
   ]
  },
  {
   "cell_type": "code",
   "execution_count": 5,
   "id": "0f84b6b5",
   "metadata": {},
   "outputs": [],
   "source": [
    "# Specify which GPU to use (in multi GPU machines)\n",
    "torch.cuda.set_device(GPU)  #RB Necessary if device <> 0\n",
    "GPU_string='cuda:'+str(GPU)\n",
    "device = torch.device(GPU_string)"
   ]
  },
  {
   "cell_type": "code",
   "execution_count": 6,
   "id": "cc3635f6",
   "metadata": {},
   "outputs": [
    {
     "name": "stdout",
     "output_type": "stream",
     "text": [
      "ny= 200 nz= 151 nt= 4001 dx= 10 freq= 8\n",
      "shots= 18 recs/shot= 200 ds= 111.11111111111111 dr= 10.0\n"
     ]
    }
   ],
   "source": [
    "# Set parameters\n",
    "num_dims = 2\n",
    "#num_shots = 32\n",
    "num_sources_per_shot = 1\n",
    "#num_receivers_per_shot = 200\n",
    "\n",
    "#RB source_spacing = 25.0\n",
    "#RB receiver_spacing = 10.0\n",
    "source_spacing = ny * dx / num_shots\n",
    "receiver_spacing = ny * dx / num_receivers_per_shot\n",
    "#receiver_spacing = 8.\n",
    "\n",
    "print('ny=',ny,'nz=',nz,'nt=',nt,'dx=',dx,'freq=',freq)\n",
    "print('shots=',num_shots,'recs/shot=',num_receivers_per_shot, \\\n",
    "      'ds=',source_spacing,'dr=',receiver_spacing)\n"
   ]
  },
  {
   "cell_type": "code",
   "execution_count": 26,
   "id": "1db66b64",
   "metadata": {},
   "outputs": [],
   "source": [
    "# Create arrays containing the source and receiver locations\n",
    "# x_s: Source locations [num_shots, num_sources_per_shot, num_dimensions]\n",
    "# x_r: Receiver locations [num_shots, num_receivers_per_shot, num_dimensions]\n",
    "x_s = torch.zeros(num_shots, num_sources_per_shot, num_dims)\n",
    "x_s[:, 0, 0] = torch.linspace(0,(ny-1)*dx,num_shots)\n",
    "x_s[:, 0, 1] = 10. #RB Set source depth\n",
    "\n",
    "po = len(torch.arange(4,num_receivers_per_shot))\n",
    "x_r = torch.zeros(num_shots, po, num_dims)\n",
    "x_r[:, :, 0] = torch.arange(4,num_receivers_per_shot).float() * receiver_spacing\n",
    "x_r[:, :, 1] = 15.\n",
    "\n",
    "source_amplitudes_true = (deepwave.wavelets.ricker(freq, nt, dt, 1/freq)\n",
    "    .repeat(num_shots, 1, 1)\n",
    "    .to(device))"
   ]
  },
  {
   "cell_type": "code",
   "execution_count": 27,
   "id": "bbd429fe",
   "metadata": {},
   "outputs": [
    {
     "data": {
      "text/plain": [
       "10.0"
      ]
     },
     "execution_count": 27,
     "metadata": {},
     "output_type": "execute_result"
    }
   ],
   "source": [
    "receiver_spacing"
   ]
  },
  {
   "cell_type": "code",
   "execution_count": 28,
   "id": "295df9a0",
   "metadata": {},
   "outputs": [],
   "source": [
    "#RB Convert models to PyTorch Tensors\n",
    "model_true = torch.Tensor(mat) # Convert to a PyTorch Tensor"
   ]
  },
  {
   "cell_type": "code",
   "execution_count": 29,
   "id": "dff5f85b",
   "metadata": {},
   "outputs": [
    {
     "ename": "RuntimeError",
     "evalue": "Locations must be within model.",
     "output_type": "error",
     "traceback": [
      "\u001b[0;31m---------------------------------------------------------------------------\u001b[0m",
      "\u001b[0;31mRuntimeError\u001b[0m                              Traceback (most recent call last)",
      "Cell \u001b[0;32mIn[29], line 1\u001b[0m\n\u001b[0;32m----> 1\u001b[0m out \u001b[38;5;241m=\u001b[39m \u001b[43mdeepwave\u001b[49m\u001b[38;5;241;43m.\u001b[39;49m\u001b[43mscalar\u001b[49m\u001b[43m(\u001b[49m\u001b[43mmodel_true\u001b[49m\u001b[38;5;241;43m.\u001b[39;49m\u001b[43mto\u001b[49m\u001b[43m(\u001b[49m\u001b[43mdevice\u001b[49m\u001b[43m)\u001b[49m\u001b[43m,\u001b[49m\u001b[43m \u001b[49m\u001b[43mdx\u001b[49m\u001b[43m,\u001b[49m\u001b[43m \u001b[49m\u001b[43mdt\u001b[49m\u001b[43m,\u001b[49m\u001b[43m \u001b[49m\u001b[43msource_amplitudes\u001b[49m\u001b[38;5;241;43m=\u001b[39;49m\u001b[43msource_amplitudes_true\u001b[49m\u001b[43m,\u001b[49m\n\u001b[1;32m      2\u001b[0m \u001b[43m             \u001b[49m\u001b[43msource_locations\u001b[49m\u001b[38;5;241;43m=\u001b[39;49m\u001b[43mx_s\u001b[49m\u001b[38;5;241;43m.\u001b[39;49m\u001b[43mto\u001b[49m\u001b[43m(\u001b[49m\u001b[43mdevice\u001b[49m\u001b[43m)\u001b[49m\u001b[43m,\u001b[49m\n\u001b[1;32m      3\u001b[0m \u001b[43m             \u001b[49m\u001b[43mreceiver_locations\u001b[49m\u001b[38;5;241;43m=\u001b[39;49m\u001b[43mx_r\u001b[49m\u001b[38;5;241;43m.\u001b[39;49m\u001b[43mto\u001b[49m\u001b[43m(\u001b[49m\u001b[43mdevice\u001b[49m\u001b[43m)\u001b[49m\u001b[43m,\u001b[49m\n\u001b[1;32m      4\u001b[0m \u001b[43m             \u001b[49m\u001b[43maccuracy\u001b[49m\u001b[38;5;241;43m=\u001b[39;49m\u001b[38;5;241;43m8\u001b[39;49m\u001b[43m,\u001b[49m\n\u001b[1;32m      5\u001b[0m \u001b[43m             \u001b[49m\u001b[43mpml_freq\u001b[49m\u001b[38;5;241;43m=\u001b[39;49m\u001b[43mfreq\u001b[49m\u001b[43m)\u001b[49m\n",
      "File \u001b[0;32m/disk/student/adhara/anaconda3/envs/deepwave7/lib/python3.8/site-packages/deepwave/scalar.py:360\u001b[0m, in \u001b[0;36mscalar\u001b[0;34m(v, grid_spacing, dt, source_amplitudes, source_locations, receiver_locations, accuracy, pml_width, pml_freq, max_vel, survey_pad, wavefield_0, wavefield_m1, psiy_m1, psix_m1, zetay_m1, zetax_m1, origin, nt, model_gradient_sampling_interval, freq_taper_frac, time_pad_frac)\u001b[0m\n\u001b[1;32m    125\u001b[0m \u001b[38;5;28;01mdef\u001b[39;00m \u001b[38;5;21mscalar\u001b[39m(v: Tensor,\n\u001b[1;32m    126\u001b[0m            grid_spacing: Union[\u001b[38;5;28mint\u001b[39m, \u001b[38;5;28mfloat\u001b[39m, List[\u001b[38;5;28mfloat\u001b[39m],\n\u001b[1;32m    127\u001b[0m                                Tensor],\n\u001b[0;32m   (...)\u001b[0m\n\u001b[1;32m    147\u001b[0m                                                 Tensor, Tensor,\n\u001b[1;32m    148\u001b[0m                                                 Tensor]:\n\u001b[1;32m    149\u001b[0m     \u001b[38;5;124;03m\"\"\"Scalar wave propagation (functional interface).\u001b[39;00m\n\u001b[1;32m    150\u001b[0m \n\u001b[1;32m    151\u001b[0m \u001b[38;5;124;03m    This function performs forward modelling with the scalar wave equation.\u001b[39;00m\n\u001b[0;32m   (...)\u001b[0m\n\u001b[1;32m    353\u001b[0m \n\u001b[1;32m    354\u001b[0m \u001b[38;5;124;03m    \"\"\"\u001b[39;00m\n\u001b[1;32m    355\u001b[0m     (models, source_amplitudes_l, wavefields,\n\u001b[1;32m    356\u001b[0m      pml_profiles, sources_i_l, receivers_i_l,\n\u001b[1;32m    357\u001b[0m      dy, dx, dt, nt, n_batch,\n\u001b[1;32m    358\u001b[0m      step_ratio, model_gradient_sampling_interval,\n\u001b[1;32m    359\u001b[0m      accuracy, pml_width_list) \u001b[38;5;241m=\u001b[39m \\\n\u001b[0;32m--> 360\u001b[0m         \u001b[43msetup_propagator\u001b[49m\u001b[43m(\u001b[49m\u001b[43m[\u001b[49m\u001b[43mv\u001b[49m\u001b[43m]\u001b[49m\u001b[43m,\u001b[49m\u001b[43m \u001b[49m\u001b[38;5;124;43m'\u001b[39;49m\u001b[38;5;124;43mscalar\u001b[39;49m\u001b[38;5;124;43m'\u001b[39;49m\u001b[43m,\u001b[49m\u001b[43m \u001b[49m\u001b[43mgrid_spacing\u001b[49m\u001b[43m,\u001b[49m\u001b[43m \u001b[49m\u001b[43mdt\u001b[49m\u001b[43m,\u001b[49m\n\u001b[1;32m    361\u001b[0m \u001b[43m                         \u001b[49m\u001b[43m[\u001b[49m\u001b[43mwavefield_0\u001b[49m\u001b[43m,\u001b[49m\u001b[43m \u001b[49m\u001b[43mwavefield_m1\u001b[49m\u001b[43m,\u001b[49m\u001b[43m \u001b[49m\u001b[43mpsiy_m1\u001b[49m\u001b[43m,\u001b[49m\u001b[43m \u001b[49m\u001b[43mpsix_m1\u001b[49m\u001b[43m,\u001b[49m\n\u001b[1;32m    362\u001b[0m \u001b[43m                          \u001b[49m\u001b[43mzetay_m1\u001b[49m\u001b[43m,\u001b[49m\u001b[43m \u001b[49m\u001b[43mzetax_m1\u001b[49m\u001b[43m]\u001b[49m\u001b[43m,\u001b[49m\n\u001b[1;32m    363\u001b[0m \u001b[43m                         \u001b[49m\u001b[43m[\u001b[49m\u001b[43msource_amplitudes\u001b[49m\u001b[43m]\u001b[49m\u001b[43m,\u001b[49m\n\u001b[1;32m    364\u001b[0m \u001b[43m                         \u001b[49m\u001b[43m[\u001b[49m\u001b[43msource_locations\u001b[49m\u001b[43m]\u001b[49m\u001b[43m,\u001b[49m\u001b[43m \u001b[49m\u001b[43m[\u001b[49m\u001b[43mreceiver_locations\u001b[49m\u001b[43m]\u001b[49m\u001b[43m,\u001b[49m\n\u001b[1;32m    365\u001b[0m \u001b[43m                         \u001b[49m\u001b[43maccuracy\u001b[49m\u001b[43m,\u001b[49m\u001b[43m \u001b[49m\u001b[43mpml_width\u001b[49m\u001b[43m,\u001b[49m\u001b[43m \u001b[49m\u001b[43mpml_freq\u001b[49m\u001b[43m,\u001b[49m\u001b[43m \u001b[49m\u001b[43mmax_vel\u001b[49m\u001b[43m,\u001b[49m\n\u001b[1;32m    366\u001b[0m \u001b[43m                         \u001b[49m\u001b[43msurvey_pad\u001b[49m\u001b[43m,\u001b[49m\n\u001b[1;32m    367\u001b[0m \u001b[43m                         \u001b[49m\u001b[43morigin\u001b[49m\u001b[43m,\u001b[49m\u001b[43m \u001b[49m\u001b[43mnt\u001b[49m\u001b[43m,\u001b[49m\u001b[43m \u001b[49m\u001b[43mmodel_gradient_sampling_interval\u001b[49m\u001b[43m,\u001b[49m\n\u001b[1;32m    368\u001b[0m \u001b[43m                         \u001b[49m\u001b[43mfreq_taper_frac\u001b[49m\u001b[43m,\u001b[49m\u001b[43m \u001b[49m\u001b[43mtime_pad_frac\u001b[49m\u001b[43m)\u001b[49m\n\u001b[1;32m    369\u001b[0m     v \u001b[38;5;241m=\u001b[39m models[\u001b[38;5;241m0\u001b[39m]\n\u001b[1;32m    370\u001b[0m     wfc, wfp, psiy, psix, zetay, zetax \u001b[38;5;241m=\u001b[39m wavefields\n",
      "File \u001b[0;32m/disk/student/adhara/anaconda3/envs/deepwave7/lib/python3.8/site-packages/deepwave/common.py:72\u001b[0m, in \u001b[0;36msetup_propagator\u001b[0;34m(models, prop_type, grid_spacing, dt, wavefields, source_amplitudes, source_locations, receiver_locations, accuracy, pml_width, pml_freq, max_vel, survey_pad, origin, nt, model_gradient_sampling_interval, freq_taper_frac, time_pad_frac)\u001b[0m\n\u001b[1;32m     70\u001b[0m dy, dx \u001b[38;5;241m=\u001b[39m set_dx(grid_spacing)\n\u001b[1;32m     71\u001b[0m pad \u001b[38;5;241m=\u001b[39m [fd_pad \u001b[38;5;241m+\u001b[39m width \u001b[38;5;28;01mfor\u001b[39;00m width \u001b[38;5;129;01min\u001b[39;00m pml_width]\n\u001b[0;32m---> 72\u001b[0m models, locations \u001b[38;5;241m=\u001b[39m \u001b[43mextract_survey\u001b[49m\u001b[43m(\u001b[49m\n\u001b[1;32m     73\u001b[0m \u001b[43m    \u001b[49m\u001b[43mmodels\u001b[49m\u001b[43m,\u001b[49m\n\u001b[1;32m     74\u001b[0m \u001b[43m    \u001b[49m\u001b[43msource_locations\u001b[49m\u001b[43m \u001b[49m\u001b[38;5;241;43m+\u001b[39;49m\u001b[43m \u001b[49m\u001b[43mreceiver_locations\u001b[49m\u001b[43m,\u001b[49m\n\u001b[1;32m     75\u001b[0m \u001b[43m    \u001b[49m\u001b[43msurvey_pad\u001b[49m\u001b[43m,\u001b[49m\u001b[43m \u001b[49m\u001b[43mwavefields\u001b[49m\u001b[43m,\u001b[49m\u001b[43m \u001b[49m\u001b[43morigin\u001b[49m\u001b[43m,\u001b[49m\u001b[43m \u001b[49m\u001b[43mpml_width\u001b[49m\n\u001b[1;32m     76\u001b[0m \u001b[43m\u001b[49m\u001b[43m)\u001b[49m\n\u001b[1;32m     77\u001b[0m source_locations \u001b[38;5;241m=\u001b[39m locations[:\u001b[38;5;28mlen\u001b[39m(source_locations)]\n\u001b[1;32m     78\u001b[0m receiver_locations \u001b[38;5;241m=\u001b[39m locations[\u001b[38;5;28mlen\u001b[39m(source_locations):]\n",
      "File \u001b[0;32m/disk/student/adhara/anaconda3/envs/deepwave7/lib/python3.8/site-packages/deepwave/common.py:584\u001b[0m, in \u001b[0;36mextract_survey\u001b[0;34m(models, locations, survey_pad, wavefields, origin, pad)\u001b[0m\n\u001b[1;32m    576\u001b[0m \u001b[38;5;28;01mdef\u001b[39;00m \u001b[38;5;21mextract_survey\u001b[39m(models: List[Tensor],\n\u001b[1;32m    577\u001b[0m                    locations: List[Optional[Tensor]],\n\u001b[1;32m    578\u001b[0m                    survey_pad: Optional[Union[\u001b[38;5;28mint\u001b[39m,\n\u001b[0;32m   (...)\u001b[0m\n\u001b[1;32m    582\u001b[0m                    pad: List[\u001b[38;5;28mint\u001b[39m]) \u001b[38;5;241m-\u001b[39m\u001b[38;5;241m>\u001b[39m Tuple[List[Tensor],\n\u001b[1;32m    583\u001b[0m                                             List[Optional[Tensor]]]:\n\u001b[0;32m--> 584\u001b[0m     \u001b[43mcheck_locations_are_within_model\u001b[49m\u001b[43m(\u001b[49m\u001b[43mmodels\u001b[49m\u001b[43m[\u001b[49m\u001b[38;5;241;43m0\u001b[39;49m\u001b[43m]\u001b[49m\u001b[38;5;241;43m.\u001b[39;49m\u001b[43mshape\u001b[49m\u001b[43m,\u001b[49m\u001b[43m \u001b[49m\u001b[43mlocations\u001b[49m\u001b[43m)\u001b[49m\n\u001b[1;32m    585\u001b[0m     \u001b[38;5;28;01mif\u001b[39;00m \u001b[38;5;28many\u001b[39m([wavefield \u001b[38;5;129;01mis\u001b[39;00m \u001b[38;5;129;01mnot\u001b[39;00m \u001b[38;5;28;01mNone\u001b[39;00m \u001b[38;5;28;01mfor\u001b[39;00m wavefield \u001b[38;5;129;01min\u001b[39;00m wavefields]):\n\u001b[1;32m    586\u001b[0m         survey_extents \u001b[38;5;241m=\u001b[39m get_survey_extents_from_wavefields(\n\u001b[1;32m    587\u001b[0m             wavefields, origin, pad\n\u001b[1;32m    588\u001b[0m         )\n",
      "File \u001b[0;32m/disk/student/adhara/anaconda3/envs/deepwave7/lib/python3.8/site-packages/deepwave/common.py:610\u001b[0m, in \u001b[0;36mcheck_locations_are_within_model\u001b[0;34m(model_shape, locations)\u001b[0m\n\u001b[1;32m    608\u001b[0m \u001b[38;5;28;01mfor\u001b[39;00m dim, model_dim_shape \u001b[38;5;129;01min\u001b[39;00m \u001b[38;5;28menumerate\u001b[39m(model_shape):\n\u001b[1;32m    609\u001b[0m     \u001b[38;5;28;01mif\u001b[39;00m location[\u001b[38;5;241m.\u001b[39m\u001b[38;5;241m.\u001b[39m\u001b[38;5;241m.\u001b[39m, dim]\u001b[38;5;241m.\u001b[39mmax() \u001b[38;5;241m>\u001b[39m\u001b[38;5;241m=\u001b[39m model_dim_shape:\n\u001b[0;32m--> 610\u001b[0m         \u001b[38;5;28;01mraise\u001b[39;00m \u001b[38;5;167;01mRuntimeError\u001b[39;00m(\u001b[38;5;124m\"\u001b[39m\u001b[38;5;124mLocations must be within model.\u001b[39m\u001b[38;5;124m\"\u001b[39m)\n",
      "\u001b[0;31mRuntimeError\u001b[0m: Locations must be within model."
     ]
    }
   ],
   "source": [
    "out = deepwave.scalar(model_true.to(device), dx, dt, source_amplitudes=source_amplitudes_true,\n",
    "             source_locations=x_s.to(device),\n",
    "             receiver_locations=x_r.to(device),\n",
    "             accuracy=8,\n",
    "             pml_freq=freq)"
   ]
  },
  {
   "cell_type": "code",
   "execution_count": null,
   "id": "1aa33477",
   "metadata": {},
   "outputs": [],
   "source": []
  }
 ],
 "metadata": {
  "kernelspec": {
   "display_name": "Python 3 (ipykernel)",
   "language": "python",
   "name": "python3"
  },
  "language_info": {
   "codemirror_mode": {
    "name": "ipython",
    "version": 3
   },
   "file_extension": ".py",
   "mimetype": "text/x-python",
   "name": "python",
   "nbconvert_exporter": "python",
   "pygments_lexer": "ipython3",
   "version": "3.8.13"
  }
 },
 "nbformat": 4,
 "nbformat_minor": 5
}
