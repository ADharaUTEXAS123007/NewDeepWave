{
 "cells": [
  {
   "cell_type": "code",
   "execution_count": 209,
   "id": "e6b3d211",
   "metadata": {},
   "outputs": [],
   "source": [
    "import numpy as np\n",
    "from skimage.measure import block_reduce\n",
    "import skimage\n",
    "import scipy.io\n",
    "import os\n",
    "from IPython.core.debugger import set_trace\n",
    "from skimage.transform import resize\n",
    "import matplotlib.pyplot as plt"
   ]
  },
  {
   "cell_type": "code",
   "execution_count": 210,
   "id": "c3c12b82",
   "metadata": {},
   "outputs": [],
   "source": [
    "SimulateData  = True          # If False denotes training the CNN with SEGSaltData\n",
    "ReUse         = False         # If False always re-train a network \n",
    "DataDim       = [1000,70]    # Dimension of original one-shot seismic data\n",
    "data_dsp_blk  = (2,1)         # Downsampling ratio of input\n",
    "ModelDim      = [70,70]     # Dimension of one velocity model\n",
    "label_dsp_blk = (1,1)         # Downsampling ratio of output\n",
    "dh            = 15            # Space interval \n"
   ]
  },
  {
   "cell_type": "code",
   "execution_count": 211,
   "id": "11691e6d",
   "metadata": {},
   "outputs": [],
   "source": [
    "Epochs        = 1       # Number of epoch\n",
    "TrainSize1     = 445   # Number of training set\n",
    "TrainSize2     = 0    # Number in training set\n",
    "TestSize      = 50      # Number of testing set\n",
    "TestBatchSize = 1"
   ]
  },
  {
   "cell_type": "code",
   "execution_count": 212,
   "id": "f8203cb5",
   "metadata": {},
   "outputs": [],
   "source": [
    "BatchSize         = 10      # Number of batch size\n",
    "LearnRate         = 1e-3      # Learning rate\n",
    "Nclasses          = 1         # Number of output channels\n",
    "Inchannels        = 6        # Number of input channels, i.e. the number of shots\n",
    "SaveEpoch         = 20        \n",
    "DisplayStep       = 2         # Number of steps till outputting stats"
   ]
  },
  {
   "cell_type": "code",
   "execution_count": 213,
   "id": "4ec4e1a4",
   "metadata": {},
   "outputs": [
    {
     "ename": "NameError",
     "evalue": "name 'TrainSize' is not defined",
     "output_type": "error",
     "traceback": [
      "\u001b[0;31m---------------------------------------------------------------------------\u001b[0m",
      "\u001b[0;31mNameError\u001b[0m                                 Traceback (most recent call last)",
      "\u001b[0;32m/tmp/ipykernel_163056/4212777106.py\u001b[0m in \u001b[0;36m<module>\u001b[0;34m\u001b[0m\n\u001b[1;32m     48\u001b[0m     \u001b[0mtagM\u001b[0m \u001b[0;34m=\u001b[0m \u001b[0;34m'SEGSalt'\u001b[0m\u001b[0;34m\u001b[0m\u001b[0;34m\u001b[0m\u001b[0m\n\u001b[1;32m     49\u001b[0m \u001b[0mtagM0\u001b[0m \u001b[0;34m=\u001b[0m \u001b[0;34m'_FCNVMBModel'\u001b[0m\u001b[0;34m\u001b[0m\u001b[0;34m\u001b[0m\u001b[0m\n\u001b[0;32m---> 50\u001b[0;31m \u001b[0mtagM1\u001b[0m \u001b[0;34m=\u001b[0m \u001b[0;34m'_TrainSize'\u001b[0m \u001b[0;34m+\u001b[0m \u001b[0mstr\u001b[0m\u001b[0;34m(\u001b[0m\u001b[0mTrainSize\u001b[0m\u001b[0;34m)\u001b[0m\u001b[0;34m\u001b[0m\u001b[0;34m\u001b[0m\u001b[0m\n\u001b[0m\u001b[1;32m     51\u001b[0m \u001b[0mtagM2\u001b[0m \u001b[0;34m=\u001b[0m \u001b[0;34m'_Epoch'\u001b[0m     \u001b[0;34m+\u001b[0m \u001b[0mstr\u001b[0m\u001b[0;34m(\u001b[0m\u001b[0mEpochs\u001b[0m\u001b[0;34m)\u001b[0m\u001b[0;34m\u001b[0m\u001b[0;34m\u001b[0m\u001b[0m\n\u001b[1;32m     52\u001b[0m \u001b[0mtagM3\u001b[0m \u001b[0;34m=\u001b[0m \u001b[0;34m'_BatchSize'\u001b[0m \u001b[0;34m+\u001b[0m \u001b[0mstr\u001b[0m\u001b[0;34m(\u001b[0m\u001b[0mBatchSize\u001b[0m\u001b[0;34m)\u001b[0m\u001b[0;34m\u001b[0m\u001b[0;34m\u001b[0m\u001b[0m\n",
      "\u001b[0;31mNameError\u001b[0m: name 'TrainSize' is not defined"
     ]
    }
   ],
   "source": [
    "tagD0 = 'georec'\n",
    "tagV0 = 'vmodel'\n",
    "tagD1 = 'Rec'\n",
    "tagV1 = 'vmodel'\n",
    "datafilename  = tagD0\n",
    "dataname      = tagD1\n",
    "truthfilename = tagV0\n",
    "truthname     = tagV1\n",
    "main_dir   = '/disk/student/adhara/Fall2021/FCNVMB-Deep-learning-based-seismic-velocity-model-building/'\n",
    "data_dir    = main_dir + 'data/' \n",
    "train_data_dir  = data_dir  + 'train_data/'        # Replace your training data path here\n",
    "test_data_dir   = data_dir  + 'test_data/'         # Replace your testing data path here\n",
    "# Define directory for simulate data and SEG data respectively\n",
    "if SimulateData:\n",
    "    train_data_dir  = train_data_dir + 'SimulateData/'\n",
    "    test_data_dir   = test_data_dir  + 'SimulateData/'\n",
    "else:\n",
    "    train_data_dir  = train_data_dir + 'SEGSaltData/'\n",
    "    test_data_dir   = test_data_dir  + 'SEGSaltData/'\n",
    "\n",
    "## Create Results and Models path\n",
    "if os.path.exists('./results/') and os.path.exists('./models/'):\n",
    "    results_dir     = main_dir + 'results/' \n",
    "    models_dir      = main_dir + 'models/'\n",
    "else:\n",
    "    os.makedirs('./results/')\n",
    "    os.makedirs('./models/')\n",
    "    results_dir     = main_dir + 'results/'\n",
    "    models_dir      = main_dir + 'models/'\n",
    "if SimulateData:\n",
    "    results_dir     = results_dir + 'SimulateResults/'\n",
    "    models_dir      = models_dir  + 'SimulataModel/'\n",
    "else:\n",
    "    results_dir     = results_dir + 'SEGSaltResults/'\n",
    "    models_dir      = models_dir  + 'SEGSaltModel/'\n",
    "if os.path.exists(results_dir) and os.path.exists(models_dir):  \n",
    "    results_dir     = results_dir\n",
    "    models_dir      = models_dir \n",
    "else:\n",
    "    os.makedirs(results_dir)\n",
    "    os.makedirs(models_dir)\n",
    "    results_dir     = results_dir\n",
    "    models_dir      = models_dir\n",
    "# Create Model name\n",
    "if SimulateData:\n",
    "    tagM = 'Simulate'\n",
    "else:\n",
    "    tagM = 'SEGSalt'\n",
    "tagM0 = '_FCNVMBModel'\n",
    "tagM1 = '_TrainSize' + str(TrainSize)\n",
    "tagM2 = '_Epoch'     + str(Epochs)\n",
    "tagM3 = '_BatchSize' + str(BatchSize)\n",
    "tagM4 = '_LR'        + str(LearnRate)\n",
    "\n",
    "modelname = tagM+tagM0+tagM1+tagM2+tagM3+tagM4\n",
    "# Change here to set the model as the pre-trained initialization\n",
    "premodelname = 'Simulate_FCNVMBModel_TrainSize1600_Epoch100_BatchSize10_LR0.001' "
   ]
  },
  {
   "cell_type": "code",
   "execution_count": 214,
   "id": "92830e4d",
   "metadata": {},
   "outputs": [],
   "source": [
    "# downsampling function by taking the middle value\n",
    "def decimate(a,axis):\n",
    "    idx = np.round((np.array(a.shape)[np.array(axis).reshape(1,-1)]+1.0)/2.0-1).reshape(-1)\n",
    "    downa = np.array(a)[:,:,idx[0].astype(int),idx[1].astype(int)]\n",
    "    return downa"
   ]
  },
  {
   "cell_type": "code",
   "execution_count": 215,
   "id": "56eb0d8e",
   "metadata": {},
   "outputs": [
    {
     "data": {
      "text/plain": [
       "0"
      ]
     },
     "execution_count": 215,
     "metadata": {},
     "output_type": "execute_result"
    }
   ],
   "source": [
    "os.system('rm -rf /disk/student/adhara/Fall2021/FCNVMB-Deep-learning-based-seismic-velocity-model-building/trainA')\n",
    "os.system('rm -rf /disk/student/adhara/Fall2021/FCNVMB-Deep-learning-based-seismic-velocity-model-building/trainB')\n",
    "os.system('rm -rf /disk/student/adhara/Fall2021/FCNVMB-Deep-learning-based-seismic-velocity-model-building/trainC')\n",
    "\n",
    "os.system('mkdir /disk/student/adhara/Fall2021/FCNVMB-Deep-learning-based-seismic-velocity-model-building/trainA')\n",
    "os.system('mkdir /disk/student/adhara/Fall2021/FCNVMB-Deep-learning-based-seismic-velocity-model-building/trainB')\n",
    "os.system('mkdir /disk/student/adhara/Fall2021/FCNVMB-Deep-learning-based-seismic-velocity-model-building/trainC')\n",
    "\n"
   ]
  },
  {
   "cell_type": "code",
   "execution_count": 216,
   "id": "dd9fadd0",
   "metadata": {},
   "outputs": [
    {
     "name": "stdout",
     "output_type": "stream",
     "text": [
      "/disk/student/adhara/Fall2021/FCNVMB-Deep-learning-based-seismic-velocity-model-building/data/train_data/SimulateData/georec_train/georec1\n",
      "/disk/student/adhara/Fall2021/FCNVMB-Deep-learning-based-seismic-velocity-model-building/data/train_data/SimulateData/georec_train/georec2\n",
      "/disk/student/adhara/Fall2021/FCNVMB-Deep-learning-based-seismic-velocity-model-building/data/train_data/SimulateData/georec_train/georec3\n",
      "/disk/student/adhara/Fall2021/FCNVMB-Deep-learning-based-seismic-velocity-model-building/data/train_data/SimulateData/georec_train/georec4\n",
      "/disk/student/adhara/Fall2021/FCNVMB-Deep-learning-based-seismic-velocity-model-building/data/train_data/SimulateData/georec_train/georec5\n",
      "/disk/student/adhara/Fall2021/FCNVMB-Deep-learning-based-seismic-velocity-model-building/data/train_data/SimulateData/georec_train/georec6\n",
      "/disk/student/adhara/Fall2021/FCNVMB-Deep-learning-based-seismic-velocity-model-building/data/train_data/SimulateData/georec_train/georec7\n",
      "/disk/student/adhara/Fall2021/FCNVMB-Deep-learning-based-seismic-velocity-model-building/data/train_data/SimulateData/georec_train/georec8\n",
      "/disk/student/adhara/Fall2021/FCNVMB-Deep-learning-based-seismic-velocity-model-building/data/train_data/SimulateData/georec_train/georec9\n",
      "/disk/student/adhara/Fall2021/FCNVMB-Deep-learning-based-seismic-velocity-model-building/data/train_data/SimulateData/georec_train/georec10\n",
      "/disk/student/adhara/Fall2021/FCNVMB-Deep-learning-based-seismic-velocity-model-building/data/train_data/SimulateData/georec_train/georec11\n",
      "/disk/student/adhara/Fall2021/FCNVMB-Deep-learning-based-seismic-velocity-model-building/data/train_data/SimulateData/georec_train/georec12\n",
      "/disk/student/adhara/Fall2021/FCNVMB-Deep-learning-based-seismic-velocity-model-building/data/train_data/SimulateData/georec_train/georec13\n",
      "/disk/student/adhara/Fall2021/FCNVMB-Deep-learning-based-seismic-velocity-model-building/data/train_data/SimulateData/georec_train/georec14\n",
      "/disk/student/adhara/Fall2021/FCNVMB-Deep-learning-based-seismic-velocity-model-building/data/train_data/SimulateData/georec_train/georec15\n",
      "/disk/student/adhara/Fall2021/FCNVMB-Deep-learning-based-seismic-velocity-model-building/data/train_data/SimulateData/georec_train/georec16\n",
      "/disk/student/adhara/Fall2021/FCNVMB-Deep-learning-based-seismic-velocity-model-building/data/train_data/SimulateData/georec_train/georec17\n",
      "/disk/student/adhara/Fall2021/FCNVMB-Deep-learning-based-seismic-velocity-model-building/data/train_data/SimulateData/georec_train/georec18\n",
      "/disk/student/adhara/Fall2021/FCNVMB-Deep-learning-based-seismic-velocity-model-building/data/train_data/SimulateData/georec_train/georec19\n",
      "/disk/student/adhara/Fall2021/FCNVMB-Deep-learning-based-seismic-velocity-model-building/data/train_data/SimulateData/georec_train/georec20\n",
      "/disk/student/adhara/Fall2021/FCNVMB-Deep-learning-based-seismic-velocity-model-building/data/train_data/SimulateData/georec_train/georec21\n",
      "/disk/student/adhara/Fall2021/FCNVMB-Deep-learning-based-seismic-velocity-model-building/data/train_data/SimulateData/georec_train/georec22\n",
      "/disk/student/adhara/Fall2021/FCNVMB-Deep-learning-based-seismic-velocity-model-building/data/train_data/SimulateData/georec_train/georec23\n",
      "/disk/student/adhara/Fall2021/FCNVMB-Deep-learning-based-seismic-velocity-model-building/data/train_data/SimulateData/georec_train/georec24\n",
      "/disk/student/adhara/Fall2021/FCNVMB-Deep-learning-based-seismic-velocity-model-building/data/train_data/SimulateData/georec_train/georec25\n",
      "/disk/student/adhara/Fall2021/FCNVMB-Deep-learning-based-seismic-velocity-model-building/data/train_data/SimulateData/georec_train/georec26\n",
      "/disk/student/adhara/Fall2021/FCNVMB-Deep-learning-based-seismic-velocity-model-building/data/train_data/SimulateData/georec_train/georec27\n",
      "/disk/student/adhara/Fall2021/FCNVMB-Deep-learning-based-seismic-velocity-model-building/data/train_data/SimulateData/georec_train/georec28\n",
      "/disk/student/adhara/Fall2021/FCNVMB-Deep-learning-based-seismic-velocity-model-building/data/train_data/SimulateData/georec_train/georec29\n",
      "/disk/student/adhara/Fall2021/FCNVMB-Deep-learning-based-seismic-velocity-model-building/data/train_data/SimulateData/georec_train/georec30\n",
      "/disk/student/adhara/Fall2021/FCNVMB-Deep-learning-based-seismic-velocity-model-building/data/train_data/SimulateData/georec_train/georec31\n",
      "/disk/student/adhara/Fall2021/FCNVMB-Deep-learning-based-seismic-velocity-model-building/data/train_data/SimulateData/georec_train/georec32\n",
      "/disk/student/adhara/Fall2021/FCNVMB-Deep-learning-based-seismic-velocity-model-building/data/train_data/SimulateData/georec_train/georec33\n",
      "/disk/student/adhara/Fall2021/FCNVMB-Deep-learning-based-seismic-velocity-model-building/data/train_data/SimulateData/georec_train/georec34\n",
      "/disk/student/adhara/Fall2021/FCNVMB-Deep-learning-based-seismic-velocity-model-building/data/train_data/SimulateData/georec_train/georec35\n",
      "/disk/student/adhara/Fall2021/FCNVMB-Deep-learning-based-seismic-velocity-model-building/data/train_data/SimulateData/georec_train/georec36\n",
      "/disk/student/adhara/Fall2021/FCNVMB-Deep-learning-based-seismic-velocity-model-building/data/train_data/SimulateData/georec_train/georec37\n",
      "/disk/student/adhara/Fall2021/FCNVMB-Deep-learning-based-seismic-velocity-model-building/data/train_data/SimulateData/georec_train/georec38\n",
      "/disk/student/adhara/Fall2021/FCNVMB-Deep-learning-based-seismic-velocity-model-building/data/train_data/SimulateData/georec_train/georec39\n",
      "/disk/student/adhara/Fall2021/FCNVMB-Deep-learning-based-seismic-velocity-model-building/data/train_data/SimulateData/georec_train/georec40\n",
      "/disk/student/adhara/Fall2021/FCNVMB-Deep-learning-based-seismic-velocity-model-building/data/train_data/SimulateData/georec_train/georec41\n",
      "/disk/student/adhara/Fall2021/FCNVMB-Deep-learning-based-seismic-velocity-model-building/data/train_data/SimulateData/georec_train/georec42\n",
      "/disk/student/adhara/Fall2021/FCNVMB-Deep-learning-based-seismic-velocity-model-building/data/train_data/SimulateData/georec_train/georec43\n",
      "/disk/student/adhara/Fall2021/FCNVMB-Deep-learning-based-seismic-velocity-model-building/data/train_data/SimulateData/georec_train/georec44\n",
      "/disk/student/adhara/Fall2021/FCNVMB-Deep-learning-based-seismic-velocity-model-building/data/train_data/SimulateData/georec_train/georec45\n",
      "/disk/student/adhara/Fall2021/FCNVMB-Deep-learning-based-seismic-velocity-model-building/data/train_data/SimulateData/georec_train/georec46\n",
      "/disk/student/adhara/Fall2021/FCNVMB-Deep-learning-based-seismic-velocity-model-building/data/train_data/SimulateData/georec_train/georec47\n",
      "/disk/student/adhara/Fall2021/FCNVMB-Deep-learning-based-seismic-velocity-model-building/data/train_data/SimulateData/georec_train/georec48\n",
      "/disk/student/adhara/Fall2021/FCNVMB-Deep-learning-based-seismic-velocity-model-building/data/train_data/SimulateData/georec_train/georec49\n",
      "/disk/student/adhara/Fall2021/FCNVMB-Deep-learning-based-seismic-velocity-model-building/data/train_data/SimulateData/georec_train/georec50\n",
      "/disk/student/adhara/Fall2021/FCNVMB-Deep-learning-based-seismic-velocity-model-building/data/train_data/SimulateData/georec_train/georec51\n",
      "/disk/student/adhara/Fall2021/FCNVMB-Deep-learning-based-seismic-velocity-model-building/data/train_data/SimulateData/georec_train/georec52\n",
      "/disk/student/adhara/Fall2021/FCNVMB-Deep-learning-based-seismic-velocity-model-building/data/train_data/SimulateData/georec_train/georec53\n",
      "/disk/student/adhara/Fall2021/FCNVMB-Deep-learning-based-seismic-velocity-model-building/data/train_data/SimulateData/georec_train/georec54\n",
      "/disk/student/adhara/Fall2021/FCNVMB-Deep-learning-based-seismic-velocity-model-building/data/train_data/SimulateData/georec_train/georec55\n",
      "/disk/student/adhara/Fall2021/FCNVMB-Deep-learning-based-seismic-velocity-model-building/data/train_data/SimulateData/georec_train/georec56\n",
      "/disk/student/adhara/Fall2021/FCNVMB-Deep-learning-based-seismic-velocity-model-building/data/train_data/SimulateData/georec_train/georec57\n",
      "/disk/student/adhara/Fall2021/FCNVMB-Deep-learning-based-seismic-velocity-model-building/data/train_data/SimulateData/georec_train/georec58\n",
      "/disk/student/adhara/Fall2021/FCNVMB-Deep-learning-based-seismic-velocity-model-building/data/train_data/SimulateData/georec_train/georec59\n",
      "/disk/student/adhara/Fall2021/FCNVMB-Deep-learning-based-seismic-velocity-model-building/data/train_data/SimulateData/georec_train/georec60\n",
      "/disk/student/adhara/Fall2021/FCNVMB-Deep-learning-based-seismic-velocity-model-building/data/train_data/SimulateData/georec_train/georec61\n"
     ]
    },
    {
     "name": "stdout",
     "output_type": "stream",
     "text": [
      "/disk/student/adhara/Fall2021/FCNVMB-Deep-learning-based-seismic-velocity-model-building/data/train_data/SimulateData/georec_train/georec62\n",
      "/disk/student/adhara/Fall2021/FCNVMB-Deep-learning-based-seismic-velocity-model-building/data/train_data/SimulateData/georec_train/georec63\n",
      "/disk/student/adhara/Fall2021/FCNVMB-Deep-learning-based-seismic-velocity-model-building/data/train_data/SimulateData/georec_train/georec64\n",
      "/disk/student/adhara/Fall2021/FCNVMB-Deep-learning-based-seismic-velocity-model-building/data/train_data/SimulateData/georec_train/georec65\n",
      "/disk/student/adhara/Fall2021/FCNVMB-Deep-learning-based-seismic-velocity-model-building/data/train_data/SimulateData/georec_train/georec66\n",
      "/disk/student/adhara/Fall2021/FCNVMB-Deep-learning-based-seismic-velocity-model-building/data/train_data/SimulateData/georec_train/georec67\n",
      "/disk/student/adhara/Fall2021/FCNVMB-Deep-learning-based-seismic-velocity-model-building/data/train_data/SimulateData/georec_train/georec68\n",
      "/disk/student/adhara/Fall2021/FCNVMB-Deep-learning-based-seismic-velocity-model-building/data/train_data/SimulateData/georec_train/georec69\n",
      "/disk/student/adhara/Fall2021/FCNVMB-Deep-learning-based-seismic-velocity-model-building/data/train_data/SimulateData/georec_train/georec70\n",
      "/disk/student/adhara/Fall2021/FCNVMB-Deep-learning-based-seismic-velocity-model-building/data/train_data/SimulateData/georec_train/georec71\n",
      "/disk/student/adhara/Fall2021/FCNVMB-Deep-learning-based-seismic-velocity-model-building/data/train_data/SimulateData/georec_train/georec72\n",
      "/disk/student/adhara/Fall2021/FCNVMB-Deep-learning-based-seismic-velocity-model-building/data/train_data/SimulateData/georec_train/georec73\n",
      "/disk/student/adhara/Fall2021/FCNVMB-Deep-learning-based-seismic-velocity-model-building/data/train_data/SimulateData/georec_train/georec74\n",
      "/disk/student/adhara/Fall2021/FCNVMB-Deep-learning-based-seismic-velocity-model-building/data/train_data/SimulateData/georec_train/georec75\n",
      "/disk/student/adhara/Fall2021/FCNVMB-Deep-learning-based-seismic-velocity-model-building/data/train_data/SimulateData/georec_train/georec76\n",
      "/disk/student/adhara/Fall2021/FCNVMB-Deep-learning-based-seismic-velocity-model-building/data/train_data/SimulateData/georec_train/georec77\n",
      "/disk/student/adhara/Fall2021/FCNVMB-Deep-learning-based-seismic-velocity-model-building/data/train_data/SimulateData/georec_train/georec78\n",
      "/disk/student/adhara/Fall2021/FCNVMB-Deep-learning-based-seismic-velocity-model-building/data/train_data/SimulateData/georec_train/georec79\n",
      "/disk/student/adhara/Fall2021/FCNVMB-Deep-learning-based-seismic-velocity-model-building/data/train_data/SimulateData/georec_train/georec80\n",
      "/disk/student/adhara/Fall2021/FCNVMB-Deep-learning-based-seismic-velocity-model-building/data/train_data/SimulateData/georec_train/georec81\n",
      "/disk/student/adhara/Fall2021/FCNVMB-Deep-learning-based-seismic-velocity-model-building/data/train_data/SimulateData/georec_train/georec82\n",
      "/disk/student/adhara/Fall2021/FCNVMB-Deep-learning-based-seismic-velocity-model-building/data/train_data/SimulateData/georec_train/georec83\n",
      "/disk/student/adhara/Fall2021/FCNVMB-Deep-learning-based-seismic-velocity-model-building/data/train_data/SimulateData/georec_train/georec84\n",
      "/disk/student/adhara/Fall2021/FCNVMB-Deep-learning-based-seismic-velocity-model-building/data/train_data/SimulateData/georec_train/georec85\n",
      "/disk/student/adhara/Fall2021/FCNVMB-Deep-learning-based-seismic-velocity-model-building/data/train_data/SimulateData/georec_train/georec86\n",
      "/disk/student/adhara/Fall2021/FCNVMB-Deep-learning-based-seismic-velocity-model-building/data/train_data/SimulateData/georec_train/georec87\n",
      "/disk/student/adhara/Fall2021/FCNVMB-Deep-learning-based-seismic-velocity-model-building/data/train_data/SimulateData/georec_train/georec88\n",
      "/disk/student/adhara/Fall2021/FCNVMB-Deep-learning-based-seismic-velocity-model-building/data/train_data/SimulateData/georec_train/georec89\n",
      "/disk/student/adhara/Fall2021/FCNVMB-Deep-learning-based-seismic-velocity-model-building/data/train_data/SimulateData/georec_train/georec90\n",
      "/disk/student/adhara/Fall2021/FCNVMB-Deep-learning-based-seismic-velocity-model-building/data/train_data/SimulateData/georec_train/georec91\n",
      "/disk/student/adhara/Fall2021/FCNVMB-Deep-learning-based-seismic-velocity-model-building/data/train_data/SimulateData/georec_train/georec92\n",
      "/disk/student/adhara/Fall2021/FCNVMB-Deep-learning-based-seismic-velocity-model-building/data/train_data/SimulateData/georec_train/georec93\n",
      "/disk/student/adhara/Fall2021/FCNVMB-Deep-learning-based-seismic-velocity-model-building/data/train_data/SimulateData/georec_train/georec94\n",
      "/disk/student/adhara/Fall2021/FCNVMB-Deep-learning-based-seismic-velocity-model-building/data/train_data/SimulateData/georec_train/georec95\n",
      "/disk/student/adhara/Fall2021/FCNVMB-Deep-learning-based-seismic-velocity-model-building/data/train_data/SimulateData/georec_train/georec96\n",
      "/disk/student/adhara/Fall2021/FCNVMB-Deep-learning-based-seismic-velocity-model-building/data/train_data/SimulateData/georec_train/georec97\n",
      "/disk/student/adhara/Fall2021/FCNVMB-Deep-learning-based-seismic-velocity-model-building/data/train_data/SimulateData/georec_train/georec98\n",
      "/disk/student/adhara/Fall2021/FCNVMB-Deep-learning-based-seismic-velocity-model-building/data/train_data/SimulateData/georec_train/georec99\n",
      "/disk/student/adhara/Fall2021/FCNVMB-Deep-learning-based-seismic-velocity-model-building/data/train_data/SimulateData/georec_train/georec100\n",
      "/disk/student/adhara/Fall2021/FCNVMB-Deep-learning-based-seismic-velocity-model-building/data/train_data/SimulateData/georec_train/georec101\n",
      "/disk/student/adhara/Fall2021/FCNVMB-Deep-learning-based-seismic-velocity-model-building/data/train_data/SimulateData/georec_train/georec102\n",
      "/disk/student/adhara/Fall2021/FCNVMB-Deep-learning-based-seismic-velocity-model-building/data/train_data/SimulateData/georec_train/georec103\n",
      "/disk/student/adhara/Fall2021/FCNVMB-Deep-learning-based-seismic-velocity-model-building/data/train_data/SimulateData/georec_train/georec104\n",
      "/disk/student/adhara/Fall2021/FCNVMB-Deep-learning-based-seismic-velocity-model-building/data/train_data/SimulateData/georec_train/georec105\n",
      "/disk/student/adhara/Fall2021/FCNVMB-Deep-learning-based-seismic-velocity-model-building/data/train_data/SimulateData/georec_train/georec106\n",
      "/disk/student/adhara/Fall2021/FCNVMB-Deep-learning-based-seismic-velocity-model-building/data/train_data/SimulateData/georec_train/georec107\n",
      "/disk/student/adhara/Fall2021/FCNVMB-Deep-learning-based-seismic-velocity-model-building/data/train_data/SimulateData/georec_train/georec108\n",
      "/disk/student/adhara/Fall2021/FCNVMB-Deep-learning-based-seismic-velocity-model-building/data/train_data/SimulateData/georec_train/georec109\n",
      "/disk/student/adhara/Fall2021/FCNVMB-Deep-learning-based-seismic-velocity-model-building/data/train_data/SimulateData/georec_train/georec110\n",
      "/disk/student/adhara/Fall2021/FCNVMB-Deep-learning-based-seismic-velocity-model-building/data/train_data/SimulateData/georec_train/georec111\n",
      "/disk/student/adhara/Fall2021/FCNVMB-Deep-learning-based-seismic-velocity-model-building/data/train_data/SimulateData/georec_train/georec112\n",
      "/disk/student/adhara/Fall2021/FCNVMB-Deep-learning-based-seismic-velocity-model-building/data/train_data/SimulateData/georec_train/georec113\n",
      "/disk/student/adhara/Fall2021/FCNVMB-Deep-learning-based-seismic-velocity-model-building/data/train_data/SimulateData/georec_train/georec114\n",
      "/disk/student/adhara/Fall2021/FCNVMB-Deep-learning-based-seismic-velocity-model-building/data/train_data/SimulateData/georec_train/georec115\n",
      "/disk/student/adhara/Fall2021/FCNVMB-Deep-learning-based-seismic-velocity-model-building/data/train_data/SimulateData/georec_train/georec116\n",
      "/disk/student/adhara/Fall2021/FCNVMB-Deep-learning-based-seismic-velocity-model-building/data/train_data/SimulateData/georec_train/georec117\n",
      "/disk/student/adhara/Fall2021/FCNVMB-Deep-learning-based-seismic-velocity-model-building/data/train_data/SimulateData/georec_train/georec118\n",
      "/disk/student/adhara/Fall2021/FCNVMB-Deep-learning-based-seismic-velocity-model-building/data/train_data/SimulateData/georec_train/georec119\n",
      "/disk/student/adhara/Fall2021/FCNVMB-Deep-learning-based-seismic-velocity-model-building/data/train_data/SimulateData/georec_train/georec120\n",
      "/disk/student/adhara/Fall2021/FCNVMB-Deep-learning-based-seismic-velocity-model-building/data/train_data/SimulateData/georec_train/georec121\n",
      "/disk/student/adhara/Fall2021/FCNVMB-Deep-learning-based-seismic-velocity-model-building/data/train_data/SimulateData/georec_train/georec122\n",
      "/disk/student/adhara/Fall2021/FCNVMB-Deep-learning-based-seismic-velocity-model-building/data/train_data/SimulateData/georec_train/georec123\n",
      "/disk/student/adhara/Fall2021/FCNVMB-Deep-learning-based-seismic-velocity-model-building/data/train_data/SimulateData/georec_train/georec124\n",
      "/disk/student/adhara/Fall2021/FCNVMB-Deep-learning-based-seismic-velocity-model-building/data/train_data/SimulateData/georec_train/georec125\n"
     ]
    },
    {
     "name": "stdout",
     "output_type": "stream",
     "text": [
      "/disk/student/adhara/Fall2021/FCNVMB-Deep-learning-based-seismic-velocity-model-building/data/train_data/SimulateData/georec_train/georec126\n",
      "/disk/student/adhara/Fall2021/FCNVMB-Deep-learning-based-seismic-velocity-model-building/data/train_data/SimulateData/georec_train/georec127\n",
      "/disk/student/adhara/Fall2021/FCNVMB-Deep-learning-based-seismic-velocity-model-building/data/train_data/SimulateData/georec_train/georec128\n",
      "/disk/student/adhara/Fall2021/FCNVMB-Deep-learning-based-seismic-velocity-model-building/data/train_data/SimulateData/georec_train/georec129\n",
      "/disk/student/adhara/Fall2021/FCNVMB-Deep-learning-based-seismic-velocity-model-building/data/train_data/SimulateData/georec_train/georec130\n",
      "/disk/student/adhara/Fall2021/FCNVMB-Deep-learning-based-seismic-velocity-model-building/data/train_data/SimulateData/georec_train/georec131\n",
      "/disk/student/adhara/Fall2021/FCNVMB-Deep-learning-based-seismic-velocity-model-building/data/train_data/SimulateData/georec_train/georec132\n",
      "/disk/student/adhara/Fall2021/FCNVMB-Deep-learning-based-seismic-velocity-model-building/data/train_data/SimulateData/georec_train/georec133\n",
      "/disk/student/adhara/Fall2021/FCNVMB-Deep-learning-based-seismic-velocity-model-building/data/train_data/SimulateData/georec_train/georec134\n",
      "/disk/student/adhara/Fall2021/FCNVMB-Deep-learning-based-seismic-velocity-model-building/data/train_data/SimulateData/georec_train/georec135\n",
      "/disk/student/adhara/Fall2021/FCNVMB-Deep-learning-based-seismic-velocity-model-building/data/train_data/SimulateData/georec_train/georec136\n",
      "/disk/student/adhara/Fall2021/FCNVMB-Deep-learning-based-seismic-velocity-model-building/data/train_data/SimulateData/georec_train/georec137\n",
      "/disk/student/adhara/Fall2021/FCNVMB-Deep-learning-based-seismic-velocity-model-building/data/train_data/SimulateData/georec_train/georec138\n",
      "/disk/student/adhara/Fall2021/FCNVMB-Deep-learning-based-seismic-velocity-model-building/data/train_data/SimulateData/georec_train/georec139\n",
      "/disk/student/adhara/Fall2021/FCNVMB-Deep-learning-based-seismic-velocity-model-building/data/train_data/SimulateData/georec_train/georec140\n",
      "/disk/student/adhara/Fall2021/FCNVMB-Deep-learning-based-seismic-velocity-model-building/data/train_data/SimulateData/georec_train/georec141\n",
      "/disk/student/adhara/Fall2021/FCNVMB-Deep-learning-based-seismic-velocity-model-building/data/train_data/SimulateData/georec_train/georec142\n",
      "/disk/student/adhara/Fall2021/FCNVMB-Deep-learning-based-seismic-velocity-model-building/data/train_data/SimulateData/georec_train/georec143\n",
      "/disk/student/adhara/Fall2021/FCNVMB-Deep-learning-based-seismic-velocity-model-building/data/train_data/SimulateData/georec_train/georec144\n",
      "/disk/student/adhara/Fall2021/FCNVMB-Deep-learning-based-seismic-velocity-model-building/data/train_data/SimulateData/georec_train/georec145\n",
      "/disk/student/adhara/Fall2021/FCNVMB-Deep-learning-based-seismic-velocity-model-building/data/train_data/SimulateData/georec_train/georec146\n",
      "/disk/student/adhara/Fall2021/FCNVMB-Deep-learning-based-seismic-velocity-model-building/data/train_data/SimulateData/georec_train/georec147\n",
      "/disk/student/adhara/Fall2021/FCNVMB-Deep-learning-based-seismic-velocity-model-building/data/train_data/SimulateData/georec_train/georec148\n",
      "/disk/student/adhara/Fall2021/FCNVMB-Deep-learning-based-seismic-velocity-model-building/data/train_data/SimulateData/georec_train/georec149\n",
      "/disk/student/adhara/Fall2021/FCNVMB-Deep-learning-based-seismic-velocity-model-building/data/train_data/SimulateData/georec_train/georec150\n",
      "/disk/student/adhara/Fall2021/FCNVMB-Deep-learning-based-seismic-velocity-model-building/data/train_data/SimulateData/georec_train/georec151\n",
      "/disk/student/adhara/Fall2021/FCNVMB-Deep-learning-based-seismic-velocity-model-building/data/train_data/SimulateData/georec_train/georec152\n",
      "/disk/student/adhara/Fall2021/FCNVMB-Deep-learning-based-seismic-velocity-model-building/data/train_data/SimulateData/georec_train/georec153\n",
      "/disk/student/adhara/Fall2021/FCNVMB-Deep-learning-based-seismic-velocity-model-building/data/train_data/SimulateData/georec_train/georec154\n",
      "/disk/student/adhara/Fall2021/FCNVMB-Deep-learning-based-seismic-velocity-model-building/data/train_data/SimulateData/georec_train/georec155\n",
      "/disk/student/adhara/Fall2021/FCNVMB-Deep-learning-based-seismic-velocity-model-building/data/train_data/SimulateData/georec_train/georec156\n",
      "/disk/student/adhara/Fall2021/FCNVMB-Deep-learning-based-seismic-velocity-model-building/data/train_data/SimulateData/georec_train/georec157\n",
      "/disk/student/adhara/Fall2021/FCNVMB-Deep-learning-based-seismic-velocity-model-building/data/train_data/SimulateData/georec_train/georec158\n",
      "/disk/student/adhara/Fall2021/FCNVMB-Deep-learning-based-seismic-velocity-model-building/data/train_data/SimulateData/georec_train/georec159\n",
      "/disk/student/adhara/Fall2021/FCNVMB-Deep-learning-based-seismic-velocity-model-building/data/train_data/SimulateData/georec_train/georec160\n",
      "/disk/student/adhara/Fall2021/FCNVMB-Deep-learning-based-seismic-velocity-model-building/data/train_data/SimulateData/georec_train/georec161\n",
      "/disk/student/adhara/Fall2021/FCNVMB-Deep-learning-based-seismic-velocity-model-building/data/train_data/SimulateData/georec_train/georec162\n",
      "/disk/student/adhara/Fall2021/FCNVMB-Deep-learning-based-seismic-velocity-model-building/data/train_data/SimulateData/georec_train/georec163\n",
      "/disk/student/adhara/Fall2021/FCNVMB-Deep-learning-based-seismic-velocity-model-building/data/train_data/SimulateData/georec_train/georec164\n",
      "/disk/student/adhara/Fall2021/FCNVMB-Deep-learning-based-seismic-velocity-model-building/data/train_data/SimulateData/georec_train/georec165\n",
      "/disk/student/adhara/Fall2021/FCNVMB-Deep-learning-based-seismic-velocity-model-building/data/train_data/SimulateData/georec_train/georec166\n",
      "/disk/student/adhara/Fall2021/FCNVMB-Deep-learning-based-seismic-velocity-model-building/data/train_data/SimulateData/georec_train/georec167\n",
      "/disk/student/adhara/Fall2021/FCNVMB-Deep-learning-based-seismic-velocity-model-building/data/train_data/SimulateData/georec_train/georec168\n",
      "/disk/student/adhara/Fall2021/FCNVMB-Deep-learning-based-seismic-velocity-model-building/data/train_data/SimulateData/georec_train/georec169\n",
      "/disk/student/adhara/Fall2021/FCNVMB-Deep-learning-based-seismic-velocity-model-building/data/train_data/SimulateData/georec_train/georec170\n",
      "/disk/student/adhara/Fall2021/FCNVMB-Deep-learning-based-seismic-velocity-model-building/data/train_data/SimulateData/georec_train/georec171\n",
      "/disk/student/adhara/Fall2021/FCNVMB-Deep-learning-based-seismic-velocity-model-building/data/train_data/SimulateData/georec_train/georec172\n",
      "/disk/student/adhara/Fall2021/FCNVMB-Deep-learning-based-seismic-velocity-model-building/data/train_data/SimulateData/georec_train/georec173\n",
      "/disk/student/adhara/Fall2021/FCNVMB-Deep-learning-based-seismic-velocity-model-building/data/train_data/SimulateData/georec_train/georec174\n",
      "/disk/student/adhara/Fall2021/FCNVMB-Deep-learning-based-seismic-velocity-model-building/data/train_data/SimulateData/georec_train/georec175\n",
      "/disk/student/adhara/Fall2021/FCNVMB-Deep-learning-based-seismic-velocity-model-building/data/train_data/SimulateData/georec_train/georec176\n",
      "/disk/student/adhara/Fall2021/FCNVMB-Deep-learning-based-seismic-velocity-model-building/data/train_data/SimulateData/georec_train/georec177\n",
      "/disk/student/adhara/Fall2021/FCNVMB-Deep-learning-based-seismic-velocity-model-building/data/train_data/SimulateData/georec_train/georec178\n",
      "/disk/student/adhara/Fall2021/FCNVMB-Deep-learning-based-seismic-velocity-model-building/data/train_data/SimulateData/georec_train/georec179\n",
      "/disk/student/adhara/Fall2021/FCNVMB-Deep-learning-based-seismic-velocity-model-building/data/train_data/SimulateData/georec_train/georec180\n",
      "/disk/student/adhara/Fall2021/FCNVMB-Deep-learning-based-seismic-velocity-model-building/data/train_data/SimulateData/georec_train/georec181\n",
      "/disk/student/adhara/Fall2021/FCNVMB-Deep-learning-based-seismic-velocity-model-building/data/train_data/SimulateData/georec_train/georec182\n",
      "/disk/student/adhara/Fall2021/FCNVMB-Deep-learning-based-seismic-velocity-model-building/data/train_data/SimulateData/georec_train/georec183\n",
      "/disk/student/adhara/Fall2021/FCNVMB-Deep-learning-based-seismic-velocity-model-building/data/train_data/SimulateData/georec_train/georec184\n",
      "/disk/student/adhara/Fall2021/FCNVMB-Deep-learning-based-seismic-velocity-model-building/data/train_data/SimulateData/georec_train/georec185\n",
      "/disk/student/adhara/Fall2021/FCNVMB-Deep-learning-based-seismic-velocity-model-building/data/train_data/SimulateData/georec_train/georec186\n",
      "/disk/student/adhara/Fall2021/FCNVMB-Deep-learning-based-seismic-velocity-model-building/data/train_data/SimulateData/georec_train/georec187\n",
      "/disk/student/adhara/Fall2021/FCNVMB-Deep-learning-based-seismic-velocity-model-building/data/train_data/SimulateData/georec_train/georec188\n",
      "/disk/student/adhara/Fall2021/FCNVMB-Deep-learning-based-seismic-velocity-model-building/data/train_data/SimulateData/georec_train/georec189\n"
     ]
    },
    {
     "name": "stdout",
     "output_type": "stream",
     "text": [
      "/disk/student/adhara/Fall2021/FCNVMB-Deep-learning-based-seismic-velocity-model-building/data/train_data/SimulateData/georec_train/georec190\n",
      "/disk/student/adhara/Fall2021/FCNVMB-Deep-learning-based-seismic-velocity-model-building/data/train_data/SimulateData/georec_train/georec191\n",
      "/disk/student/adhara/Fall2021/FCNVMB-Deep-learning-based-seismic-velocity-model-building/data/train_data/SimulateData/georec_train/georec192\n",
      "/disk/student/adhara/Fall2021/FCNVMB-Deep-learning-based-seismic-velocity-model-building/data/train_data/SimulateData/georec_train/georec193\n",
      "/disk/student/adhara/Fall2021/FCNVMB-Deep-learning-based-seismic-velocity-model-building/data/train_data/SimulateData/georec_train/georec194\n",
      "/disk/student/adhara/Fall2021/FCNVMB-Deep-learning-based-seismic-velocity-model-building/data/train_data/SimulateData/georec_train/georec195\n",
      "/disk/student/adhara/Fall2021/FCNVMB-Deep-learning-based-seismic-velocity-model-building/data/train_data/SimulateData/georec_train/georec196\n",
      "/disk/student/adhara/Fall2021/FCNVMB-Deep-learning-based-seismic-velocity-model-building/data/train_data/SimulateData/georec_train/georec197\n",
      "/disk/student/adhara/Fall2021/FCNVMB-Deep-learning-based-seismic-velocity-model-building/data/train_data/SimulateData/georec_train/georec198\n",
      "/disk/student/adhara/Fall2021/FCNVMB-Deep-learning-based-seismic-velocity-model-building/data/train_data/SimulateData/georec_train/georec199\n",
      "/disk/student/adhara/Fall2021/FCNVMB-Deep-learning-based-seismic-velocity-model-building/data/train_data/SimulateData/georec_train/georec200\n",
      "/disk/student/adhara/Fall2021/FCNVMB-Deep-learning-based-seismic-velocity-model-building/data/train_data/SimulateData/georec_train/georec201\n",
      "/disk/student/adhara/Fall2021/FCNVMB-Deep-learning-based-seismic-velocity-model-building/data/train_data/SimulateData/georec_train/georec202\n",
      "/disk/student/adhara/Fall2021/FCNVMB-Deep-learning-based-seismic-velocity-model-building/data/train_data/SimulateData/georec_train/georec203\n",
      "/disk/student/adhara/Fall2021/FCNVMB-Deep-learning-based-seismic-velocity-model-building/data/train_data/SimulateData/georec_train/georec204\n",
      "/disk/student/adhara/Fall2021/FCNVMB-Deep-learning-based-seismic-velocity-model-building/data/train_data/SimulateData/georec_train/georec205\n",
      "/disk/student/adhara/Fall2021/FCNVMB-Deep-learning-based-seismic-velocity-model-building/data/train_data/SimulateData/georec_train/georec206\n",
      "/disk/student/adhara/Fall2021/FCNVMB-Deep-learning-based-seismic-velocity-model-building/data/train_data/SimulateData/georec_train/georec207\n",
      "/disk/student/adhara/Fall2021/FCNVMB-Deep-learning-based-seismic-velocity-model-building/data/train_data/SimulateData/georec_train/georec208\n",
      "/disk/student/adhara/Fall2021/FCNVMB-Deep-learning-based-seismic-velocity-model-building/data/train_data/SimulateData/georec_train/georec209\n",
      "/disk/student/adhara/Fall2021/FCNVMB-Deep-learning-based-seismic-velocity-model-building/data/train_data/SimulateData/georec_train/georec210\n",
      "/disk/student/adhara/Fall2021/FCNVMB-Deep-learning-based-seismic-velocity-model-building/data/train_data/SimulateData/georec_train/georec211\n",
      "/disk/student/adhara/Fall2021/FCNVMB-Deep-learning-based-seismic-velocity-model-building/data/train_data/SimulateData/georec_train/georec212\n",
      "/disk/student/adhara/Fall2021/FCNVMB-Deep-learning-based-seismic-velocity-model-building/data/train_data/SimulateData/georec_train/georec213\n",
      "/disk/student/adhara/Fall2021/FCNVMB-Deep-learning-based-seismic-velocity-model-building/data/train_data/SimulateData/georec_train/georec214\n",
      "/disk/student/adhara/Fall2021/FCNVMB-Deep-learning-based-seismic-velocity-model-building/data/train_data/SimulateData/georec_train/georec215\n",
      "/disk/student/adhara/Fall2021/FCNVMB-Deep-learning-based-seismic-velocity-model-building/data/train_data/SimulateData/georec_train/georec216\n",
      "/disk/student/adhara/Fall2021/FCNVMB-Deep-learning-based-seismic-velocity-model-building/data/train_data/SimulateData/georec_train/georec217\n",
      "/disk/student/adhara/Fall2021/FCNVMB-Deep-learning-based-seismic-velocity-model-building/data/train_data/SimulateData/georec_train/georec218\n",
      "/disk/student/adhara/Fall2021/FCNVMB-Deep-learning-based-seismic-velocity-model-building/data/train_data/SimulateData/georec_train/georec219\n",
      "/disk/student/adhara/Fall2021/FCNVMB-Deep-learning-based-seismic-velocity-model-building/data/train_data/SimulateData/georec_train/georec220\n",
      "/disk/student/adhara/Fall2021/FCNVMB-Deep-learning-based-seismic-velocity-model-building/data/train_data/SimulateData/georec_train/georec221\n",
      "/disk/student/adhara/Fall2021/FCNVMB-Deep-learning-based-seismic-velocity-model-building/data/train_data/SimulateData/georec_train/georec222\n",
      "/disk/student/adhara/Fall2021/FCNVMB-Deep-learning-based-seismic-velocity-model-building/data/train_data/SimulateData/georec_train/georec223\n",
      "/disk/student/adhara/Fall2021/FCNVMB-Deep-learning-based-seismic-velocity-model-building/data/train_data/SimulateData/georec_train/georec224\n",
      "/disk/student/adhara/Fall2021/FCNVMB-Deep-learning-based-seismic-velocity-model-building/data/train_data/SimulateData/georec_train/georec225\n",
      "/disk/student/adhara/Fall2021/FCNVMB-Deep-learning-based-seismic-velocity-model-building/data/train_data/SimulateData/georec_train/georec226\n",
      "/disk/student/adhara/Fall2021/FCNVMB-Deep-learning-based-seismic-velocity-model-building/data/train_data/SimulateData/georec_train/georec227\n",
      "/disk/student/adhara/Fall2021/FCNVMB-Deep-learning-based-seismic-velocity-model-building/data/train_data/SimulateData/georec_train/georec228\n",
      "/disk/student/adhara/Fall2021/FCNVMB-Deep-learning-based-seismic-velocity-model-building/data/train_data/SimulateData/georec_train/georec229\n",
      "/disk/student/adhara/Fall2021/FCNVMB-Deep-learning-based-seismic-velocity-model-building/data/train_data/SimulateData/georec_train/georec230\n",
      "/disk/student/adhara/Fall2021/FCNVMB-Deep-learning-based-seismic-velocity-model-building/data/train_data/SimulateData/georec_train/georec231\n",
      "/disk/student/adhara/Fall2021/FCNVMB-Deep-learning-based-seismic-velocity-model-building/data/train_data/SimulateData/georec_train/georec232\n",
      "/disk/student/adhara/Fall2021/FCNVMB-Deep-learning-based-seismic-velocity-model-building/data/train_data/SimulateData/georec_train/georec233\n",
      "/disk/student/adhara/Fall2021/FCNVMB-Deep-learning-based-seismic-velocity-model-building/data/train_data/SimulateData/georec_train/georec234\n",
      "/disk/student/adhara/Fall2021/FCNVMB-Deep-learning-based-seismic-velocity-model-building/data/train_data/SimulateData/georec_train/georec235\n",
      "/disk/student/adhara/Fall2021/FCNVMB-Deep-learning-based-seismic-velocity-model-building/data/train_data/SimulateData/georec_train/georec236\n",
      "/disk/student/adhara/Fall2021/FCNVMB-Deep-learning-based-seismic-velocity-model-building/data/train_data/SimulateData/georec_train/georec237\n",
      "/disk/student/adhara/Fall2021/FCNVMB-Deep-learning-based-seismic-velocity-model-building/data/train_data/SimulateData/georec_train/georec238\n",
      "/disk/student/adhara/Fall2021/FCNVMB-Deep-learning-based-seismic-velocity-model-building/data/train_data/SimulateData/georec_train/georec239\n",
      "/disk/student/adhara/Fall2021/FCNVMB-Deep-learning-based-seismic-velocity-model-building/data/train_data/SimulateData/georec_train/georec240\n",
      "/disk/student/adhara/Fall2021/FCNVMB-Deep-learning-based-seismic-velocity-model-building/data/train_data/SimulateData/georec_train/georec241\n",
      "/disk/student/adhara/Fall2021/FCNVMB-Deep-learning-based-seismic-velocity-model-building/data/train_data/SimulateData/georec_train/georec242\n",
      "/disk/student/adhara/Fall2021/FCNVMB-Deep-learning-based-seismic-velocity-model-building/data/train_data/SimulateData/georec_train/georec243\n",
      "/disk/student/adhara/Fall2021/FCNVMB-Deep-learning-based-seismic-velocity-model-building/data/train_data/SimulateData/georec_train/georec244\n",
      "/disk/student/adhara/Fall2021/FCNVMB-Deep-learning-based-seismic-velocity-model-building/data/train_data/SimulateData/georec_train/georec245\n",
      "/disk/student/adhara/Fall2021/FCNVMB-Deep-learning-based-seismic-velocity-model-building/data/train_data/SimulateData/georec_train/georec246\n",
      "/disk/student/adhara/Fall2021/FCNVMB-Deep-learning-based-seismic-velocity-model-building/data/train_data/SimulateData/georec_train/georec247\n",
      "/disk/student/adhara/Fall2021/FCNVMB-Deep-learning-based-seismic-velocity-model-building/data/train_data/SimulateData/georec_train/georec248\n",
      "/disk/student/adhara/Fall2021/FCNVMB-Deep-learning-based-seismic-velocity-model-building/data/train_data/SimulateData/georec_train/georec249\n",
      "/disk/student/adhara/Fall2021/FCNVMB-Deep-learning-based-seismic-velocity-model-building/data/train_data/SimulateData/georec_train/georec250\n",
      "/disk/student/adhara/Fall2021/FCNVMB-Deep-learning-based-seismic-velocity-model-building/data/train_data/SimulateData/georec_train/georec251\n",
      "/disk/student/adhara/Fall2021/FCNVMB-Deep-learning-based-seismic-velocity-model-building/data/train_data/SimulateData/georec_train/georec252\n",
      "/disk/student/adhara/Fall2021/FCNVMB-Deep-learning-based-seismic-velocity-model-building/data/train_data/SimulateData/georec_train/georec253\n"
     ]
    },
    {
     "name": "stdout",
     "output_type": "stream",
     "text": [
      "/disk/student/adhara/Fall2021/FCNVMB-Deep-learning-based-seismic-velocity-model-building/data/train_data/SimulateData/georec_train/georec254\n",
      "/disk/student/adhara/Fall2021/FCNVMB-Deep-learning-based-seismic-velocity-model-building/data/train_data/SimulateData/georec_train/georec255\n",
      "/disk/student/adhara/Fall2021/FCNVMB-Deep-learning-based-seismic-velocity-model-building/data/train_data/SimulateData/georec_train/georec256\n",
      "/disk/student/adhara/Fall2021/FCNVMB-Deep-learning-based-seismic-velocity-model-building/data/train_data/SimulateData/georec_train/georec257\n",
      "/disk/student/adhara/Fall2021/FCNVMB-Deep-learning-based-seismic-velocity-model-building/data/train_data/SimulateData/georec_train/georec258\n",
      "/disk/student/adhara/Fall2021/FCNVMB-Deep-learning-based-seismic-velocity-model-building/data/train_data/SimulateData/georec_train/georec259\n",
      "/disk/student/adhara/Fall2021/FCNVMB-Deep-learning-based-seismic-velocity-model-building/data/train_data/SimulateData/georec_train/georec260\n",
      "/disk/student/adhara/Fall2021/FCNVMB-Deep-learning-based-seismic-velocity-model-building/data/train_data/SimulateData/georec_train/georec261\n",
      "/disk/student/adhara/Fall2021/FCNVMB-Deep-learning-based-seismic-velocity-model-building/data/train_data/SimulateData/georec_train/georec262\n",
      "/disk/student/adhara/Fall2021/FCNVMB-Deep-learning-based-seismic-velocity-model-building/data/train_data/SimulateData/georec_train/georec263\n",
      "/disk/student/adhara/Fall2021/FCNVMB-Deep-learning-based-seismic-velocity-model-building/data/train_data/SimulateData/georec_train/georec264\n",
      "/disk/student/adhara/Fall2021/FCNVMB-Deep-learning-based-seismic-velocity-model-building/data/train_data/SimulateData/georec_train/georec265\n",
      "/disk/student/adhara/Fall2021/FCNVMB-Deep-learning-based-seismic-velocity-model-building/data/train_data/SimulateData/georec_train/georec266\n",
      "/disk/student/adhara/Fall2021/FCNVMB-Deep-learning-based-seismic-velocity-model-building/data/train_data/SimulateData/georec_train/georec267\n",
      "/disk/student/adhara/Fall2021/FCNVMB-Deep-learning-based-seismic-velocity-model-building/data/train_data/SimulateData/georec_train/georec268\n",
      "/disk/student/adhara/Fall2021/FCNVMB-Deep-learning-based-seismic-velocity-model-building/data/train_data/SimulateData/georec_train/georec269\n",
      "/disk/student/adhara/Fall2021/FCNVMB-Deep-learning-based-seismic-velocity-model-building/data/train_data/SimulateData/georec_train/georec270\n",
      "/disk/student/adhara/Fall2021/FCNVMB-Deep-learning-based-seismic-velocity-model-building/data/train_data/SimulateData/georec_train/georec271\n",
      "/disk/student/adhara/Fall2021/FCNVMB-Deep-learning-based-seismic-velocity-model-building/data/train_data/SimulateData/georec_train/georec272\n",
      "/disk/student/adhara/Fall2021/FCNVMB-Deep-learning-based-seismic-velocity-model-building/data/train_data/SimulateData/georec_train/georec273\n",
      "/disk/student/adhara/Fall2021/FCNVMB-Deep-learning-based-seismic-velocity-model-building/data/train_data/SimulateData/georec_train/georec274\n",
      "/disk/student/adhara/Fall2021/FCNVMB-Deep-learning-based-seismic-velocity-model-building/data/train_data/SimulateData/georec_train/georec275\n",
      "/disk/student/adhara/Fall2021/FCNVMB-Deep-learning-based-seismic-velocity-model-building/data/train_data/SimulateData/georec_train/georec276\n",
      "/disk/student/adhara/Fall2021/FCNVMB-Deep-learning-based-seismic-velocity-model-building/data/train_data/SimulateData/georec_train/georec277\n",
      "/disk/student/adhara/Fall2021/FCNVMB-Deep-learning-based-seismic-velocity-model-building/data/train_data/SimulateData/georec_train/georec278\n",
      "/disk/student/adhara/Fall2021/FCNVMB-Deep-learning-based-seismic-velocity-model-building/data/train_data/SimulateData/georec_train/georec279\n",
      "/disk/student/adhara/Fall2021/FCNVMB-Deep-learning-based-seismic-velocity-model-building/data/train_data/SimulateData/georec_train/georec280\n",
      "/disk/student/adhara/Fall2021/FCNVMB-Deep-learning-based-seismic-velocity-model-building/data/train_data/SimulateData/georec_train/georec281\n",
      "/disk/student/adhara/Fall2021/FCNVMB-Deep-learning-based-seismic-velocity-model-building/data/train_data/SimulateData/georec_train/georec282\n",
      "/disk/student/adhara/Fall2021/FCNVMB-Deep-learning-based-seismic-velocity-model-building/data/train_data/SimulateData/georec_train/georec283\n",
      "/disk/student/adhara/Fall2021/FCNVMB-Deep-learning-based-seismic-velocity-model-building/data/train_data/SimulateData/georec_train/georec284\n",
      "/disk/student/adhara/Fall2021/FCNVMB-Deep-learning-based-seismic-velocity-model-building/data/train_data/SimulateData/georec_train/georec285\n",
      "/disk/student/adhara/Fall2021/FCNVMB-Deep-learning-based-seismic-velocity-model-building/data/train_data/SimulateData/georec_train/georec286\n",
      "/disk/student/adhara/Fall2021/FCNVMB-Deep-learning-based-seismic-velocity-model-building/data/train_data/SimulateData/georec_train/georec287\n",
      "/disk/student/adhara/Fall2021/FCNVMB-Deep-learning-based-seismic-velocity-model-building/data/train_data/SimulateData/georec_train/georec288\n",
      "/disk/student/adhara/Fall2021/FCNVMB-Deep-learning-based-seismic-velocity-model-building/data/train_data/SimulateData/georec_train/georec289\n",
      "/disk/student/adhara/Fall2021/FCNVMB-Deep-learning-based-seismic-velocity-model-building/data/train_data/SimulateData/georec_train/georec290\n",
      "/disk/student/adhara/Fall2021/FCNVMB-Deep-learning-based-seismic-velocity-model-building/data/train_data/SimulateData/georec_train/georec291\n",
      "/disk/student/adhara/Fall2021/FCNVMB-Deep-learning-based-seismic-velocity-model-building/data/train_data/SimulateData/georec_train/georec292\n",
      "/disk/student/adhara/Fall2021/FCNVMB-Deep-learning-based-seismic-velocity-model-building/data/train_data/SimulateData/georec_train/georec293\n",
      "/disk/student/adhara/Fall2021/FCNVMB-Deep-learning-based-seismic-velocity-model-building/data/train_data/SimulateData/georec_train/georec294\n",
      "/disk/student/adhara/Fall2021/FCNVMB-Deep-learning-based-seismic-velocity-model-building/data/train_data/SimulateData/georec_train/georec295\n",
      "/disk/student/adhara/Fall2021/FCNVMB-Deep-learning-based-seismic-velocity-model-building/data/train_data/SimulateData/georec_train/georec296\n",
      "/disk/student/adhara/Fall2021/FCNVMB-Deep-learning-based-seismic-velocity-model-building/data/train_data/SimulateData/georec_train/georec297\n",
      "/disk/student/adhara/Fall2021/FCNVMB-Deep-learning-based-seismic-velocity-model-building/data/train_data/SimulateData/georec_train/georec298\n",
      "/disk/student/adhara/Fall2021/FCNVMB-Deep-learning-based-seismic-velocity-model-building/data/train_data/SimulateData/georec_train/georec299\n",
      "/disk/student/adhara/Fall2021/FCNVMB-Deep-learning-based-seismic-velocity-model-building/data/train_data/SimulateData/georec_train/georec300\n",
      "/disk/student/adhara/Fall2021/FCNVMB-Deep-learning-based-seismic-velocity-model-building/data/train_data/SimulateData/georec_train/georec301\n",
      "/disk/student/adhara/Fall2021/FCNVMB-Deep-learning-based-seismic-velocity-model-building/data/train_data/SimulateData/georec_train/georec302\n",
      "/disk/student/adhara/Fall2021/FCNVMB-Deep-learning-based-seismic-velocity-model-building/data/train_data/SimulateData/georec_train/georec303\n",
      "/disk/student/adhara/Fall2021/FCNVMB-Deep-learning-based-seismic-velocity-model-building/data/train_data/SimulateData/georec_train/georec304\n",
      "/disk/student/adhara/Fall2021/FCNVMB-Deep-learning-based-seismic-velocity-model-building/data/train_data/SimulateData/georec_train/georec305\n",
      "/disk/student/adhara/Fall2021/FCNVMB-Deep-learning-based-seismic-velocity-model-building/data/train_data/SimulateData/georec_train/georec306\n",
      "/disk/student/adhara/Fall2021/FCNVMB-Deep-learning-based-seismic-velocity-model-building/data/train_data/SimulateData/georec_train/georec307\n",
      "/disk/student/adhara/Fall2021/FCNVMB-Deep-learning-based-seismic-velocity-model-building/data/train_data/SimulateData/georec_train/georec308\n",
      "/disk/student/adhara/Fall2021/FCNVMB-Deep-learning-based-seismic-velocity-model-building/data/train_data/SimulateData/georec_train/georec309\n",
      "/disk/student/adhara/Fall2021/FCNVMB-Deep-learning-based-seismic-velocity-model-building/data/train_data/SimulateData/georec_train/georec310\n",
      "/disk/student/adhara/Fall2021/FCNVMB-Deep-learning-based-seismic-velocity-model-building/data/train_data/SimulateData/georec_train/georec311\n",
      "/disk/student/adhara/Fall2021/FCNVMB-Deep-learning-based-seismic-velocity-model-building/data/train_data/SimulateData/georec_train/georec312\n",
      "/disk/student/adhara/Fall2021/FCNVMB-Deep-learning-based-seismic-velocity-model-building/data/train_data/SimulateData/georec_train/georec313\n",
      "/disk/student/adhara/Fall2021/FCNVMB-Deep-learning-based-seismic-velocity-model-building/data/train_data/SimulateData/georec_train/georec314\n",
      "/disk/student/adhara/Fall2021/FCNVMB-Deep-learning-based-seismic-velocity-model-building/data/train_data/SimulateData/georec_train/georec315\n",
      "/disk/student/adhara/Fall2021/FCNVMB-Deep-learning-based-seismic-velocity-model-building/data/train_data/SimulateData/georec_train/georec316\n",
      "/disk/student/adhara/Fall2021/FCNVMB-Deep-learning-based-seismic-velocity-model-building/data/train_data/SimulateData/georec_train/georec317\n"
     ]
    },
    {
     "name": "stdout",
     "output_type": "stream",
     "text": [
      "/disk/student/adhara/Fall2021/FCNVMB-Deep-learning-based-seismic-velocity-model-building/data/train_data/SimulateData/georec_train/georec318\n",
      "/disk/student/adhara/Fall2021/FCNVMB-Deep-learning-based-seismic-velocity-model-building/data/train_data/SimulateData/georec_train/georec319\n",
      "/disk/student/adhara/Fall2021/FCNVMB-Deep-learning-based-seismic-velocity-model-building/data/train_data/SimulateData/georec_train/georec320\n",
      "/disk/student/adhara/Fall2021/FCNVMB-Deep-learning-based-seismic-velocity-model-building/data/train_data/SimulateData/georec_train/georec321\n",
      "/disk/student/adhara/Fall2021/FCNVMB-Deep-learning-based-seismic-velocity-model-building/data/train_data/SimulateData/georec_train/georec322\n",
      "/disk/student/adhara/Fall2021/FCNVMB-Deep-learning-based-seismic-velocity-model-building/data/train_data/SimulateData/georec_train/georec323\n",
      "/disk/student/adhara/Fall2021/FCNVMB-Deep-learning-based-seismic-velocity-model-building/data/train_data/SimulateData/georec_train/georec324\n",
      "/disk/student/adhara/Fall2021/FCNVMB-Deep-learning-based-seismic-velocity-model-building/data/train_data/SimulateData/georec_train/georec325\n",
      "/disk/student/adhara/Fall2021/FCNVMB-Deep-learning-based-seismic-velocity-model-building/data/train_data/SimulateData/georec_train/georec326\n",
      "/disk/student/adhara/Fall2021/FCNVMB-Deep-learning-based-seismic-velocity-model-building/data/train_data/SimulateData/georec_train/georec327\n",
      "/disk/student/adhara/Fall2021/FCNVMB-Deep-learning-based-seismic-velocity-model-building/data/train_data/SimulateData/georec_train/georec328\n",
      "/disk/student/adhara/Fall2021/FCNVMB-Deep-learning-based-seismic-velocity-model-building/data/train_data/SimulateData/georec_train/georec329\n",
      "/disk/student/adhara/Fall2021/FCNVMB-Deep-learning-based-seismic-velocity-model-building/data/train_data/SimulateData/georec_train/georec330\n",
      "/disk/student/adhara/Fall2021/FCNVMB-Deep-learning-based-seismic-velocity-model-building/data/train_data/SimulateData/georec_train/georec331\n",
      "/disk/student/adhara/Fall2021/FCNVMB-Deep-learning-based-seismic-velocity-model-building/data/train_data/SimulateData/georec_train/georec332\n",
      "/disk/student/adhara/Fall2021/FCNVMB-Deep-learning-based-seismic-velocity-model-building/data/train_data/SimulateData/georec_train/georec333\n",
      "/disk/student/adhara/Fall2021/FCNVMB-Deep-learning-based-seismic-velocity-model-building/data/train_data/SimulateData/georec_train/georec334\n",
      "/disk/student/adhara/Fall2021/FCNVMB-Deep-learning-based-seismic-velocity-model-building/data/train_data/SimulateData/georec_train/georec335\n",
      "/disk/student/adhara/Fall2021/FCNVMB-Deep-learning-based-seismic-velocity-model-building/data/train_data/SimulateData/georec_train/georec336\n",
      "/disk/student/adhara/Fall2021/FCNVMB-Deep-learning-based-seismic-velocity-model-building/data/train_data/SimulateData/georec_train/georec337\n",
      "/disk/student/adhara/Fall2021/FCNVMB-Deep-learning-based-seismic-velocity-model-building/data/train_data/SimulateData/georec_train/georec338\n",
      "/disk/student/adhara/Fall2021/FCNVMB-Deep-learning-based-seismic-velocity-model-building/data/train_data/SimulateData/georec_train/georec339\n",
      "/disk/student/adhara/Fall2021/FCNVMB-Deep-learning-based-seismic-velocity-model-building/data/train_data/SimulateData/georec_train/georec340\n",
      "/disk/student/adhara/Fall2021/FCNVMB-Deep-learning-based-seismic-velocity-model-building/data/train_data/SimulateData/georec_train/georec341\n",
      "/disk/student/adhara/Fall2021/FCNVMB-Deep-learning-based-seismic-velocity-model-building/data/train_data/SimulateData/georec_train/georec342\n",
      "/disk/student/adhara/Fall2021/FCNVMB-Deep-learning-based-seismic-velocity-model-building/data/train_data/SimulateData/georec_train/georec343\n",
      "/disk/student/adhara/Fall2021/FCNVMB-Deep-learning-based-seismic-velocity-model-building/data/train_data/SimulateData/georec_train/georec344\n",
      "/disk/student/adhara/Fall2021/FCNVMB-Deep-learning-based-seismic-velocity-model-building/data/train_data/SimulateData/georec_train/georec345\n",
      "/disk/student/adhara/Fall2021/FCNVMB-Deep-learning-based-seismic-velocity-model-building/data/train_data/SimulateData/georec_train/georec346\n",
      "/disk/student/adhara/Fall2021/FCNVMB-Deep-learning-based-seismic-velocity-model-building/data/train_data/SimulateData/georec_train/georec347\n",
      "/disk/student/adhara/Fall2021/FCNVMB-Deep-learning-based-seismic-velocity-model-building/data/train_data/SimulateData/georec_train/georec348\n",
      "/disk/student/adhara/Fall2021/FCNVMB-Deep-learning-based-seismic-velocity-model-building/data/train_data/SimulateData/georec_train/georec349\n",
      "/disk/student/adhara/Fall2021/FCNVMB-Deep-learning-based-seismic-velocity-model-building/data/train_data/SimulateData/georec_train/georec350\n",
      "/disk/student/adhara/Fall2021/FCNVMB-Deep-learning-based-seismic-velocity-model-building/data/train_data/SimulateData/georec_train/georec351\n",
      "/disk/student/adhara/Fall2021/FCNVMB-Deep-learning-based-seismic-velocity-model-building/data/train_data/SimulateData/georec_train/georec352\n",
      "/disk/student/adhara/Fall2021/FCNVMB-Deep-learning-based-seismic-velocity-model-building/data/train_data/SimulateData/georec_train/georec353\n",
      "/disk/student/adhara/Fall2021/FCNVMB-Deep-learning-based-seismic-velocity-model-building/data/train_data/SimulateData/georec_train/georec354\n",
      "/disk/student/adhara/Fall2021/FCNVMB-Deep-learning-based-seismic-velocity-model-building/data/train_data/SimulateData/georec_train/georec355\n",
      "/disk/student/adhara/Fall2021/FCNVMB-Deep-learning-based-seismic-velocity-model-building/data/train_data/SimulateData/georec_train/georec356\n",
      "/disk/student/adhara/Fall2021/FCNVMB-Deep-learning-based-seismic-velocity-model-building/data/train_data/SimulateData/georec_train/georec357\n",
      "/disk/student/adhara/Fall2021/FCNVMB-Deep-learning-based-seismic-velocity-model-building/data/train_data/SimulateData/georec_train/georec358\n",
      "/disk/student/adhara/Fall2021/FCNVMB-Deep-learning-based-seismic-velocity-model-building/data/train_data/SimulateData/georec_train/georec359\n",
      "/disk/student/adhara/Fall2021/FCNVMB-Deep-learning-based-seismic-velocity-model-building/data/train_data/SimulateData/georec_train/georec360\n",
      "/disk/student/adhara/Fall2021/FCNVMB-Deep-learning-based-seismic-velocity-model-building/data/train_data/SimulateData/georec_train/georec361\n",
      "/disk/student/adhara/Fall2021/FCNVMB-Deep-learning-based-seismic-velocity-model-building/data/train_data/SimulateData/georec_train/georec362\n",
      "/disk/student/adhara/Fall2021/FCNVMB-Deep-learning-based-seismic-velocity-model-building/data/train_data/SimulateData/georec_train/georec363\n",
      "/disk/student/adhara/Fall2021/FCNVMB-Deep-learning-based-seismic-velocity-model-building/data/train_data/SimulateData/georec_train/georec364\n",
      "/disk/student/adhara/Fall2021/FCNVMB-Deep-learning-based-seismic-velocity-model-building/data/train_data/SimulateData/georec_train/georec365\n",
      "/disk/student/adhara/Fall2021/FCNVMB-Deep-learning-based-seismic-velocity-model-building/data/train_data/SimulateData/georec_train/georec366\n",
      "/disk/student/adhara/Fall2021/FCNVMB-Deep-learning-based-seismic-velocity-model-building/data/train_data/SimulateData/georec_train/georec367\n",
      "/disk/student/adhara/Fall2021/FCNVMB-Deep-learning-based-seismic-velocity-model-building/data/train_data/SimulateData/georec_train/georec368\n",
      "/disk/student/adhara/Fall2021/FCNVMB-Deep-learning-based-seismic-velocity-model-building/data/train_data/SimulateData/georec_train/georec369\n",
      "/disk/student/adhara/Fall2021/FCNVMB-Deep-learning-based-seismic-velocity-model-building/data/train_data/SimulateData/georec_train/georec370\n",
      "/disk/student/adhara/Fall2021/FCNVMB-Deep-learning-based-seismic-velocity-model-building/data/train_data/SimulateData/georec_train/georec371\n",
      "/disk/student/adhara/Fall2021/FCNVMB-Deep-learning-based-seismic-velocity-model-building/data/train_data/SimulateData/georec_train/georec372\n",
      "/disk/student/adhara/Fall2021/FCNVMB-Deep-learning-based-seismic-velocity-model-building/data/train_data/SimulateData/georec_train/georec373\n",
      "/disk/student/adhara/Fall2021/FCNVMB-Deep-learning-based-seismic-velocity-model-building/data/train_data/SimulateData/georec_train/georec374\n",
      "/disk/student/adhara/Fall2021/FCNVMB-Deep-learning-based-seismic-velocity-model-building/data/train_data/SimulateData/georec_train/georec375\n",
      "/disk/student/adhara/Fall2021/FCNVMB-Deep-learning-based-seismic-velocity-model-building/data/train_data/SimulateData/georec_train/georec376\n",
      "/disk/student/adhara/Fall2021/FCNVMB-Deep-learning-based-seismic-velocity-model-building/data/train_data/SimulateData/georec_train/georec377\n"
     ]
    },
    {
     "name": "stdout",
     "output_type": "stream",
     "text": [
      "/disk/student/adhara/Fall2021/FCNVMB-Deep-learning-based-seismic-velocity-model-building/data/train_data/SimulateData/georec_train/georec378\n",
      "/disk/student/adhara/Fall2021/FCNVMB-Deep-learning-based-seismic-velocity-model-building/data/train_data/SimulateData/georec_train/georec379\n",
      "/disk/student/adhara/Fall2021/FCNVMB-Deep-learning-based-seismic-velocity-model-building/data/train_data/SimulateData/georec_train/georec380\n",
      "/disk/student/adhara/Fall2021/FCNVMB-Deep-learning-based-seismic-velocity-model-building/data/train_data/SimulateData/georec_train/georec381\n",
      "/disk/student/adhara/Fall2021/FCNVMB-Deep-learning-based-seismic-velocity-model-building/data/train_data/SimulateData/georec_train/georec382\n",
      "/disk/student/adhara/Fall2021/FCNVMB-Deep-learning-based-seismic-velocity-model-building/data/train_data/SimulateData/georec_train/georec383\n",
      "/disk/student/adhara/Fall2021/FCNVMB-Deep-learning-based-seismic-velocity-model-building/data/train_data/SimulateData/georec_train/georec384\n",
      "/disk/student/adhara/Fall2021/FCNVMB-Deep-learning-based-seismic-velocity-model-building/data/train_data/SimulateData/georec_train/georec385\n",
      "/disk/student/adhara/Fall2021/FCNVMB-Deep-learning-based-seismic-velocity-model-building/data/train_data/SimulateData/georec_train/georec386\n",
      "/disk/student/adhara/Fall2021/FCNVMB-Deep-learning-based-seismic-velocity-model-building/data/train_data/SimulateData/georec_train/georec387\n",
      "/disk/student/adhara/Fall2021/FCNVMB-Deep-learning-based-seismic-velocity-model-building/data/train_data/SimulateData/georec_train/georec388\n",
      "/disk/student/adhara/Fall2021/FCNVMB-Deep-learning-based-seismic-velocity-model-building/data/train_data/SimulateData/georec_train/georec389\n",
      "/disk/student/adhara/Fall2021/FCNVMB-Deep-learning-based-seismic-velocity-model-building/data/train_data/SimulateData/georec_train/georec390\n",
      "/disk/student/adhara/Fall2021/FCNVMB-Deep-learning-based-seismic-velocity-model-building/data/train_data/SimulateData/georec_train/georec391\n",
      "/disk/student/adhara/Fall2021/FCNVMB-Deep-learning-based-seismic-velocity-model-building/data/train_data/SimulateData/georec_train/georec392\n",
      "/disk/student/adhara/Fall2021/FCNVMB-Deep-learning-based-seismic-velocity-model-building/data/train_data/SimulateData/georec_train/georec393\n",
      "/disk/student/adhara/Fall2021/FCNVMB-Deep-learning-based-seismic-velocity-model-building/data/train_data/SimulateData/georec_train/georec394\n",
      "/disk/student/adhara/Fall2021/FCNVMB-Deep-learning-based-seismic-velocity-model-building/data/train_data/SimulateData/georec_train/georec395\n",
      "/disk/student/adhara/Fall2021/FCNVMB-Deep-learning-based-seismic-velocity-model-building/data/train_data/SimulateData/georec_train/georec396\n",
      "/disk/student/adhara/Fall2021/FCNVMB-Deep-learning-based-seismic-velocity-model-building/data/train_data/SimulateData/georec_train/georec397\n",
      "/disk/student/adhara/Fall2021/FCNVMB-Deep-learning-based-seismic-velocity-model-building/data/train_data/SimulateData/georec_train/georec398\n",
      "/disk/student/adhara/Fall2021/FCNVMB-Deep-learning-based-seismic-velocity-model-building/data/train_data/SimulateData/georec_train/georec399\n",
      "/disk/student/adhara/Fall2021/FCNVMB-Deep-learning-based-seismic-velocity-model-building/data/train_data/SimulateData/georec_train/georec400\n",
      "/disk/student/adhara/Fall2021/FCNVMB-Deep-learning-based-seismic-velocity-model-building/data/train_data/SimulateData/georec_train/georec401\n",
      "/disk/student/adhara/Fall2021/FCNVMB-Deep-learning-based-seismic-velocity-model-building/data/train_data/SimulateData/georec_train/georec402\n",
      "/disk/student/adhara/Fall2021/FCNVMB-Deep-learning-based-seismic-velocity-model-building/data/train_data/SimulateData/georec_train/georec403\n",
      "/disk/student/adhara/Fall2021/FCNVMB-Deep-learning-based-seismic-velocity-model-building/data/train_data/SimulateData/georec_train/georec404\n",
      "/disk/student/adhara/Fall2021/FCNVMB-Deep-learning-based-seismic-velocity-model-building/data/train_data/SimulateData/georec_train/georec405\n",
      "/disk/student/adhara/Fall2021/FCNVMB-Deep-learning-based-seismic-velocity-model-building/data/train_data/SimulateData/georec_train/georec406\n",
      "/disk/student/adhara/Fall2021/FCNVMB-Deep-learning-based-seismic-velocity-model-building/data/train_data/SimulateData/georec_train/georec407\n",
      "/disk/student/adhara/Fall2021/FCNVMB-Deep-learning-based-seismic-velocity-model-building/data/train_data/SimulateData/georec_train/georec408\n",
      "/disk/student/adhara/Fall2021/FCNVMB-Deep-learning-based-seismic-velocity-model-building/data/train_data/SimulateData/georec_train/georec409\n",
      "/disk/student/adhara/Fall2021/FCNVMB-Deep-learning-based-seismic-velocity-model-building/data/train_data/SimulateData/georec_train/georec410\n",
      "/disk/student/adhara/Fall2021/FCNVMB-Deep-learning-based-seismic-velocity-model-building/data/train_data/SimulateData/georec_train/georec411\n",
      "/disk/student/adhara/Fall2021/FCNVMB-Deep-learning-based-seismic-velocity-model-building/data/train_data/SimulateData/georec_train/georec412\n",
      "/disk/student/adhara/Fall2021/FCNVMB-Deep-learning-based-seismic-velocity-model-building/data/train_data/SimulateData/georec_train/georec413\n",
      "/disk/student/adhara/Fall2021/FCNVMB-Deep-learning-based-seismic-velocity-model-building/data/train_data/SimulateData/georec_train/georec414\n",
      "/disk/student/adhara/Fall2021/FCNVMB-Deep-learning-based-seismic-velocity-model-building/data/train_data/SimulateData/georec_train/georec415\n",
      "/disk/student/adhara/Fall2021/FCNVMB-Deep-learning-based-seismic-velocity-model-building/data/train_data/SimulateData/georec_train/georec416\n",
      "/disk/student/adhara/Fall2021/FCNVMB-Deep-learning-based-seismic-velocity-model-building/data/train_data/SimulateData/georec_train/georec417\n",
      "/disk/student/adhara/Fall2021/FCNVMB-Deep-learning-based-seismic-velocity-model-building/data/train_data/SimulateData/georec_train/georec418\n",
      "/disk/student/adhara/Fall2021/FCNVMB-Deep-learning-based-seismic-velocity-model-building/data/train_data/SimulateData/georec_train/georec419\n",
      "/disk/student/adhara/Fall2021/FCNVMB-Deep-learning-based-seismic-velocity-model-building/data/train_data/SimulateData/georec_train/georec420\n",
      "/disk/student/adhara/Fall2021/FCNVMB-Deep-learning-based-seismic-velocity-model-building/data/train_data/SimulateData/georec_train/georec421\n",
      "/disk/student/adhara/Fall2021/FCNVMB-Deep-learning-based-seismic-velocity-model-building/data/train_data/SimulateData/georec_train/georec422\n",
      "/disk/student/adhara/Fall2021/FCNVMB-Deep-learning-based-seismic-velocity-model-building/data/train_data/SimulateData/georec_train/georec423\n",
      "/disk/student/adhara/Fall2021/FCNVMB-Deep-learning-based-seismic-velocity-model-building/data/train_data/SimulateData/georec_train/georec424\n",
      "/disk/student/adhara/Fall2021/FCNVMB-Deep-learning-based-seismic-velocity-model-building/data/train_data/SimulateData/georec_train/georec425\n",
      "/disk/student/adhara/Fall2021/FCNVMB-Deep-learning-based-seismic-velocity-model-building/data/train_data/SimulateData/georec_train/georec426\n",
      "/disk/student/adhara/Fall2021/FCNVMB-Deep-learning-based-seismic-velocity-model-building/data/train_data/SimulateData/georec_train/georec427\n",
      "/disk/student/adhara/Fall2021/FCNVMB-Deep-learning-based-seismic-velocity-model-building/data/train_data/SimulateData/georec_train/georec428\n",
      "/disk/student/adhara/Fall2021/FCNVMB-Deep-learning-based-seismic-velocity-model-building/data/train_data/SimulateData/georec_train/georec429\n",
      "/disk/student/adhara/Fall2021/FCNVMB-Deep-learning-based-seismic-velocity-model-building/data/train_data/SimulateData/georec_train/georec430\n",
      "/disk/student/adhara/Fall2021/FCNVMB-Deep-learning-based-seismic-velocity-model-building/data/train_data/SimulateData/georec_train/georec431\n",
      "/disk/student/adhara/Fall2021/FCNVMB-Deep-learning-based-seismic-velocity-model-building/data/train_data/SimulateData/georec_train/georec432\n",
      "/disk/student/adhara/Fall2021/FCNVMB-Deep-learning-based-seismic-velocity-model-building/data/train_data/SimulateData/georec_train/georec433\n",
      "/disk/student/adhara/Fall2021/FCNVMB-Deep-learning-based-seismic-velocity-model-building/data/train_data/SimulateData/georec_train/georec434\n",
      "/disk/student/adhara/Fall2021/FCNVMB-Deep-learning-based-seismic-velocity-model-building/data/train_data/SimulateData/georec_train/georec435\n",
      "/disk/student/adhara/Fall2021/FCNVMB-Deep-learning-based-seismic-velocity-model-building/data/train_data/SimulateData/georec_train/georec436\n",
      "/disk/student/adhara/Fall2021/FCNVMB-Deep-learning-based-seismic-velocity-model-building/data/train_data/SimulateData/georec_train/georec437\n",
      "/disk/student/adhara/Fall2021/FCNVMB-Deep-learning-based-seismic-velocity-model-building/data/train_data/SimulateData/georec_train/georec438\n"
     ]
    },
    {
     "name": "stdout",
     "output_type": "stream",
     "text": [
      "/disk/student/adhara/Fall2021/FCNVMB-Deep-learning-based-seismic-velocity-model-building/data/train_data/SimulateData/georec_train/georec439\n",
      "/disk/student/adhara/Fall2021/FCNVMB-Deep-learning-based-seismic-velocity-model-building/data/train_data/SimulateData/georec_train/georec440\n",
      "/disk/student/adhara/Fall2021/FCNVMB-Deep-learning-based-seismic-velocity-model-building/data/train_data/SimulateData/georec_train/georec441\n",
      "/disk/student/adhara/Fall2021/FCNVMB-Deep-learning-based-seismic-velocity-model-building/data/train_data/SimulateData/georec_train/georec442\n",
      "/disk/student/adhara/Fall2021/FCNVMB-Deep-learning-based-seismic-velocity-model-building/data/train_data/SimulateData/georec_train/georec443\n",
      "/disk/student/adhara/Fall2021/FCNVMB-Deep-learning-based-seismic-velocity-model-building/data/train_data/SimulateData/georec_train/georec444\n",
      "/disk/student/adhara/Fall2021/FCNVMB-Deep-learning-based-seismic-velocity-model-building/data/train_data/SimulateData/georec_train/georec445\n"
     ]
    }
   ],
   "source": [
    "start = 1\n",
    "train_size1 = TrainSize1\n",
    "train_size2 = TrainSize2\n",
    "in_channels = Inchannels\n",
    "model_dim = ModelDim\n",
    "kk = 1\n",
    "filename=vel = np.load('/disk/student/adhara/OpenFWI/FlatFaultsupervised/FlatFault/vel4_1_2.npy')\n",
    "for i in range(start,start+train_size1):\n",
    "        \n",
    "    kk = kk + 1\n",
    "    filename_seis = train_data_dir+'georec_train/'+datafilename+str(i)\n",
    "    print(filename_seis)\n",
    "        # Load .mat data\n",
    "    data1_set = scipy.io.loadmat(filename_seis)\n",
    "        #data1_set = np.float32(data1_set[str(dataname)].reshape([data_dim[0],data_dim[1],in_channels]))\n",
    "    data1_set = np.float32(data1_set[str(dataname)])\n",
    "        # Change the dimention [h, w, c] --> [c, h, w]\n",
    "    for k in range (0,in_channels):\n",
    "        data11_set     = np.float32(data1_set[:,:,k])\n",
    "        data11_set     = np.float32(data11_set)\n",
    "        # Data downsampling\n",
    "        # note that the len(data11_set.shape)=len(block_size.shape)=2\n",
    "        #data11_set     = block_reduce(data11_set,block_size=data_dsp_blk,func=decimate)\n",
    "        #data11_set     = data11_set[1:2000:5,:]\n",
    "        data11_set     = np.expand_dims(data11_set,axis=0)\n",
    "        data_dsp_dim   = data11_set.shape\n",
    "        #data11_set     = data11_set.reshape(1,data_dsp_dim[0]*data_dsp_dim[1])\n",
    "        if k==0:\n",
    "            train1_set = data11_set\n",
    "        else:\n",
    "            train1_set = np.append(train1_set,data11_set,axis=0)\n",
    "    #filename_label     = train_data_dir+'vmodel_train/'+truthfilename+str(i)\n",
    "    #data2_set          = scipy.io.loadmat(filename_label)\n",
    "    #data2_set          = data2_set[str(truthname)]\n",
    "    #data2_set[np.arange(len(data2_set)), data2_set.argmin(axis=1)] = 2000\n",
    "    #data2_set[(data2_set==np.min(data2_set))] = 2000\n",
    "\n",
    "    data2_set          = filename[i,0,:,:]\n",
    "    #data2_set[(data2_set==np.min(data2_set))] = 3300\n",
    "    data2_set[(data2_set==np.max(data2_set))] = 6000\n",
    "    data2_set[(data2_set==np.min(data2_set))] = 3000\n",
    " \n",
    "\n",
    "        # Label downsampling\n",
    "    #data2_set          = block_reduce(data2_set,block_size=label_dsp_blk,func=np.max)\n",
    "    label_dsp_dim      = data2_set.shape\n",
    "    #data2_set          = data2_set.reshape(1,label_dsp_dim[0]*label_dsp_dim[1])\n",
    "    data2_set          = np.float32(data2_set)\n",
    "    #if i==start:\n",
    "    #    train_set      = train1_set\n",
    "    #    label_set      = data2_set\n",
    "    #else:\n",
    "    #    train_set      = np.append(train_set,train1_set,axis=0)\n",
    "    #    label_set      = np.append(label_set,data2_set,axis=0)\n",
    "        \n",
    "    A = train1_set\n",
    "    B = data2_set\n",
    "    C = scipy.ndimage.gaussian_filter(B,sigma=10)\n",
    "    #rt = np.ones(np.shape(B))\n",
    "    #plt.imshow(rt)\n",
    "    #rt[:,0:70] = B[:,35]\n",
    "    #C = np.transpose(rt)\n",
    "    file = open('/disk/student/adhara/Fall2021/FCNVMB-Deep-learning-based-seismic-velocity-model-building/trainA/'+str(kk)+'.npy','wb')\n",
    "    np.save(file,A)\n",
    "    file.close()\n",
    "    file = open('/disk/student/adhara/Fall2021/FCNVMB-Deep-learning-based-seismic-velocity-model-building/trainB/'+str(kk)+'.npy','wb')\n",
    "    np.save(file,B)\n",
    "    file.close()\n",
    "    file = open('/disk/student/adhara/Fall2021/FCNVMB-Deep-learning-based-seismic-velocity-model-building/trainC/'+str(kk)+'.npy','wb')\n",
    "    np.save(file,C)\n",
    "    file.close()\n",
    "    #file = open('/disk/student/adhara/Fall2021/FCNVMB-Deep-learning-based-seismic-velocity-model-building/trainB/'+str(kk)+'.npy','wb')\n",
    "    #np.save(file,C)\n",
    "    #file.close()\n",
    "    \n",
    "            \n",
    "#train_set = train_set.reshape((train_size,in_channels,data_dsp_dim[0]*data_dsp_dim[1]))\n",
    "#label_set = label_set.reshape((train_size,1,label_dsp_dim[0]*label_dsp_dim[1]))\n",
    "    \n"
   ]
  },
  {
   "cell_type": "code",
   "execution_count": 217,
   "id": "037397fb",
   "metadata": {},
   "outputs": [
    {
     "data": {
      "text/plain": [
       "<matplotlib.image.AxesImage at 0x7fd3238abe80>"
      ]
     },
     "execution_count": 217,
     "metadata": {},
     "output_type": "execute_result"
    },
    {
     "data": {
      "image/png": "[encoded data removed]",
      "text/plain": [
       "<Figure size 432x288 with 1 Axes>"
      ]
     },
     "metadata": {
      "needs_background": "light"
     },
     "output_type": "display_data"
    }
   ],
   "source": [
    "plt.imshow(B)"
   ]
  },
  {
   "cell_type": "code",
   "execution_count": 218,
   "id": "666e8af3",
   "metadata": {},
   "outputs": [
    {
     "data": {
      "text/plain": [
       "3000.0"
      ]
     },
     "execution_count": 218,
     "metadata": {},
     "output_type": "execute_result"
    }
   ],
   "source": [
    "np.min(B)"
   ]
  },
  {
   "cell_type": "code",
   "execution_count": 219,
   "id": "3bbebfb6",
   "metadata": {},
   "outputs": [
    {
     "data": {
      "text/plain": [
       "3000.0"
      ]
     },
     "execution_count": 219,
     "metadata": {},
     "output_type": "execute_result"
    },
    {
     "data": {
      "image/png": "[encoded data removed]",
      "text/plain": [
       "<Figure size 432x288 with 2 Axes>"
      ]
     },
     "metadata": {
      "needs_background": "light"
     },
     "output_type": "display_data"
    }
   ],
   "source": [
    "plt.imshow(B)\n",
    "plt.colorbar()\n",
    "np.min(B)"
   ]
  },
  {
   "cell_type": "code",
   "execution_count": 220,
   "id": "1871ed7e",
   "metadata": {},
   "outputs": [
    {
     "data": {
      "text/plain": [
       "<matplotlib.image.AxesImage at 0x7fd324978c50>"
      ]
     },
     "execution_count": 220,
     "metadata": {},
     "output_type": "execute_result"
    },
    {
     "data": {
      "image/png": "[encoded data removed]",
      "text/plain": [
       "<Figure size 432x288 with 1 Axes>"
      ]
     },
     "metadata": {
      "needs_background": "light"
     },
     "output_type": "display_data"
    }
   ],
   "source": [
    "plt.imshow(C)"
   ]
  },
  {
   "cell_type": "code",
   "execution_count": 221,
   "id": "40fac349",
   "metadata": {},
   "outputs": [
    {
     "data": {
      "text/plain": [
       "array([[3000., 3000., 3000., ..., 3000., 3000., 3000.],\n",
       "       [3000., 3000., 3000., ..., 3000., 3000., 3000.],\n",
       "       [3000., 3000., 3000., ..., 3000., 3000., 3000.],\n",
       "       ...,\n",
       "       [6000., 6000., 6000., ..., 6000., 6000., 6000.],\n",
       "       [6000., 6000., 6000., ..., 6000., 6000., 6000.],\n",
       "       [6000., 6000., 6000., ..., 6000., 6000., 6000.]], dtype=float32)"
      ]
     },
     "execution_count": 221,
     "metadata": {},
     "output_type": "execute_result"
    },
    {
     "data": {
      "image/png": "[encoded data removed]",
      "text/plain": [
       "<Figure size 432x288 with 2 Axes>"
      ]
     },
     "metadata": {
      "needs_background": "light"
     },
     "output_type": "display_data"
    }
   ],
   "source": [
    "plt.imshow(data2_set)\n",
    "plt.colorbar()\n",
    "data2_set"
   ]
  },
  {
   "cell_type": "code",
   "execution_count": 222,
   "id": "17c2c103",
   "metadata": {},
   "outputs": [
    {
     "data": {
      "text/plain": [
       "(6, 1000, 70)"
      ]
     },
     "execution_count": 222,
     "metadata": {},
     "output_type": "execute_result"
    }
   ],
   "source": [
    "import matplotlib.pyplot as plt\n",
    "np.shape(A)"
   ]
  },
  {
   "cell_type": "code",
   "execution_count": 223,
   "id": "c8b27376",
   "metadata": {},
   "outputs": [],
   "source": [
    "start = 1\n",
    "train_size1 = TrainSize1\n",
    "train_size2 = TrainSize2\n",
    "test_size = TestSize\n",
    "in_channels = Inchannels\n",
    "model_dim = ModelDim\n",
    "#kk = 1\n",
    "filename=vel = np.load('/disk/student/adhara/OpenFWI/FlatFaultsupervised/FlatFault/vel4_1_2.npy')\n",
    "for i in range(start+train_size1+test_size,start+train_size1+test_size+train_size2):\n",
    "        \n",
    "    kk = kk + 1\n",
    "    filename_seis = train_data_dir+'georec_train/'+datafilename+str(i)\n",
    "    print(filename_seis)\n",
    "        # Load .mat data\n",
    "    data1_set = scipy.io.loadmat(filename_seis)\n",
    "        #data1_set = np.float32(data1_set[str(dataname)].reshape([data_dim[0],data_dim[1],in_channels]))\n",
    "    data1_set = np.float32(data1_set[str(dataname)])\n",
    "        # Change the dimention [h, w, c] --> [c, h, w]\n",
    "    for k in range (0,in_channels):\n",
    "        data11_set     = np.float32(data1_set[:,:,k])\n",
    "        data11_set     = np.float32(data11_set)\n",
    "        # Data downsampling\n",
    "        # note that the len(data11_set.shape)=len(block_size.shape)=2\n",
    "        #data11_set     = block_reduce(data11_set,block_size=data_dsp_blk,func=decimate)\n",
    "        #data11_set     = data11_set[1:2000:5,:]\n",
    "        data11_set     = np.expand_dims(data11_set,axis=0)\n",
    "        data_dsp_dim   = data11_set.shape\n",
    "        #data11_set     = data11_set.reshape(1,data_dsp_dim[0]*data_dsp_dim[1])\n",
    "        if k==0:\n",
    "            train1_set = data11_set\n",
    "        else:\n",
    "            train1_set = np.append(train1_set,data11_set,axis=0)\n",
    "    #filename_label     = train_data_dir+'vmodel_train/'+truthfilename+str(i)\n",
    "    #data2_set          = scipy.io.loadmat(filename_label)\n",
    "    #data2_set          = data2_set[str(truthname)]\n",
    "    #data2_set[(data2_set==np.min(data2_set))] = 2000\n",
    "\n",
    "    data2_set          = filename[i,0,:,:]\n",
    "    data2_set[(data2_set==np.min(data2_set))] = 3000\n",
    "    data2_set[(data2_set==np.max(data2_set))] = 6000\n",
    "\n",
    "        # Label downsampling\n",
    "    #data2_set          = block_reduce(data2_set,block_size=label_dsp_blk,func=np.max)\n",
    "    label_dsp_dim      = data2_set.shape\n",
    "    #data2_set          = data2_set.reshape(1,label_dsp_dim[0]*label_dsp_dim[1])\n",
    "    data2_set          = np.float32(data2_set)\n",
    "    #if i==start:\n",
    "    #    train_set      = train1_set\n",
    "    #    label_set      = data2_set\n",
    "    #else:\n",
    "    #    train_set      = np.append(train_set,train1_set,axis=0)\n",
    "    #    label_set      = np.append(label_set,data2_set,axis=0)\n",
    "        \n",
    "    A = train1_set\n",
    "    B = data2_set\n",
    "    #rt = np.ones(np.shape(B))\n",
    "    C = scipy.ndimage.gaussian_filter(B,sigma=10)\n",
    "    #plt.imshow(rt)\n",
    "    #rt[:,0:70] = B[:,35]\n",
    "    #C = np.transpose(rt)\n",
    "    file = open('/disk/student/adhara/Fall2021/FCNVMB-Deep-learning-based-seismic-velocity-model-building/trainA/'+str(kk)+'.npy','wb')\n",
    "    np.save(file,A)\n",
    "    file.close()\n",
    "    file = open('/disk/student/adhara/Fall2021/FCNVMB-Deep-learning-based-seismic-velocity-model-building/trainB/'+str(kk)+'.npy','wb')\n",
    "    np.save(file,B)\n",
    "    file.close()\n",
    "    file = open('/disk/student/adhara/Fall2021/FCNVMB-Deep-learning-based-seismic-velocity-model-building/trainC/'+str(kk)+'.npy','wb')\n",
    "    np.save(file,C)\n",
    "    file.close()\n",
    "            \n",
    "#train_set = train_set.reshape((train_size,in_channels,data_dsp_dim[0]*data_dsp_dim[1]))\n",
    "#label_set = label_set.reshape((train_size,1,label_dsp_dim[0]*label_dsp_dim[1]))\n",
    "    "
   ]
  },
  {
   "cell_type": "code",
   "execution_count": 224,
   "id": "d2db1f82",
   "metadata": {},
   "outputs": [
    {
     "data": {
      "text/plain": [
       "<matplotlib.image.AxesImage at 0x7fd3239e3160>"
      ]
     },
     "execution_count": 224,
     "metadata": {},
     "output_type": "execute_result"
    },
    {
     "data": {
      "image/png": "[encoded data removed]",
      "text/plain": [
       "<Figure size 432x288 with 1 Axes>"
      ]
     },
     "metadata": {
      "needs_background": "light"
     },
     "output_type": "display_data"
    }
   ],
   "source": [
    "plt.imshow(C)"
   ]
  },
  {
   "cell_type": "code",
   "execution_count": 225,
   "id": "e915e93f",
   "metadata": {},
   "outputs": [
    {
     "data": {
      "text/plain": [
       "(6, 1000, 70)"
      ]
     },
     "execution_count": 225,
     "metadata": {},
     "output_type": "execute_result"
    }
   ],
   "source": [
    "np.shape(A)"
   ]
  },
  {
   "cell_type": "code",
   "execution_count": 226,
   "id": "152c4a86",
   "metadata": {},
   "outputs": [
    {
     "data": {
      "text/plain": [
       "0"
      ]
     },
     "execution_count": 226,
     "metadata": {},
     "output_type": "execute_result"
    }
   ],
   "source": [
    "os.system('rm -rf /disk/student/adhara/Fall2021/FCNVMB-Deep-learning-based-seismic-velocity-model-building/testA')\n",
    "os.system('rm -rf /disk/student/adhara/Fall2021/FCNVMB-Deep-learning-based-seismic-velocity-model-building/testB')\n",
    "os.system('rm -rf /disk/student/adhara/Fall2021/FCNVMB-Deep-learning-based-seismic-velocity-model-building/testC')\n",
    "\n",
    "os.system('mkdir /disk/student/adhara/Fall2021/FCNVMB-Deep-learning-based-seismic-velocity-model-building/testA')\n",
    "os.system('mkdir /disk/student/adhara/Fall2021/FCNVMB-Deep-learning-based-seismic-velocity-model-building/testB')\n",
    "os.system('mkdir /disk/student/adhara/Fall2021/FCNVMB-Deep-learning-based-seismic-velocity-model-building/testC')"
   ]
  },
  {
   "cell_type": "code",
   "execution_count": 227,
   "id": "89e26b17",
   "metadata": {},
   "outputs": [
    {
     "name": "stdout",
     "output_type": "stream",
     "text": [
      "/disk/student/adhara/Fall2021/FCNVMB-Deep-learning-based-seismic-velocity-model-building/data/train_data/SimulateData/georec_train/georec446\n",
      "/disk/student/adhara/Fall2021/FCNVMB-Deep-learning-based-seismic-velocity-model-building/data/train_data/SimulateData/georec_train/georec447\n",
      "/disk/student/adhara/Fall2021/FCNVMB-Deep-learning-based-seismic-velocity-model-building/data/train_data/SimulateData/georec_train/georec448\n",
      "/disk/student/adhara/Fall2021/FCNVMB-Deep-learning-based-seismic-velocity-model-building/data/train_data/SimulateData/georec_train/georec449\n",
      "/disk/student/adhara/Fall2021/FCNVMB-Deep-learning-based-seismic-velocity-model-building/data/train_data/SimulateData/georec_train/georec450\n",
      "/disk/student/adhara/Fall2021/FCNVMB-Deep-learning-based-seismic-velocity-model-building/data/train_data/SimulateData/georec_train/georec451\n",
      "/disk/student/adhara/Fall2021/FCNVMB-Deep-learning-based-seismic-velocity-model-building/data/train_data/SimulateData/georec_train/georec452\n",
      "/disk/student/adhara/Fall2021/FCNVMB-Deep-learning-based-seismic-velocity-model-building/data/train_data/SimulateData/georec_train/georec453\n",
      "/disk/student/adhara/Fall2021/FCNVMB-Deep-learning-based-seismic-velocity-model-building/data/train_data/SimulateData/georec_train/georec454\n",
      "/disk/student/adhara/Fall2021/FCNVMB-Deep-learning-based-seismic-velocity-model-building/data/train_data/SimulateData/georec_train/georec455\n",
      "/disk/student/adhara/Fall2021/FCNVMB-Deep-learning-based-seismic-velocity-model-building/data/train_data/SimulateData/georec_train/georec456\n",
      "/disk/student/adhara/Fall2021/FCNVMB-Deep-learning-based-seismic-velocity-model-building/data/train_data/SimulateData/georec_train/georec457\n",
      "/disk/student/adhara/Fall2021/FCNVMB-Deep-learning-based-seismic-velocity-model-building/data/train_data/SimulateData/georec_train/georec458\n",
      "/disk/student/adhara/Fall2021/FCNVMB-Deep-learning-based-seismic-velocity-model-building/data/train_data/SimulateData/georec_train/georec459\n",
      "/disk/student/adhara/Fall2021/FCNVMB-Deep-learning-based-seismic-velocity-model-building/data/train_data/SimulateData/georec_train/georec460\n",
      "/disk/student/adhara/Fall2021/FCNVMB-Deep-learning-based-seismic-velocity-model-building/data/train_data/SimulateData/georec_train/georec461\n",
      "/disk/student/adhara/Fall2021/FCNVMB-Deep-learning-based-seismic-velocity-model-building/data/train_data/SimulateData/georec_train/georec462\n",
      "/disk/student/adhara/Fall2021/FCNVMB-Deep-learning-based-seismic-velocity-model-building/data/train_data/SimulateData/georec_train/georec463\n",
      "/disk/student/adhara/Fall2021/FCNVMB-Deep-learning-based-seismic-velocity-model-building/data/train_data/SimulateData/georec_train/georec464\n",
      "/disk/student/adhara/Fall2021/FCNVMB-Deep-learning-based-seismic-velocity-model-building/data/train_data/SimulateData/georec_train/georec465\n",
      "/disk/student/adhara/Fall2021/FCNVMB-Deep-learning-based-seismic-velocity-model-building/data/train_data/SimulateData/georec_train/georec466\n",
      "/disk/student/adhara/Fall2021/FCNVMB-Deep-learning-based-seismic-velocity-model-building/data/train_data/SimulateData/georec_train/georec467\n",
      "/disk/student/adhara/Fall2021/FCNVMB-Deep-learning-based-seismic-velocity-model-building/data/train_data/SimulateData/georec_train/georec468\n",
      "/disk/student/adhara/Fall2021/FCNVMB-Deep-learning-based-seismic-velocity-model-building/data/train_data/SimulateData/georec_train/georec469\n",
      "/disk/student/adhara/Fall2021/FCNVMB-Deep-learning-based-seismic-velocity-model-building/data/train_data/SimulateData/georec_train/georec470\n",
      "/disk/student/adhara/Fall2021/FCNVMB-Deep-learning-based-seismic-velocity-model-building/data/train_data/SimulateData/georec_train/georec471\n",
      "/disk/student/adhara/Fall2021/FCNVMB-Deep-learning-based-seismic-velocity-model-building/data/train_data/SimulateData/georec_train/georec472\n",
      "/disk/student/adhara/Fall2021/FCNVMB-Deep-learning-based-seismic-velocity-model-building/data/train_data/SimulateData/georec_train/georec473\n",
      "/disk/student/adhara/Fall2021/FCNVMB-Deep-learning-based-seismic-velocity-model-building/data/train_data/SimulateData/georec_train/georec474\n",
      "/disk/student/adhara/Fall2021/FCNVMB-Deep-learning-based-seismic-velocity-model-building/data/train_data/SimulateData/georec_train/georec475\n",
      "/disk/student/adhara/Fall2021/FCNVMB-Deep-learning-based-seismic-velocity-model-building/data/train_data/SimulateData/georec_train/georec476\n",
      "/disk/student/adhara/Fall2021/FCNVMB-Deep-learning-based-seismic-velocity-model-building/data/train_data/SimulateData/georec_train/georec477\n",
      "/disk/student/adhara/Fall2021/FCNVMB-Deep-learning-based-seismic-velocity-model-building/data/train_data/SimulateData/georec_train/georec478\n",
      "/disk/student/adhara/Fall2021/FCNVMB-Deep-learning-based-seismic-velocity-model-building/data/train_data/SimulateData/georec_train/georec479\n",
      "/disk/student/adhara/Fall2021/FCNVMB-Deep-learning-based-seismic-velocity-model-building/data/train_data/SimulateData/georec_train/georec480\n",
      "/disk/student/adhara/Fall2021/FCNVMB-Deep-learning-based-seismic-velocity-model-building/data/train_data/SimulateData/georec_train/georec481\n",
      "/disk/student/adhara/Fall2021/FCNVMB-Deep-learning-based-seismic-velocity-model-building/data/train_data/SimulateData/georec_train/georec482\n",
      "/disk/student/adhara/Fall2021/FCNVMB-Deep-learning-based-seismic-velocity-model-building/data/train_data/SimulateData/georec_train/georec483\n",
      "/disk/student/adhara/Fall2021/FCNVMB-Deep-learning-based-seismic-velocity-model-building/data/train_data/SimulateData/georec_train/georec484\n",
      "/disk/student/adhara/Fall2021/FCNVMB-Deep-learning-based-seismic-velocity-model-building/data/train_data/SimulateData/georec_train/georec485\n",
      "/disk/student/adhara/Fall2021/FCNVMB-Deep-learning-based-seismic-velocity-model-building/data/train_data/SimulateData/georec_train/georec486\n",
      "/disk/student/adhara/Fall2021/FCNVMB-Deep-learning-based-seismic-velocity-model-building/data/train_data/SimulateData/georec_train/georec487\n",
      "/disk/student/adhara/Fall2021/FCNVMB-Deep-learning-based-seismic-velocity-model-building/data/train_data/SimulateData/georec_train/georec488\n",
      "/disk/student/adhara/Fall2021/FCNVMB-Deep-learning-based-seismic-velocity-model-building/data/train_data/SimulateData/georec_train/georec489\n",
      "/disk/student/adhara/Fall2021/FCNVMB-Deep-learning-based-seismic-velocity-model-building/data/train_data/SimulateData/georec_train/georec490\n",
      "/disk/student/adhara/Fall2021/FCNVMB-Deep-learning-based-seismic-velocity-model-building/data/train_data/SimulateData/georec_train/georec491\n",
      "/disk/student/adhara/Fall2021/FCNVMB-Deep-learning-based-seismic-velocity-model-building/data/train_data/SimulateData/georec_train/georec492\n",
      "/disk/student/adhara/Fall2021/FCNVMB-Deep-learning-based-seismic-velocity-model-building/data/train_data/SimulateData/georec_train/georec493\n",
      "/disk/student/adhara/Fall2021/FCNVMB-Deep-learning-based-seismic-velocity-model-building/data/train_data/SimulateData/georec_train/georec494\n",
      "/disk/student/adhara/Fall2021/FCNVMB-Deep-learning-based-seismic-velocity-model-building/data/train_data/SimulateData/georec_train/georec495\n"
     ]
    }
   ],
   "source": [
    "start = 1\n",
    "test_size = TestSize\n",
    "in_channels = Inchannels\n",
    "model_dim = ModelDim\n",
    "kk = 0\n",
    "realization = 50\n",
    "filename = np.load('/disk/student/adhara/OpenFWI/FlatFaultsupervised/FlatFault/vel4_1_2.npy')\n",
    "for i in range(start+train_size1,start+train_size1+test_size):\n",
    "    kk = kk + 1\n",
    "    filename_seis = train_data_dir+'georec_train/'+datafilename+str(i)\n",
    "    print(filename_seis)\n",
    "        # Load .mat data\n",
    "    data1_set = scipy.io.loadmat(filename_seis)\n",
    "        #data1_set = np.float32(data1_set[str(dataname)].reshape([data_dim[0],data_dim[1],in_channels]))\n",
    "    data1_set = np.float32(data1_set[str(dataname)])\n",
    "        # Change the dimention [h, w, c] --> [c, h, w]\n",
    "    for k in range (0,in_channels):\n",
    "        data11_set     = np.float32(data1_set[:,:,k])\n",
    "        data11_set     = np.float32(data11_set)\n",
    "        # Data downsampling\n",
    "        # note that the len(data11_set.shape)=len(block_size.shape)=2\n",
    "        #data11_set     = block_reduce(data11_set,block_size=data_dsp_blk,func=decimate)\n",
    "        #data11_set     = data11_set[1:2000:5,:]\n",
    "        data11_set     = np.expand_dims(data11_set,axis=0)\n",
    "        data_dsp_dim   = data11_set.shape\n",
    "        #data11_set     = data11_set.reshape(1,data_dsp_dim[0]*data_dsp_dim[1])\n",
    "        if k==0:\n",
    "            train1_set = data11_set\n",
    "        else:\n",
    "            train1_set = np.append(train1_set,data11_set,axis=0)\n",
    "    #filename_label     = train_data_dir+'vmodel_train/'+truthfilename+str(i)\n",
    "    #data2_set          = scipy.io.loadmat(filename_label)\n",
    "    #data2_set          = data2_set[str(truthname)]\n",
    "\n",
    "    data2_set          = filename[i,0,:,:]\n",
    "    data2_set[(data2_set==np.min(data2_set))] = 3000\n",
    "    data2_set[(data2_set==np.max(data2_set))] = 6000\n",
    "    \n",
    " \n",
    "        # Label downsampling\n",
    "    #data2_set          = block_reduce(data2_set,block_size=label_dsp_blk,func=np.max)\n",
    "    label_dsp_dim      = data2_set.shape\n",
    "    #data2_set          = data2_set.reshape(1,label_dsp_dim[0]*label_dsp_dim[1])\n",
    "    data2_set          = np.float32(data2_set)\n",
    "    #if i==start:\n",
    "    #    train_set      = train1_set\n",
    "    #    label_set      = data2_set\n",
    "    #else:\n",
    "    #    train_set      = np.append(train_set,train1_set,axis=0)\n",
    "    #    label_set      = np.append(label_set,data2_set,axis=0)\n",
    "        \n",
    "    A = train1_set\n",
    "    B = data2_set\n",
    "    C = scipy.ndimage.gaussian_filter(B,sigma=10)\n",
    "    file = open('/disk/student/adhara/Fall2021/FCNVMB-Deep-learning-based-seismic-velocity-model-building/testA/'+str(kk)+'.npy','wb')\n",
    "    np.save(file,A)\n",
    "    file.close()\n",
    "    file = open('/disk/student/adhara/Fall2021/FCNVMB-Deep-learning-based-seismic-velocity-model-building/testB/'+str(kk)+'.npy','wb')\n",
    "    np.save(file,B)\n",
    "    file.close()\n",
    "    file = open('/disk/student/adhara/Fall2021/FCNVMB-Deep-learning-based-seismic-velocity-model-building/testC/'+str(kk)+'.npy','wb')\n",
    "    np.save(file,C)\n",
    "    file.close()\n",
    "            \n",
    "#train_set = train_set.reshape((train_size,in_channels,data_dsp_dim[0]*data_dsp_dim[1]))\n",
    "#label_set = label_set.reshape((train_size,1,label_dsp_dim[0]*label_dsp_dim[1]))\n",
    "    \n"
   ]
  },
  {
   "cell_type": "code",
   "execution_count": 228,
   "id": "b7f53427",
   "metadata": {},
   "outputs": [
    {
     "data": {
      "text/plain": [
       "(6, 1000, 70)"
      ]
     },
     "execution_count": 228,
     "metadata": {},
     "output_type": "execute_result"
    }
   ],
   "source": [
    "np.shape(A)"
   ]
  },
  {
   "cell_type": "code",
   "execution_count": 229,
   "id": "4e8434ca",
   "metadata": {},
   "outputs": [
    {
     "data": {
      "text/plain": [
       "(6, 1000, 70)"
      ]
     },
     "execution_count": 229,
     "metadata": {},
     "output_type": "execute_result"
    }
   ],
   "source": [
    "np.shape(A)"
   ]
  },
  {
   "cell_type": "code",
   "execution_count": 230,
   "id": "718319ac",
   "metadata": {},
   "outputs": [
    {
     "data": {
      "text/plain": [
       "<matplotlib.image.AxesImage at 0x7fd323832b38>"
      ]
     },
     "execution_count": 230,
     "metadata": {},
     "output_type": "execute_result"
    },
    {
     "data": {
      "image/png": "[encoded data removed]",
      "text/plain": [
       "<Figure size 432x288 with 1 Axes>"
      ]
     },
     "metadata": {
      "needs_background": "light"
     },
     "output_type": "display_data"
    }
   ],
   "source": [
    "plt.imshow(C)"
   ]
  },
  {
   "cell_type": "code",
   "execution_count": 231,
   "id": "c6ed984d",
   "metadata": {},
   "outputs": [
    {
     "data": {
      "text/plain": [
       "<matplotlib.image.AxesImage at 0x7fd3237b7ac8>"
      ]
     },
     "execution_count": 231,
     "metadata": {},
     "output_type": "execute_result"
    },
    {
     "data": {
      "image/png": "[encoded data removed]",
      "text/plain": [
       "<Figure size 432x288 with 1 Axes>"
      ]
     },
     "metadata": {
      "needs_background": "light"
     },
     "output_type": "display_data"
    }
   ],
   "source": [
    "plt.imshow(B)"
   ]
  },
  {
   "cell_type": "code",
   "execution_count": 232,
   "id": "90733a92",
   "metadata": {},
   "outputs": [
    {
     "data": {
      "text/plain": [
       "<matplotlib.image.AxesImage at 0x7fd323729c88>"
      ]
     },
     "execution_count": 232,
     "metadata": {},
     "output_type": "execute_result"
    },
    {
     "data": {
      "image/png": "[encoded data removed]",
      "text/plain": [
       "<Figure size 432x288 with 1 Axes>"
      ]
     },
     "metadata": {
      "needs_background": "light"
     },
     "output_type": "display_data"
    }
   ],
   "source": [
    "#rt = B\n",
    "#rt[0:70,:]=B[:,35]\n",
    "plt.imshow(B)"
   ]
  },
  {
   "cell_type": "code",
   "execution_count": 233,
   "id": "f9e190b9",
   "metadata": {},
   "outputs": [
    {
     "data": {
      "text/plain": [
       "<matplotlib.image.AxesImage at 0x7fd3237395c0>"
      ]
     },
     "execution_count": 233,
     "metadata": {},
     "output_type": "execute_result"
    },
    {
     "data": {
      "image/png": "[encoded data removed]",
      "text/plain": [
       "<Figure size 432x288 with 1 Axes>"
      ]
     },
     "metadata": {
      "needs_background": "light"
     },
     "output_type": "display_data"
    }
   ],
   "source": [
    "rt = np.ones(np.shape(B))\n",
    "plt.imshow(rt)\n",
    "rt[:,0:70] = B[:,35]\n",
    "plt.imshow(rt)"
   ]
  },
  {
   "cell_type": "code",
   "execution_count": 234,
   "id": "435817ab",
   "metadata": {},
   "outputs": [
    {
     "data": {
      "text/plain": [
       "3000.0"
      ]
     },
     "execution_count": 234,
     "metadata": {},
     "output_type": "execute_result"
    },
    {
     "data": {
      "image/png": "[encoded data removed]",
      "text/plain": [
       "<Figure size 432x288 with 2 Axes>"
      ]
     },
     "metadata": {
      "needs_background": "light"
     },
     "output_type": "display_data"
    }
   ],
   "source": [
    "plt.imshow(B)\n",
    "plt.colorbar()\n",
    "np.min(B)"
   ]
  },
  {
   "cell_type": "code",
   "execution_count": 235,
   "id": "5c1d283e",
   "metadata": {},
   "outputs": [],
   "source": [
    "import matplotlib.pyplot as plt\n",
    "from mpl_toolkits.axes_grid1 import make_axes_locatable, axes_size\n",
    "# Define a plot function to plot two slices. Made some modifications to fit a colorbar to it.\n",
    "def plot_two_slices(data1,data2,title1='',title2=''):\n",
    "    aspect = 20\n",
    "    pad_fraction = 0.5\n",
    "    \n",
    "    #gs = plt.GridSpec(1, 1)\n",
    "    fig,ax = plt.subplots(1,2, figsize = (20,40));\n",
    "\n",
    "    # Plot the first section\n",
    "    im1 = ax[0].imshow(np.squeeze(data1))\n",
    "\n",
    "    ax[0].set(title=title1)\n",
    "    divider = make_axes_locatable(ax[0])\n",
    "    width = axes_size.AxesY(ax[0], aspect=1./aspect)\n",
    "    pad = axes_size.Fraction(pad_fraction, width)\n",
    "    cax = divider.append_axes(\"right\", size=width, pad=pad)\n",
    "    plt.colorbar(im1, cax=cax)\n",
    "    \n",
    "    #Plot the second section\n",
    "    im2 = ax[1].imshow(np.squeeze(data2))\n",
    "\n",
    "    ax[1].set(title=title2)\n",
    "    divider = make_axes_locatable(ax[1])\n",
    "    width = axes_size.AxesY(ax[1], aspect=1./aspect)\n",
    "    pad = axes_size.Fraction(pad_fraction, width)\n",
    "    cax = divider.append_axes(\"right\", size=width, pad=pad)\n",
    "    plt.colorbar(im2, cax=cax)\n",
    "    \n",
    "    plt.subplots_adjust(wspace = 0.2)\n",
    "    #plt.colorbar(im, ax=ax)\n",
    "    plt.show()"
   ]
  },
  {
   "cell_type": "code",
   "execution_count": 291,
   "id": "5ef5409e",
   "metadata": {},
   "outputs": [],
   "source": [
    "from skimage.metrics import mean_squared_error\n",
    "from skimage.metrics import structural_similarity as ssim\n",
    "tex = 9\n",
    "realization = 100\n",
    "def plotRealVel(starting):\n",
    "    \n",
    "    #create figure\n",
    "    fig = plt.figure(figsize=(9,9))\n",
    "    #ax.axis('off')\n",
    "    \n",
    "    rows = 3\n",
    "    columns = 3\n",
    "    \n",
    "    for i in range(tex):\n",
    "        ax = fig.add_subplot(rows,columns,i+1)\n",
    "        #kk=starting+i\n",
    "        filename='/disk/student/adhara/Fall2021/FCNVMB-Deep-learning-based-seismic-velocity-model-building/Output0/'+str(starting+i+1)+'_real_BT.npy'\n",
    "        mat=np.load(filename)\n",
    "        mat = mat\n",
    "        fig.add_subplot(rows, columns, i+1)\n",
    "        plt.imshow(np.squeeze(mat))\n",
    "        plt.colorbar()\n",
    "        plt.axis('off')\n",
    "        plt.tight_layout()\n",
    "        #ax.box(False)\n",
    "        ax.spines['top'].set_visible(False)\n",
    "        ax.spines['bottom'].set_visible(False)\n",
    "        ax.spines['right'].set_visible(False)\n",
    "        ax.spines['left'].set_visible(False)\n",
    "        ax.axis('off')\n",
    "        \n",
    "        \n",
    "def plotFakeVel(starting):\n",
    "    \n",
    "    #create figure\n",
    "    fig = plt.figure(figsize=(9,9))\n",
    "    \n",
    "    rows = 3\n",
    "    columns = 3\n",
    "    \n",
    "    for i in range(tex):\n",
    "        ax = fig.add_subplot(rows,columns,i+1)\n",
    "        #kk=starting+i\n",
    "        filename='/disk/student/adhara/Fall2021/FCNVMB-Deep-learning-based-seismic-velocity-model-building/Output0/'+str(starting+i+1)+'_fake_BT.npy'\n",
    "        mat=np.load(filename)\n",
    "        mat = mat*10\n",
    "        filename='/disk/student/adhara/Fall2021/FCNVMB-Deep-learning-based-seismic-velocity-model-building/Output0/'+str(starting+i+1)+'_real_BT.npy'\n",
    "        real=np.load(filename)\n",
    "        real = real*10\n",
    "        mat = np.squeeze(mat)\n",
    "        real = np.squeeze(real)\n",
    "        mat = np.clip(mat,np.min(real),np.max(real))\n",
    "        #print(\"shape of mat :\", np.shape(mat))\n",
    "        #print(\"shape of real :\", np.shape(real))\n",
    "        mse = mean_squared_error(mat,real)\n",
    "        ssim1 = ssim(mat,real)\n",
    "        fig.add_subplot(rows, columns, i+1)\n",
    "        plt.imshow(np.squeeze(mat),cmap='jet',vmin=np.min(real),vmax=np.max(real))\n",
    "        plt.colorbar()\n",
    "        plt.axis('off')\n",
    "        plt.tight_layout()\n",
    "        ax.spines['top'].set_visible(False)\n",
    "        ax.spines['bottom'].set_visible(False)\n",
    "        ax.spines['right'].set_visible(False)\n",
    "        ax.spines['left'].set_visible(False)\n",
    "        ax.axis('off')\n",
    "        ax.set_title('SSIM:'+\"%0.2f\"%ssim1+' MSE:'+\"%0.3f\"%mse)\n",
    "        \n",
    "        \n",
    "        \n",
    "def plotFakeVelNewMean(starting):\n",
    "    \n",
    "    #create figure\n",
    "    fig1 = plt.figure(figsize=(9,9))\n",
    "    #fig2 = plt.figure(figsize=(15,15))\n",
    "    \n",
    "    rows = 3\n",
    "    columns = 3\n",
    "    matVel = np.zeros((realization,tex,101,101))\n",
    "    real = np.zeros((tex,101,101))\n",
    "    for k in range(realization):\n",
    "        filename='/disk/student/adhara/Fall2021/FCNVMB-Deep-learning-based-seismic-velocity-model-building/Output'+str(k)+'/'    \n",
    "        for i in range(tex):\n",
    "            #fig.add_subplot(rows,columns,i+1)\n",
    "            #kk=starting+i\n",
    "            onefile = filename+str(starting+i+1)+'_fake_BT.npy'\n",
    "            mat=np.load(onefile)\n",
    "            mat = mat\n",
    "            matVel[k,i,:,:] = mat\n",
    "            \n",
    "    for i in range(tex):\n",
    "        filename ='/disk/student/adhara/Fall2021/FCNVMB-Deep-learning-based-seismic-velocity-model-building/Output0/'\n",
    "        onefile = filename+str(starting+i+1)+'_real_BT.npy'\n",
    "        mat = np.load(onefile)\n",
    "        mat = np.squeeze(mat)\n",
    "        real[i,:,:] = mat\n",
    "        \n",
    "            \n",
    "    mean = np.mean(matVel,axis=0)\n",
    "    std = np.std(matVel,axis=0)\n",
    "    \n",
    " \n",
    "    #plt.imshow(mean[0,:,:])\n",
    "    \n",
    "    #print(\"mean :\", mean[0,:,:])\n",
    "    \n",
    "    for i in range(tex):\n",
    "        ax = fig1.add_subplot(rows,columns,i+1)\n",
    "        mse = mean_squared_error(mean[i,:,:],real[i,:,:])\n",
    "        ssim1 = ssim(mean[i,:,:],real[i,:,:])\n",
    "    #    #kk=starting+i\n",
    "        plt.imshow(mean[i,:,:],vmin=2000,vmax=4500)\n",
    "        plt.colorbar()\n",
    "        plt.axis('off')\n",
    "        plt.tight_layout()\n",
    "        ax.spines['top'].set_visible(False)\n",
    "        ax.spines['bottom'].set_visible(False)\n",
    "        ax.spines['right'].set_visible(False)\n",
    "        ax.spines['left'].set_visible(False)\n",
    "        ax.axis('off')\n",
    "        ax.set_title('SSIM:'+\"%0.2f\"%ssim1+' MSE:'+\"%0.3f\"%mse)\n",
    "        \n",
    "\n",
    "def plotFakeVelNewStd(starting):\n",
    "    \n",
    "    #create figure\n",
    "    fig1 = plt.figure(figsize=(9,9))\n",
    "    #fig2 = plt.figure(figsize=(15,15))\n",
    "    \n",
    "    rows = 3\n",
    "    columns = 3\n",
    "    matVel = np.zeros((realization,tex,101,101))\n",
    "    for k in range(realization):\n",
    "        filename='/disk/student/adhara/Fall2021/FCNVMB-Deep-learning-based-seismic-velocity-model-building/Output'+str(k)+'/'    \n",
    "        for i in range(tex):\n",
    "            #fig.add_subplot(rows,columns,i+1)\n",
    "            #kk=starting+i\n",
    "            onefile = filename+str(starting+i+1)+'_fake_BT.npy'\n",
    "            mat=np.load(onefile)\n",
    "            mat = mat\n",
    "            matVel[k,i,:,:] = mat\n",
    "            \n",
    "    mean = np.mean(matVel,axis=0)\n",
    "    #std = np.std(matVel,axis=0)\n",
    "    \n",
    "    #plt.imshow(mean[0,:,:])\n",
    "    \n",
    "    #print(\"mean :\", mean[0,:,:])\n",
    "    \n",
    "    for i in range(tex):\n",
    "        ax = fig1.add_subplot(rows,columns,i+1)\n",
    "    #    #kk=starting+i\n",
    "        po = matVel[:,i,:,:]\n",
    "        std1 = np.std(po,axis=0)\n",
    "        #std = np.std(matVel[:,i,:,:],axis=0)\n",
    "        plt.imshow(std1)\n",
    "        plt.colorbar()\n",
    "        plt.axis('off')\n",
    "        plt.tight_layout()\n",
    "        ax.spines['top'].set_visible(False)\n",
    "        ax.spines['bottom'].set_visible(False)\n",
    "        ax.spines['right'].set_visible(False)\n",
    "        ax.spines['left'].set_visible(False)\n",
    "        ax.axis('off')\n",
    "        \n",
    "def plotOneVel(i):\n",
    "        \n",
    "    #create figure\n",
    "    fig1 = plt.figure(figsize=(9,9))\n",
    "    #fig2 = plt.figure(figsize=(5,5))\n",
    "    #fig2 = plt.figure(figsize=(15,15))\n",
    "    \n",
    "    filename='/disk/student/adhara/Fall2021/FCNVMB-Deep-learning-based-seismic-velocity-model-building/Output'+str(0)+'/'    \n",
    "        #fig.add_subplot(rows,columns,i+1)\n",
    "        #kk=starting+i\n",
    "    onefilef = filename+str(i)+'_real_BT.npy'\n",
    "    matt=np.load(onefilef)\n",
    "    matt = matt\n",
    "    #matVel[k,:,:] = mat\n",
    "\n",
    "    rows = 3\n",
    "    columns = 1\n",
    "    matVel = np.zeros((realization,101,101))\n",
    "    for k in range(realization):\n",
    "        filename='/disk/student/adhara/Fall2021/FCNVMB-Deep-learning-based-seismic-velocity-model-building/Output'+str(k)+'/'    \n",
    "        #fig.add_subplot(rows,columns,i+1)\n",
    "        #kk=starting+i\n",
    "        onefilef = filename+str(i)+'_fake_BT.npy'\n",
    "        mat=np.load(onefilef)\n",
    "        mat = mat\n",
    "        matVel[k,:,:] = mat\n",
    "        \n",
    "    mean = np.mean(matVel, axis=0)\n",
    "    std = np.std(matVel, axis=0)\n",
    "    \n",
    "    ax = fig1.add_subplot(rows,columns,3)\n",
    "    #kk=starting+i\n",
    "    plt.imshow(std[:,:])\n",
    "    np.save('stdvaenormalizing'+str(i)+'.npy',std)\n",
    "    plt.colorbar()\n",
    "    plt.axis('off')\n",
    "    plt.tight_layout()\n",
    "    ax.spines['top'].set_visible(False)\n",
    "    ax.spines['bottom'].set_visible(False)\n",
    "    ax.spines['right'].set_visible(False)\n",
    "    ax.spines['left'].set_visible(False)\n",
    "    ax.axis('off')\n",
    "        \n",
    "    ax = fig1.add_subplot(rows,columns,2)\n",
    "    #kk=starting+i\n",
    "    plt.imshow(mean[:,:],vmin=2000,vmax=4500)\n",
    "    np.save('meanvaenormalizing'+str(i)+'.npy',mean)\n",
    "    plt.colorbar()\n",
    "    plt.axis('off')\n",
    "    plt.tight_layout()\n",
    "    ax.spines['top'].set_visible(False)\n",
    "    ax.spines['bottom'].set_visible(False)\n",
    "    ax.spines['right'].set_visible(False)\n",
    "    ax.spines['left'].set_visible(False)\n",
    "    ax.axis('off')\n",
    "    \n",
    "    ax = fig1.add_subplot(rows,columns,1)\n",
    "    #kk=starting+i\n",
    "    plt.imshow(np.squeeze(matt),vmin=2000,vmax=4500)\n",
    "    np.save('truevaenormalizing'+str(i)+'.npy',mean)         \n",
    "    plt.colorbar()\n",
    "    plt.axis('off')\n",
    "    plt.tight_layout()\n",
    "    ax.spines['top'].set_visible(False)\n",
    "    ax.spines['bottom'].set_visible(False)\n",
    "    ax.spines['right'].set_visible(False)\n",
    "    ax.spines['left'].set_visible(False)\n",
    "    ax.axis('off')\n",
    " \n",
    "        #fig.add_subplot(rows, columns, i+1)\n",
    "        #plt.imshow(np.squeeze(mat))\n",
    "        #plt.colorbar()\n",
    "        #plt.axis('off')\n",
    "        #plt.tight_layout()\n",
    "        \n",
    "        \n",
    "def plotOneRealFalse(i):\n",
    "        \n",
    "    #create figure\n",
    "    fig1 = plt.figure(figsize=(9,9))\n",
    "    #fig2 = plt.figure(figsize=(5,5))\n",
    "    #fig2 = plt.figure(figsize=(15,15))\n",
    "    \n",
    "    filename='/disk/student/adhara/Fall2021/FCNVMB-Deep-learning-based-seismic-velocity-model-building/Output'+str(0)+'/'    \n",
    "        #fig.add_subplot(rows,columns,i+1)\n",
    "        #kk=starting+i\n",
    "    onefilef = filename+str(i)+'_real_BT.npy'\n",
    "    matt=np.load(onefilef)\n",
    "    matt = np.squeeze(matt)\n",
    "    matt = matt*10\n",
    "    #matVel[k,:,:] = mat\n",
    "\n",
    "    rows = 1\n",
    "    columns = 2\n",
    "    #matVel = np.zeros((15,101,101))\n",
    "    for k in range(1):\n",
    "        filename='/disk/student/adhara/Fall2021/FCNVMB-Deep-learning-based-seismic-velocity-model-building/Output'+str(k)+'/'    \n",
    "        #fig.add_subplot(rows,columns,i+1)\n",
    "        #kk=starting+i\n",
    "        onefilef = filename+str(i)+'_fake_BT.npy'\n",
    "        mat=np.load(onefilef)\n",
    "        mat = np.squeeze(mat)\n",
    "        mat = mat*10\n",
    "        #matVel[k,:,:] = mat\n",
    "        \n",
    "  \n",
    "    ax = fig1.add_subplot(rows,columns,1)\n",
    "    #kk=starting+i\n",
    "    im = plt.imshow(matt, vmin=np.min(matt), vmax=np.max(matt),cmap='jet')\n",
    "    divider = make_axes_locatable(ax)\n",
    "    cax = divider.append_axes(\"right\", size=\"5%\", pad=0.05)\n",
    "    plt.colorbar(im, cax=cax)\n",
    "    #plt.axis('off')\n",
    "    plt.tight_layout()\n",
    "    ax.spines['top'].set_visible(False)\n",
    "    ax.spines['bottom'].set_visible(False)\n",
    "    ax.spines['right'].set_visible(False)\n",
    "    ax.spines['left'].set_visible(False)\n",
    "    ax.axis('off')\n",
    "        \n",
    "    ax = fig1.add_subplot(rows,columns,2)\n",
    "    #kk=starting+i\n",
    "    im = plt.imshow(mat,vmin=np.min(matt), vmax=np.max(matt),cmap='jet')\n",
    "    divider = make_axes_locatable(ax)\n",
    "    cax = divider.append_axes(\"right\", size=\"5%\", pad=0.05)\n",
    "    plt.colorbar(im, cax=cax)\n",
    "    #plt.axis('off')\n",
    "    plt.tight_layout()\n",
    "    ax.spines['top'].set_visible(False)\n",
    "    ax.spines['bottom'].set_visible(False)\n",
    "    ax.spines['right'].set_visible(False)\n",
    "    ax.spines['left'].set_visible(False)\n",
    "    ax.axis('off')\n",
    "        #fig.add_subplot(rows, columns, i+1)\n",
    "        #plt.imshow(np.squeeze(mat))\n",
    "        #plt.colorbar()\n",
    "        #plt.axis('off')\n",
    "        #plt.tight_layout()\n",
    "        "
   ]
  },
  {
   "cell_type": "code",
   "execution_count": null,
   "id": "ffc84ff5",
   "metadata": {},
   "outputs": [],
   "source": [
    "plotOneVel(97)"
   ]
  },
  {
   "cell_type": "code",
   "execution_count": null,
   "id": "dcad306d",
   "metadata": {
    "scrolled": true
   },
   "outputs": [],
   "source": []
  },
  {
   "cell_type": "code",
   "execution_count": null,
   "id": "42451f26",
   "metadata": {},
   "outputs": [],
   "source": [
    "plotFakeVelNewMean(90)"
   ]
  },
  {
   "cell_type": "code",
   "execution_count": null,
   "id": "0067ac5e",
   "metadata": {},
   "outputs": [],
   "source": [
    "plotFakeVelNewStd(90)"
   ]
  },
  {
   "cell_type": "code",
   "execution_count": null,
   "id": "b252e2ad",
   "metadata": {},
   "outputs": [],
   "source": [
    "plotRealVel(30)"
   ]
  },
  {
   "cell_type": "code",
   "execution_count": null,
   "id": "3b4a9084",
   "metadata": {},
   "outputs": [],
   "source": [
    "plotFakeVel(41)"
   ]
  },
  {
   "cell_type": "code",
   "execution_count": null,
   "id": "d84a1f4c",
   "metadata": {},
   "outputs": [],
   "source": [
    "plotRealVel(41)"
   ]
  },
  {
   "cell_type": "markdown",
   "id": "327804a9",
   "metadata": {},
   "source": [
    "#### real = np.load('/disk/student/adhara/Fall2021/FCNVMB-Deep-learning-based-seismic-velocity-model-building/Output/_real_BT.npy')\n",
    "fake = np.load('/disk/student/adhara/Fall2021/FCNVMB-Deep-learning-based-seismic-velocity-model-building/Output/1_fake_BT.npy')\n",
    "real = real*(4500-2000)+2000\n",
    "fake = fake*(4500-2000)+2000\n",
    "plot_two_slices(real,fake,title1='real',title2='fake')"
   ]
  },
  {
   "cell_type": "code",
   "execution_count": null,
   "id": "ec0a511d",
   "metadata": {},
   "outputs": [],
   "source": [
    "real = np.load('/disk/student/adhara/Fall2021/FCNVMB-Deep-learning-based-seismic-velocity-model-building/Output/30_real_BT.npy')\n",
    "fake = np.load('/disk/student/adhara/Fall2021/FCNVMB-Deep-learning-based-seismic-velocity-model-building/Output/30_fake_BT.npy')\n",
    "real = real*(4500-2000)+2000\n",
    "fake = fake*(4500-2000)+2000\n",
    "plot_two_slices(real,fake,title1='real',title2='fake')"
   ]
  },
  {
   "cell_type": "code",
   "execution_count": null,
   "id": "9f6897ca",
   "metadata": {},
   "outputs": [],
   "source": [
    "data = np.load('/disk/student/adhara/Fall2021/FCNVMB-Deep-learning-based-seismic-velocity-model-building/trainA/30.npy')\n",
    "np.shape(data)\n"
   ]
  },
  {
   "cell_type": "code",
   "execution_count": null,
   "id": "1b532cc4",
   "metadata": {},
   "outputs": [],
   "source": [
    "plt.figure(figsize=(12, 3))\n",
    "plt.imshow(np.squeeze(data[7,:,:]),vmin=-.05,vmax=.05, aspect='auto')\n",
    "plt.title('data')"
   ]
  },
  {
   "cell_type": "code",
   "execution_count": null,
   "id": "71833edd",
   "metadata": {},
   "outputs": [],
   "source": [
    "po1 = np.load('/glb/hou/pt.sgs/data/ml_ai_us/4d/usadh7/github_repos/FCNVMB-Deep-learning-based-seismic-velocity-model-building/ftout1.npy')\n",
    "po2 = np.load('/glb/hou/pt.sgs/data/ml_ai_us/4d/usadh7/github_repos/FCNVMB-Deep-learning-based-seismic-velocity-model-building/ftout2.npy')"
   ]
  },
  {
   "cell_type": "code",
   "execution_count": null,
   "id": "47a4e86e",
   "metadata": {},
   "outputs": [],
   "source": [
    "plot_two_slices(po1,po2,title1='t1',title2='t2')"
   ]
  },
  {
   "cell_type": "code",
   "execution_count": null,
   "id": "7021f2d9",
   "metadata": {},
   "outputs": [],
   "source": [
    "plt.imshow(po1-po2)"
   ]
  },
  {
   "cell_type": "code",
   "execution_count": null,
   "id": "04cb0bdd",
   "metadata": {},
   "outputs": [],
   "source": [
    "with open('/disk/student/adhara/Fall2021/PhysicsBasedFWI/checkpoints/Auto2SaltPhy64/loss_log.txt') as f:\n",
    "    lines = f.readlines()\n",
    "epochs = []\n",
    "mls = []\n",
    "vls = []\n",
    "kls = []\n",
    "for i in range(1,81):\n",
    "    #print(\"i:\",i)\n",
    "    po = lines[i].split(')')\n",
    "    string1 = po[0][1:]\n",
    "    string2 = po[1]\n",
    "    result1 = dict((a.strip(), int(b.strip()))  \n",
    "                         for a, b in (element.split(':')  \n",
    "                                      for element in string1.split(', ')))  \n",
    "    epoch = int(result1['epoch'])\n",
    "    result2 = string2.split(' ')\n",
    "    modelloss = float(result2[2])\n",
    "    validationloss = float(result2[6])\n",
    "    klloss = float(result2[9])\n",
    "    epochs = np.append(epochs,epoch)\n",
    "    mls = np.append(mls,modelloss)\n",
    "    vls = np.append(vls,validationloss)\n",
    "    kls = np.append(kls,klloss)"
   ]
  },
  {
   "cell_type": "code",
   "execution_count": null,
   "id": "89ccd080",
   "metadata": {},
   "outputs": [],
   "source": [
    "#plt.plot(epochs,mls)\n",
    "plt.figure(figsize=(12, 3))\n",
    "plt.plot(epochs,mls/np.max(mls),linewidth=3.0)\n",
    "plt.plot(epochs,kls/np.max(kls),linewidth=3.0)\n",
    "plt.plot(epochs,vls/np.max(vls),linewidth=3.0)\n",
    "plt.grid()"
   ]
  },
  {
   "cell_type": "code",
   "execution_count": null,
   "id": "a9527802",
   "metadata": {},
   "outputs": [],
   "source": [
    "po"
   ]
  },
  {
   "cell_type": "code",
   "execution_count": null,
   "id": "132a8d47",
   "metadata": {},
   "outputs": [],
   "source": [
    "result2"
   ]
  },
  {
   "cell_type": "code",
   "execution_count": null,
   "id": "fbd6a7e5",
   "metadata": {},
   "outputs": [],
   "source": []
  }
 ],
 "metadata": {
  "kernelspec": {
   "display_name": "Python 3 (ipykernel)",
   "language": "python",
   "name": "python3"
  },
  "language_info": {
   "codemirror_mode": {
    "name": "ipython",
    "version": 3
   },
   "file_extension": ".py",
   "mimetype": "text/x-python",
   "name": "python",
   "nbconvert_exporter": "python",
   "pygments_lexer": "ipython3",
   "version": "3.7.3"
  }
 },
 "nbformat": 4,
 "nbformat_minor": 5
}
