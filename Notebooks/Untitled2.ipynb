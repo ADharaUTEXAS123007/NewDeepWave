{
 "cells": [
  {
   "cell_type": "code",
   "execution_count": null,
   "id": "d60b37e8",
   "metadata": {},
   "outputs": [],
   "source": [
    "#Save the below parameters to output.txt file\n",
    "%logstart -o -r -t -q output.txt rotate"
   ]
  },
  {
   "cell_type": "code",
   "execution_count": null,
   "id": "fdb27e5d",
   "metadata": {},
   "outputs": [],
   "source": []
  }
 ],
 "metadata": {
  "kernelspec": {
   "display_name": "Python 3 (ipykernel)",
   "language": "python",
   "name": "python3"
  }
 },
 "nbformat": 4,
 "nbformat_minor": 5
}
